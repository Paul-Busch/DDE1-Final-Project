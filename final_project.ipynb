{
 "cells": [
  {
   "cell_type": "markdown",
   "metadata": {},
   "source": [
    "# PROBLEM DEFINITION\n",
    "\n",
    "Time series forecasting is one of the biggest challenges in ML. Many have tried to forecast the stock market and many have failed.\n",
    "The original goal is to predict the stock price of a market or a company to see if it is worth investing in that stock.\n",
    "I want to show that we can approach this problem with a different approach.\n",
    "\n",
    "My goal:\n",
    "- Find an alternative approach to find the right moment to invest with the help of AI\n",
    "\n",
    "\n",
    "This approach does not try to predict the exact value of the stock price but it tries to classify or time-series, so that we know if it is a good time to invest or not.\n",
    "<br>\n",
    "For this we will use some feature engineering to label our data in\n",
    "- Class 0: Mean stock price for the next 45 days is lower as the stock price of the last 45 days\n",
    "- Class 1: Mean stock price for the next 45 days is higher as the stock price of the last 45 days \n",
    "\n",
    "\n",
    "Further we will use an algorithm to extract low dimensional features from our time-series (for more information see chapter ). The idea is inspired by this paper:\n",
    "Ye, L., Keogh, E. Time series shapelets: a novel technique that allows accurate, interpretable and fast classification. Data Min Knowl Disc 22, 149–182 (2011). https://doi.org/10.1007/s10618-010-0179-5\n",
    "<br>\n",
    "The implementation of this algorithm can be found here:\n",
    "https://github.com/papelero/greedy_shapelets\n",
    "\n",
    "Then we will use these low dimensional features to classify our data with basic ML classification models.\n",
    "\n",
    "\n",
    "\n",
    "\n",
    "\n",
    "----------------------------------------------------------------------------------------------------------------------------------\n",
    "Note on Run-Time:\n",
    "<br>\n",
    "Calculating the shapelets can take some time. I tried to limit it by just calculating 3 shapelets. Anyway I highly recommend to skip this calculation and to use the existing model.\n",
    "\n",
    "----------------------------------------------------------------------------------------------------------------------------------------\n",
    "For financial references see:\n",
    "<br>\n",
    "Long position to bet on rising share prices: https://en.wikipedia.org/wiki/Long_(finance)\n",
    "<br>\n",
    "Short position to bet on falling share prices: https://en.wikipedia.org/wiki/Short_(finance)\n"
   ]
  },
  {
   "cell_type": "markdown",
   "metadata": {},
   "source": [
    "# 1. PREPARING THE ENVIRONMENT"
   ]
  },
  {
   "cell_type": "code",
   "execution_count": 159,
   "metadata": {},
   "outputs": [],
   "source": [
    "import pandas as pd\n",
    "import matplotlib\n",
    "import matplotlib.pyplot as plt\n",
    "import datetime\n",
    "import numpy as np\n",
    "import sklearn as sk\n",
    "import matplotlib.pyplot as plt \n",
    "import matplotlib.patches as mpatches\n",
    "import pandas as pd\n",
    "\n",
    "\n",
    "from utils.algorithm import GreedyShapeletSearch\n",
    "from utils.pipeline import features_transform, fit_classifier, train_predict"
   ]
  },
  {
   "cell_type": "markdown",
   "metadata": {},
   "source": [
    "# 2 DATA EXPLORATION AND PREPARATION"
   ]
  },
  {
   "cell_type": "markdown",
   "metadata": {},
   "source": [
    "## 2.1 PRE-PROCESSING\n",
    "\n",
    "Here we upload the stock data from Apple. The data has been selected randomly. But "
   ]
  },
  {
   "cell_type": "code",
   "execution_count": 160,
   "metadata": {},
   "outputs": [
    {
     "data": {
      "text/html": [
       "<div>\n",
       "<style scoped>\n",
       "    .dataframe tbody tr th:only-of-type {\n",
       "        vertical-align: middle;\n",
       "    }\n",
       "\n",
       "    .dataframe tbody tr th {\n",
       "        vertical-align: top;\n",
       "    }\n",
       "\n",
       "    .dataframe thead th {\n",
       "        text-align: right;\n",
       "    }\n",
       "</style>\n",
       "<table border=\"1\" class=\"dataframe\">\n",
       "  <thead>\n",
       "    <tr style=\"text-align: right;\">\n",
       "      <th></th>\n",
       "      <th>Date</th>\n",
       "      <th>Open</th>\n",
       "      <th>High</th>\n",
       "      <th>Low</th>\n",
       "      <th>Close</th>\n",
       "      <th>Volume</th>\n",
       "      <th>OpenInt</th>\n",
       "    </tr>\n",
       "  </thead>\n",
       "  <tbody>\n",
       "    <tr>\n",
       "      <th>0</th>\n",
       "      <td>1984-09-07</td>\n",
       "      <td>0.42388</td>\n",
       "      <td>0.42902</td>\n",
       "      <td>0.41874</td>\n",
       "      <td>0.42388</td>\n",
       "      <td>23220030</td>\n",
       "      <td>0</td>\n",
       "    </tr>\n",
       "    <tr>\n",
       "      <th>1</th>\n",
       "      <td>1984-09-10</td>\n",
       "      <td>0.42388</td>\n",
       "      <td>0.42516</td>\n",
       "      <td>0.41366</td>\n",
       "      <td>0.42134</td>\n",
       "      <td>18022532</td>\n",
       "      <td>0</td>\n",
       "    </tr>\n",
       "    <tr>\n",
       "      <th>2</th>\n",
       "      <td>1984-09-11</td>\n",
       "      <td>0.42516</td>\n",
       "      <td>0.43668</td>\n",
       "      <td>0.42516</td>\n",
       "      <td>0.42902</td>\n",
       "      <td>42498199</td>\n",
       "      <td>0</td>\n",
       "    </tr>\n",
       "    <tr>\n",
       "      <th>3</th>\n",
       "      <td>1984-09-12</td>\n",
       "      <td>0.42902</td>\n",
       "      <td>0.43157</td>\n",
       "      <td>0.41618</td>\n",
       "      <td>0.41618</td>\n",
       "      <td>37125801</td>\n",
       "      <td>0</td>\n",
       "    </tr>\n",
       "    <tr>\n",
       "      <th>4</th>\n",
       "      <td>1984-09-13</td>\n",
       "      <td>0.43927</td>\n",
       "      <td>0.44052</td>\n",
       "      <td>0.43927</td>\n",
       "      <td>0.43927</td>\n",
       "      <td>57822062</td>\n",
       "      <td>0</td>\n",
       "    </tr>\n",
       "  </tbody>\n",
       "</table>\n",
       "</div>"
      ],
      "text/plain": [
       "         Date     Open     High      Low    Close    Volume  OpenInt\n",
       "0  1984-09-07  0.42388  0.42902  0.41874  0.42388  23220030        0\n",
       "1  1984-09-10  0.42388  0.42516  0.41366  0.42134  18022532        0\n",
       "2  1984-09-11  0.42516  0.43668  0.42516  0.42902  42498199        0\n",
       "3  1984-09-12  0.42902  0.43157  0.41618  0.41618  37125801        0\n",
       "4  1984-09-13  0.43927  0.44052  0.43927  0.43927  57822062        0"
      ]
     },
     "execution_count": 160,
     "metadata": {},
     "output_type": "execute_result"
    }
   ],
   "source": [
    "df = pd.read_csv('aapl.txt', sep=\",\", header=0, index_col=False)\n",
    "#data.columns = [\"a\", \"b\", \"c\", \"etc.\"]\n",
    "\n",
    "df.head()"
   ]
  },
  {
   "cell_type": "code",
   "execution_count": 161,
   "metadata": {},
   "outputs": [
    {
     "name": "stdout",
     "output_type": "stream",
     "text": [
      "<class 'pandas.core.frame.DataFrame'>\n",
      "RangeIndex: 8364 entries, 0 to 8363\n",
      "Data columns (total 7 columns):\n",
      " #   Column   Non-Null Count  Dtype  \n",
      "---  ------   --------------  -----  \n",
      " 0   Date     8364 non-null   object \n",
      " 1   Open     8364 non-null   float64\n",
      " 2   High     8364 non-null   float64\n",
      " 3   Low      8364 non-null   float64\n",
      " 4   Close    8364 non-null   float64\n",
      " 5   Volume   8364 non-null   int64  \n",
      " 6   OpenInt  8364 non-null   int64  \n",
      "dtypes: float64(4), int64(2), object(1)\n",
      "memory usage: 457.5+ KB\n"
     ]
    }
   ],
   "source": [
    "df.info()"
   ]
  },
  {
   "cell_type": "markdown",
   "metadata": {},
   "source": [
    "The data looks clean. We do not have to drop any NaN values."
   ]
  },
  {
   "cell_type": "markdown",
   "metadata": {},
   "source": [
    "## 2.2 EXPLORE THE DATA"
   ]
  },
  {
   "cell_type": "markdown",
   "metadata": {},
   "source": [
    "Let's first see what the data looks like. The tail and head of the data will give us a first impression of the development of the data."
   ]
  },
  {
   "cell_type": "code",
   "execution_count": 162,
   "metadata": {},
   "outputs": [
    {
     "data": {
      "text/html": [
       "<div>\n",
       "<style scoped>\n",
       "    .dataframe tbody tr th:only-of-type {\n",
       "        vertical-align: middle;\n",
       "    }\n",
       "\n",
       "    .dataframe tbody tr th {\n",
       "        vertical-align: top;\n",
       "    }\n",
       "\n",
       "    .dataframe thead th {\n",
       "        text-align: right;\n",
       "    }\n",
       "</style>\n",
       "<table border=\"1\" class=\"dataframe\">\n",
       "  <thead>\n",
       "    <tr style=\"text-align: right;\">\n",
       "      <th></th>\n",
       "      <th>Date</th>\n",
       "      <th>Open</th>\n",
       "      <th>High</th>\n",
       "      <th>Low</th>\n",
       "      <th>Close</th>\n",
       "      <th>Volume</th>\n",
       "      <th>OpenInt</th>\n",
       "    </tr>\n",
       "  </thead>\n",
       "  <tbody>\n",
       "    <tr>\n",
       "      <th>0</th>\n",
       "      <td>1984-09-07</td>\n",
       "      <td>0.42388</td>\n",
       "      <td>0.42902</td>\n",
       "      <td>0.41874</td>\n",
       "      <td>0.42388</td>\n",
       "      <td>23220030</td>\n",
       "      <td>0</td>\n",
       "    </tr>\n",
       "    <tr>\n",
       "      <th>1</th>\n",
       "      <td>1984-09-10</td>\n",
       "      <td>0.42388</td>\n",
       "      <td>0.42516</td>\n",
       "      <td>0.41366</td>\n",
       "      <td>0.42134</td>\n",
       "      <td>18022532</td>\n",
       "      <td>0</td>\n",
       "    </tr>\n",
       "    <tr>\n",
       "      <th>2</th>\n",
       "      <td>1984-09-11</td>\n",
       "      <td>0.42516</td>\n",
       "      <td>0.43668</td>\n",
       "      <td>0.42516</td>\n",
       "      <td>0.42902</td>\n",
       "      <td>42498199</td>\n",
       "      <td>0</td>\n",
       "    </tr>\n",
       "    <tr>\n",
       "      <th>3</th>\n",
       "      <td>1984-09-12</td>\n",
       "      <td>0.42902</td>\n",
       "      <td>0.43157</td>\n",
       "      <td>0.41618</td>\n",
       "      <td>0.41618</td>\n",
       "      <td>37125801</td>\n",
       "      <td>0</td>\n",
       "    </tr>\n",
       "    <tr>\n",
       "      <th>4</th>\n",
       "      <td>1984-09-13</td>\n",
       "      <td>0.43927</td>\n",
       "      <td>0.44052</td>\n",
       "      <td>0.43927</td>\n",
       "      <td>0.43927</td>\n",
       "      <td>57822062</td>\n",
       "      <td>0</td>\n",
       "    </tr>\n",
       "  </tbody>\n",
       "</table>\n",
       "</div>"
      ],
      "text/plain": [
       "         Date     Open     High      Low    Close    Volume  OpenInt\n",
       "0  1984-09-07  0.42388  0.42902  0.41874  0.42388  23220030        0\n",
       "1  1984-09-10  0.42388  0.42516  0.41366  0.42134  18022532        0\n",
       "2  1984-09-11  0.42516  0.43668  0.42516  0.42902  42498199        0\n",
       "3  1984-09-12  0.42902  0.43157  0.41618  0.41618  37125801        0\n",
       "4  1984-09-13  0.43927  0.44052  0.43927  0.43927  57822062        0"
      ]
     },
     "execution_count": 162,
     "metadata": {},
     "output_type": "execute_result"
    }
   ],
   "source": [
    "df.head()"
   ]
  },
  {
   "cell_type": "code",
   "execution_count": 163,
   "metadata": {},
   "outputs": [
    {
     "data": {
      "text/html": [
       "<div>\n",
       "<style scoped>\n",
       "    .dataframe tbody tr th:only-of-type {\n",
       "        vertical-align: middle;\n",
       "    }\n",
       "\n",
       "    .dataframe tbody tr th {\n",
       "        vertical-align: top;\n",
       "    }\n",
       "\n",
       "    .dataframe thead th {\n",
       "        text-align: right;\n",
       "    }\n",
       "</style>\n",
       "<table border=\"1\" class=\"dataframe\">\n",
       "  <thead>\n",
       "    <tr style=\"text-align: right;\">\n",
       "      <th></th>\n",
       "      <th>Date</th>\n",
       "      <th>Open</th>\n",
       "      <th>High</th>\n",
       "      <th>Low</th>\n",
       "      <th>Close</th>\n",
       "      <th>Volume</th>\n",
       "      <th>OpenInt</th>\n",
       "    </tr>\n",
       "  </thead>\n",
       "  <tbody>\n",
       "    <tr>\n",
       "      <th>8359</th>\n",
       "      <td>2017-11-06</td>\n",
       "      <td>171.75</td>\n",
       "      <td>174.36</td>\n",
       "      <td>171.10</td>\n",
       "      <td>173.63</td>\n",
       "      <td>34901241</td>\n",
       "      <td>0</td>\n",
       "    </tr>\n",
       "    <tr>\n",
       "      <th>8360</th>\n",
       "      <td>2017-11-07</td>\n",
       "      <td>173.29</td>\n",
       "      <td>174.51</td>\n",
       "      <td>173.29</td>\n",
       "      <td>174.18</td>\n",
       "      <td>24424877</td>\n",
       "      <td>0</td>\n",
       "    </tr>\n",
       "    <tr>\n",
       "      <th>8361</th>\n",
       "      <td>2017-11-08</td>\n",
       "      <td>174.03</td>\n",
       "      <td>175.61</td>\n",
       "      <td>173.71</td>\n",
       "      <td>175.61</td>\n",
       "      <td>24451166</td>\n",
       "      <td>0</td>\n",
       "    </tr>\n",
       "    <tr>\n",
       "      <th>8362</th>\n",
       "      <td>2017-11-09</td>\n",
       "      <td>174.48</td>\n",
       "      <td>175.46</td>\n",
       "      <td>172.52</td>\n",
       "      <td>175.25</td>\n",
       "      <td>29533086</td>\n",
       "      <td>0</td>\n",
       "    </tr>\n",
       "    <tr>\n",
       "      <th>8363</th>\n",
       "      <td>2017-11-10</td>\n",
       "      <td>175.11</td>\n",
       "      <td>175.38</td>\n",
       "      <td>174.27</td>\n",
       "      <td>174.67</td>\n",
       "      <td>25130494</td>\n",
       "      <td>0</td>\n",
       "    </tr>\n",
       "  </tbody>\n",
       "</table>\n",
       "</div>"
      ],
      "text/plain": [
       "            Date    Open    High     Low   Close    Volume  OpenInt\n",
       "8359  2017-11-06  171.75  174.36  171.10  173.63  34901241        0\n",
       "8360  2017-11-07  173.29  174.51  173.29  174.18  24424877        0\n",
       "8361  2017-11-08  174.03  175.61  173.71  175.61  24451166        0\n",
       "8362  2017-11-09  174.48  175.46  172.52  175.25  29533086        0\n",
       "8363  2017-11-10  175.11  175.38  174.27  174.67  25130494        0"
      ]
     },
     "execution_count": 163,
     "metadata": {},
     "output_type": "execute_result"
    }
   ],
   "source": [
    "df.tail()"
   ]
  },
  {
   "cell_type": "markdown",
   "metadata": {},
   "source": [
    "Let's check for NaN values:"
   ]
  },
  {
   "cell_type": "code",
   "execution_count": 164,
   "metadata": {},
   "outputs": [
    {
     "data": {
      "text/plain": [
       "Date       0\n",
       "Open       0\n",
       "High       0\n",
       "Low        0\n",
       "Close      0\n",
       "Volume     0\n",
       "OpenInt    0\n",
       "dtype: int64"
      ]
     },
     "execution_count": 164,
     "metadata": {},
     "output_type": "execute_result"
    }
   ],
   "source": [
    "df.isna().sum()"
   ]
  },
  {
   "cell_type": "code",
   "execution_count": 165,
   "metadata": {},
   "outputs": [],
   "source": [
    "def plot_stock_data(data_x, data_y):\n",
    "    '''\n",
    "    Plot the stock data.\n",
    "\n",
    "    Parameters:\n",
    "    -----------\n",
    "\n",
    "    data_x : Pandas DataFrame/ Series\n",
    "        Data for x-Axis. Must be Date!\n",
    "    data_y : Pandas DataFrame/ Series\n",
    "        Data for y-Axis \n",
    "\n",
    "    Raises:\n",
    "    -------\n",
    "    ValueError if Input data is not a pandas Series   \n",
    "    '''\n",
    "    if not (isinstance(data_x, pd.core.series.Series) or isinstance(data_y, pd.core.series.Series)):\n",
    "        raise ValueError('Input data must be pandas Series')\n",
    "\n",
    "    # get all years\n",
    "    df_start = pd.to_datetime(df['Date'].iloc[0])\n",
    "    df_end = pd.to_datetime(df['Date'].iloc[-1])\n",
    "    delta = df_end.year - df_start.year\n",
    "\n",
    "    # plot \n",
    "    plt.figure(figsize=(20,10))\n",
    "    plt.plot(data_x, data_y)\n",
    "    ax = plt.gca()\n",
    "    ax.xaxis.set_major_locator(matplotlib.ticker.LinearLocator(delta//2))  # all years // 2\n",
    "    ax.xaxis.set_major_formatter(matplotlib.dates.DateFormatter('%Y'))\n",
    "    ax.margins(x=0.01)\n",
    "    ax.set_facecolor('lightgrey')\n",
    "    plt.xlabel('Year', size=15)\n",
    "    plt.ylabel('Stock Price [USD]', size=15)\n",
    "    plt.title('APPLE STOCK PRICE DAILY HIGH', size=20)\n",
    "\n",
    "    plt.show()"
   ]
  },
  {
   "cell_type": "code",
   "execution_count": 166,
   "metadata": {},
   "outputs": [
    {
     "data": {
      "image/png": "[encoded data removed]",
      "text/plain": [
       "<Figure size 1440x720 with 1 Axes>"
      ]
     },
     "metadata": {
      "needs_background": "light"
     },
     "output_type": "display_data"
    }
   ],
   "source": [
    "plot_stock_data(df['Date'], df['High'])"
   ]
  },
  {
   "cell_type": "markdown",
   "metadata": {},
   "source": [
    "We can see that the data does not have any outlier as expected."
   ]
  },
  {
   "cell_type": "markdown",
   "metadata": {},
   "source": [
    "## 2.3 FEATURE ENGINEERING"
   ]
  },
  {
   "cell_type": "markdown",
   "metadata": {},
   "source": [
    "Our goal is to create a target array Y and to split our time series into subsequences. Later we will extract from every subsequence low dim. features. This will create our feature array X. "
   ]
  },
  {
   "cell_type": "code",
   "execution_count": 167,
   "metadata": {},
   "outputs": [],
   "source": [
    "class DataPreProcessor():\n",
    "    '''\n",
    "    Create new object for labelling data and split time series into evenly splitted subsequences.\n",
    "\n",
    "    Parameters:\n",
    "    -----------\n",
    "    ser : Pandas Series\n",
    "        Time series to train the algortihm on\n",
    "    subseq_len : int\n",
    "        Len of subsequences\n",
    "    calculate_max = bool, Default = True\n",
    "        Bool whether to take the max or the mean value for comparison of subseq[i] and subseq[i+1]\n",
    "\n",
    "\n",
    "    '''\n",
    "\n",
    "    def __init__(self, ser, subseq_len=60, calculate_max=False):\n",
    "        self.ser = ser\n",
    "        self.subseq_len = subseq_len\n",
    "        self.ser_truncated = None\n",
    "\n",
    "        # define evaluating function for prediction horizon: mean vs max\n",
    "        if calculate_max: \n",
    "            self.eval_func = self.get_max\n",
    "        else: \n",
    "            self.eval_func = self.get_mean\n",
    "\n",
    "\n",
    "    def split_ser_into_subsequences(self):\n",
    "        '''\n",
    "        Splits the series into subsequences.\n",
    "        If series cannot be splitted evenly, i.e. every subsequence has the same length, the series is truncated.\n",
    "\n",
    "        Returns:\n",
    "        --------\n",
    "        subseq-arrays : list of ndarrays\n",
    "            List of subsequences in chronological order. \n",
    "        '''\n",
    "        min_num_subseq = 100 # at least 100 instances to train the models -> arbitray choosen\n",
    "        mod = len(self.ser)%self.subseq_len\n",
    "\n",
    "        if len(self.ser)/self.subseq_len < min_num_subseq:\n",
    "            raise Warning('Series is not long enough. Model will be trained with less than 100 instances!')\n",
    "        if mod == 0:\n",
    "            return np.array_split(self.ser, len(self.ser)/self.subseq_len)\n",
    "        # truncate series so that it can be splitted evenly\n",
    "        self.ser_truncated = self.ser.iloc[mod:]\n",
    "        return np.array_split(self.ser_truncated, len(self.ser_truncated)/self.subseq_len)\n",
    "    \n",
    "\n",
    "    def label_data(self):\n",
    "        '''\n",
    "        Returns:\n",
    "        -------\n",
    "        y : np.array\n",
    "            Labelled array with 1 if next periodes (pred_horizon) max value/ mean value is greater than the previous\n",
    "        '''\n",
    "        X = self.split_ser_into_subsequences()\n",
    "        return np.array( [ 1 if self.eval_func(X[i+1])>self.eval_func(X[i]) else 0 for i in range(0, len(X) -1 ) ] )\n",
    "    \n",
    "\n",
    "    def get_max(self, x):\n",
    "        '''\n",
    "        Get the max value of a given series for a given prediction horizon.\n",
    "\n",
    "        Params:\n",
    "        -------\n",
    "        x : Pandas Series\n",
    "            Arbitary Subsequence \n",
    "\n",
    "        Returns:\n",
    "        --------\n",
    "        max-value : int\n",
    "            Max value of the given subsequence\n",
    "        ''' \n",
    "        return np.max(x)\n",
    "\n",
    "\n",
    "    def get_mean(self, x):\n",
    "        '''\n",
    "        Get the mean value of a given series for a given prediction horizon.\n",
    "\n",
    "        Params:\n",
    "        -------\n",
    "        x : Pandas Series\n",
    "            Arbitary Subsequence \n",
    "\n",
    "        Returns:\n",
    "        --------\n",
    "        mean-value : int\n",
    "            mean value of the given subsequence\n",
    "        ''' \n",
    "        return np.mean(x)\n",
    "    \n",
    "\n",
    "    def get_train_test_split(self):\n",
    "        '''\n",
    "        This Method returns the train and test set. See Returns!\n",
    "\n",
    "        Note: The array of subsequences is truncated since the last subsequence cannot be labeled.  \n",
    "\n",
    "        Returns\n",
    "        -------\n",
    "        splitting : list, [X_train, X_test, y_train, y_test]\n",
    "            List containing train-test split of inputs.\n",
    "        '''\n",
    "        # we cannot use the last subseq, since we have no label for it\n",
    "\n",
    "        X = self.split_ser_into_subsequences()[:-1]\n",
    "        y = self.label_data()\n",
    "\n",
    "        X_shuffled, y_shuffled = sk.utils.shuffle(X, y)\n",
    "        return sk.model_selection.train_test_split(X_shuffled, y_shuffled, test_size=0.33, random_state=42)\n"
   ]
  },
  {
   "cell_type": "markdown",
   "metadata": {},
   "source": [
    "Let's do an easy test if the labelfunction works correctly:"
   ]
  },
  {
   "cell_type": "code",
   "execution_count": 168,
   "metadata": {},
   "outputs": [
    {
     "name": "stdout",
     "output_type": "stream",
     "text": [
      "[1 0 0 1 1 1 1 0 1 1 1 1 0 1 1 0 0 0 1 0 1 0 1 0 0 1 1 0 1 1 1 0 0 1 0 0 0\n",
      " 1 1 0 1 1 1 0 1 0 0 0 0 1 0 0 0 1 0 1 1 1 0 1 1 1 1 1 1 0 0 0 1 0 0 1 1 0\n",
      " 0 1 0 1 1 0 1 1 1 1 1 0 1 1 1 0 0 1 1 1 1 1 1 0 1 0 0 1 1 1 1 1 1 1 1 1 1\n",
      " 1 1 1 1 1 1 0 0 0 1 1 0 1 1 1 1 1 0 0 0 1 1 1 1 1 1 1]\n"
     ]
    }
   ],
   "source": [
    "test_object = DataPreProcessor(df['High'], calculate_max=False)\n",
    "\n",
    "lst_of_subsequences = test_object.split_ser_into_subsequences()\n",
    "lst_of_labelled_data = test_object.label_data() \n",
    "\n",
    "print(lst_of_labelled_data)"
   ]
  },
  {
   "cell_type": "code",
   "execution_count": 169,
   "metadata": {},
   "outputs": [
    {
     "data": {
      "image/png": "[encoded data removed]",
      "text/plain": [
       "<Figure size 1332x756 with 1 Axes>"
      ]
     },
     "metadata": {
      "needs_background": "light"
     },
     "output_type": "display_data"
    }
   ],
   "source": [
    "# plot all subsequence in one figure\n",
    "for i, sample in enumerate(lst_of_subsequences):\n",
    "    plt.axvline(60*(i+1), color='k', linestyle='dotted', linewidth=1)\n",
    "    if lst_of_labelled_data[i-1] == 1:\n",
    "        plt.plot(sample,\"b\")\n",
    "    else:\n",
    "       plt.plot(sample,\"r\")\n",
    "\n",
    "fig = matplotlib.pyplot.gcf()\n",
    "fig.suptitle('Subsequences plotted in different colors according to their class', fontsize=15)\n",
    "fig.set_size_inches(18.5, 10.5)\n",
    "red_patch = mpatches.Patch(color='red', label='Mean stockprice of next subseq lower')\n",
    "blue_patch = mpatches.Patch(color='blue', label='Mean stockprice of next subseq higher')\n",
    "black_patch = mpatches.Patch(color='black', label='Line to delimit subsequences')\n",
    "plt.legend(handles=[red_patch, blue_patch, black_patch], prop={\"size\":15})\n",
    "plt.show()"
   ]
  },
  {
   "cell_type": "markdown",
   "metadata": {},
   "source": [
    "Obviously this is not a proof or a correct way to test software, but since this is a Notebook and not an application, I consider this way as sufficient. "
   ]
  },
  {
   "cell_type": "markdown",
   "metadata": {},
   "source": [
    "Now we have some tools for feature engineering. We can split a whole time-series into subsequences\n",
    "<br> \n",
    "and we can label these subsequences.\n",
    "<br> \n",
    "Note: these subsequences are still time-series data. \n",
    "\n",
    "Let's have a look:"
   ]
  },
  {
   "cell_type": "code",
   "execution_count": 170,
   "metadata": {
    "tags": []
   },
   "outputs": [],
   "source": [
    "# we only want to use the 'High' of the stock data per day\n",
    "ser = df['High']\n",
    "\n",
    "# init a DataPreProcessor object for getting our labeled data\n",
    "# our subseq_len is 45 that means \"45 days future prediciton\"\n",
    "DPP = DataPreProcessor(ser, subseq_len=45)\n",
    "\n",
    "# X are our subsequences and y is our target array:\n",
    "# get_train_test_split() shuffles the data for more generalization\n",
    "X_train, X_test, y_train, y_test = DPP.get_train_test_split()"
   ]
  },
  {
   "cell_type": "markdown",
   "metadata": {},
   "source": [
    "Let's have a look at our target array.\n",
    "<br>\n",
    "Remeber: We have two classes:\n",
    "\n",
    "Class 0: The mean share price (stock price) of the next chronological subsequence will decrease compared to the given subsequence.\n",
    "<br>\n",
    "Class 1: The mean share price (stock price) of the next chronological subsequence will decrease compared to the given subsequence.\n",
    "\n",
    "\n",
    "NOTE: In our y_train array we shuffled the data. So there is no chronological order!"
   ]
  },
  {
   "cell_type": "code",
   "execution_count": 171,
   "metadata": {},
   "outputs": [
    {
     "name": "stdout",
     "output_type": "stream",
     "text": [
      "[1 0 1 0 1 1 1 1 0 0 0 1 1 0 1 0 0 1 1 0 1 1 1 1 1 1 1 1 1 1 0 0 1 1 1 0 0\n",
      " 1 1 1 0 1 1 0 0 0 1 1 0 0 0 1 0 1 1 1 1 1 0 1 1 1 0 1 1 1 1 0 1 1 1 0 1 0\n",
      " 0 0 0 1 1 0 1 1 0 1 0 1 1 1 1 0 1 1 1 0 0 0 1 1 1 0 1 0 1 1 0 1 0 1 1 1 1\n",
      " 1 1 1 0 1 1 0 1 0 1 0 0]\n"
     ]
    }
   ],
   "source": [
    "print(y_train)"
   ]
  },
  {
   "cell_type": "markdown",
   "metadata": {},
   "source": [
    "We should check if our data is balanced:"
   ]
  },
  {
   "cell_type": "code",
   "execution_count": 172,
   "metadata": {},
   "outputs": [
    {
     "name": "stdout",
     "output_type": "stream",
     "text": [
      "Percentage of labelcode 1 in our dataset \n",
      " 0.6341463414634146\n"
     ]
    }
   ],
   "source": [
    "print(\"Percentage of labelcode 1 in our dataset \\n\", np.count_nonzero(y_train)/len(y_train))\n",
    "\n",
    "# --> our data is unbalanced"
   ]
  },
  {
   "cell_type": "markdown",
   "metadata": {},
   "source": [
    "Let's see how our data looks like! We will use a simple plot to visualize the data.\n",
    "<br>\n",
    "Remember that we got rid of the dates so we can only visualize the index.\n",
    "<br>\n",
    "As we can see from the target array \n",
    "\n",
    "You can see that the data is shuffled, since the index of the samples is not continous."
   ]
  },
  {
   "cell_type": "code",
   "execution_count": 173,
   "metadata": {},
   "outputs": [
    {
     "data": {
      "text/plain": [
       "Text(0.5, 1.0, 'Subsequence with Label 0')"
      ]
     },
     "execution_count": 173,
     "metadata": {},
     "output_type": "execute_result"
    },
    {
     "data": {
      "image/png": "[encoded data removed]",
      "text/plain": [
       "<Figure size 1332x576 with 4 Axes>"
      ]
     },
     "metadata": {
      "needs_background": "light"
     },
     "output_type": "display_data"
    }
   ],
   "source": [
    "#get idx for subsequences with label 1 and label 2\n",
    "idx_label_1 = [i for i in range(len(y_train)) if y_train[i]==1]\n",
    "idx_label_0 = [i for i in range(len(y_train)) if y_train[i]==0]\n",
    "\n",
    "fig, ((ax1, ax2), (ax3, ax4)) = plt.subplots(2, 2)\n",
    "fig.set_size_inches(18.5, 8)\n",
    "fig.suptitle('Four Subsequences from X_train', fontsize=20)\n",
    "ax1.plot(X_train[idx_label_1[0]])\n",
    "ax1.set_title('Subsequence with Label 1')\n",
    "ax2.plot(X_train[idx_label_1[1]], 'tab:orange')\n",
    "ax2.set_title('Subsequence with Label 1')\n",
    "ax3.plot(X_train[idx_label_0[0]], 'tab:green')\n",
    "ax3.set_title('Subsequence with Label 0')\n",
    "ax4.plot(X_train[idx_label_0[1]], 'tab:red')\n",
    "ax4.set_title('Subsequence with Label 0')"
   ]
  },
  {
   "cell_type": "markdown",
   "metadata": {},
   "source": [
    "For a financial greenhorn like me it is hard to interprete these plots but maybe the algorithm can find some pattern."
   ]
  },
  {
   "cell_type": "markdown",
   "metadata": {},
   "source": [
    "## 2.2 Feature Extraction"
   ]
  },
  {
   "cell_type": "markdown",
   "metadata": {},
   "source": [
    "Now that we have our data structured in labeled subsequences we can run our Greedy Shapelet Search algorithm. \n",
    "\n",
    "The algorithm searches for shapelets that are most representive of a class.\n",
    "<br>\n",
    "With the distance of the shapelet and the \n",
    "In the next cell I will explain a bit more about the algorithm. Note, that the algorithm used here is not exactly the same as described below. It is a variation of this basic algorithm."
   ]
  },
  {
   "cell_type": "markdown",
   "metadata": {},
   "source": [
    "<a id='anchor_feature_extraction'></a>\n",
    "If you are not interested in how the GreedyShapelet algorithm finds the best shapelet, you can skip this part!\n",
    "\n",
    "The simplest implementation of this algorithm is abrute force implementation:  \n",
    "\n",
    "1. Generate all possible shapelet candidates:\n",
    "<br>\n",
    "Candidates can be found by sliding a window of size l across all of the subsequences in X_train our data into subsequences. Sice l can vary from the shapelet_min_size to the shapelet_max_size. These candidates are saved in the candidate pool.\n",
    "\n",
    "2. Check how well a candidate can seperate our data into class 0 or class 1.\n",
    "<br>\n",
    "This is done by checking for every candidate and every subsequence in x_train the minimal distance of the subsequence and the candidate:\n",
    "<br>\n",
    "    Since we can only calculate the distance of time-series with the same length, a sliding window approach is used here. The distance of the candidate and a window of the subsequence can be found by calculating the euclidean distance (or more sophisticated time-series distances) of the candidate and the subsequence. Intuitively, this distance is simply the distance between the candidate and its best matching location of the given subsequence.\n",
    "<br>\n",
    "Now we have all the minimal distances from our candidate to our subsequences of x_train. We will use our label \n",
    "array to find an optimal splitting point. This splitting point is simply a distance treshold dividing our\n",
    "two classes.\n",
    "\n",
    "3. Now the information gain of every candidate can be calculated:\n",
    "<br>\n",
    "    The information gain explains how well the given splitting point can seperate our dataset x_train into\n",
    "    class 0 and 1.\n",
    "\n",
    "4. The candidate with the best information gain is choosen as our shapelet.\n",
    "\n",
    "5. Knowing the best n shaplets we can use the min distances of the shapelet and the subsequences of our dataset as n dimensional features.\n",
    "\n",
    "For more information check: \n",
    "Ye, L., Keogh, E. Time series shapelets: a novel technique that allows accurate, interpretable and fast classification. Data Min Knowl Disc 22, 149–182 (2011). https://doi.org/10.1007/s10618-010-0179-5\n"
   ]
  },
  {
   "cell_type": "code",
   "execution_count": 174,
   "metadata": {
    "tags": []
   },
   "outputs": [],
   "source": [
    "# The algorithm needs numpy arrays as input:\n",
    "\n",
    "X_train = np.array(X_train)\n",
    "X_test = np.array(X_test)\n",
    "\n",
    "# init new GSS object\n",
    "GSS = GreedyShapeletSearch()"
   ]
  },
  {
   "cell_type": "markdown",
   "metadata": {},
   "source": [
    "We can use the function `get_top_k_shapelets` from the object GSS, to calculate the top shapelets and save them as an attribute (`top_shapelets`) of GSS.\n",
    "\n",
    "n_shapelets:\n",
    "<br>\n",
    "For this we should decide on the number of top shapelets we want to use. This will have an linear impact on our dimension of our feature array.\n",
    "Every shapelet adds a feature column to our feature array. I tried different approaches for number of shapelets and min/max size of shapelets. \n",
    "The number 3 seems to be a good balance between runtime and results. \n",
    "\n",
    "shapelet_min_size & shapelet_max_size:\n",
    "<br>\n",
    "From previous tries I could see that shapelets with a size smaller than 15 have a smaller information gain, than those between 15 and 25.\n",
    "That is the reason for shapelet_min_size=15 and shapelet_max_size=25\n",
    "\n",
    "Note:\n",
    "<br>\n",
    "Since we have one data point for one day the shapelet_size corresponse to the days the shapelet is representing. With a shapelet_min_size of 15 we try to avoid daily fluctuations. \n",
    "\n",
    "\n",
    "\n",
    "\n"
   ]
  },
  {
   "cell_type": "code",
   "execution_count": 175,
   "metadata": {},
   "outputs": [
    {
     "name": "stdout",
     "output_type": "stream",
     "text": [
      "Searching for shapelet 1...\n"
     ]
    },
    {
     "name": "stderr",
     "output_type": "stream",
     "text": [
      "100%|██████████| 10/10 [02:02<00:00, 12.26s/it]\n"
     ]
    },
    {
     "name": "stdout",
     "output_type": "stream",
     "text": [
      "Found shapelet 1 at sample: 4, candidate: 2.\n",
      "Searching for shapelet 2...\n"
     ]
    },
    {
     "name": "stderr",
     "output_type": "stream",
     "text": [
      "100%|██████████| 10/10 [01:42<00:00, 10.21s/it]\n"
     ]
    },
    {
     "name": "stdout",
     "output_type": "stream",
     "text": [
      "Found shapelet 2 at sample: 46, candidate: 5.\n",
      "Searching for shapelet 3...\n"
     ]
    },
    {
     "name": "stderr",
     "output_type": "stream",
     "text": [
      "100%|██████████| 10/10 [01:56<00:00, 11.63s/it]"
     ]
    },
    {
     "name": "stdout",
     "output_type": "stream",
     "text": [
      "Found shapelet 3 at sample: 62, candidate: 11.\n"
     ]
    },
    {
     "name": "stderr",
     "output_type": "stream",
     "text": [
      "\n"
     ]
    }
   ],
   "source": [
    " # calculate top shapelets\n",
    " # we will start with the top 3 shapelets -> that means we will have a 3 dimensional feature array\n",
    " # shapelet min size is set to 15 (15 days) \n",
    "GSS.get_top_k_shapelets(\n",
    "    X_train = X_train, \n",
    "    y_train = y_train, \n",
    "    n_shapelets = 3,\n",
    "    shapelet_min_size = 15,\n",
    "    shapelet_max_size = 25\n",
    ")"
   ]
  },
  {
   "cell_type": "code",
   "execution_count": 176,
   "metadata": {},
   "outputs": [
    {
     "data": {
      "text/plain": [
       "3"
      ]
     },
     "execution_count": 176,
     "metadata": {},
     "output_type": "execute_result"
    }
   ],
   "source": [
    "len(GSS.top_shapelets)"
   ]
  },
  {
   "cell_type": "code",
   "execution_count": 177,
   "metadata": {},
   "outputs": [
    {
     "data": {
      "text/plain": [
       "Text(0.5, 1.0, 'Top Shapelet No. 3')"
      ]
     },
     "execution_count": 177,
     "metadata": {},
     "output_type": "execute_result"
    },
    {
     "data": {
      "image/png": "[encoded data removed]",
      "text/plain": [
       "<Figure size 2016x432 with 3 Axes>"
      ]
     },
     "metadata": {
      "needs_background": "light"
     },
     "output_type": "display_data"
    }
   ],
   "source": [
    "#Let's see how our top shapelets look like\n",
    "\n",
    "top_shapelets = GSS.top_shapelets\n",
    "\n",
    "\n",
    "fig, (ax1, ax2, ax3) = plt.subplots(1, 3)\n",
    "fig.set_size_inches(28, 6)\n",
    "fig.suptitle('Top 3 Shapelets', fontsize=20)\n",
    "ax1.plot(top_shapelets[0][5])\n",
    "ax1.set_title('Top Shapelet No. 1')\n",
    "ax2.plot(top_shapelets[1][5], 'tab:orange')\n",
    "ax2.set_title('Top Shapelet No. 2')\n",
    "ax3.plot(top_shapelets[2][5], 'tab:green')\n",
    "ax3.set_title('Top Shapelet No. 3')"
   ]
  },
  {
   "cell_type": "markdown",
   "metadata": {},
   "source": [
    "Now we have extracted low dimensional features from our time-series. These shapelets are instances of our GSS object. Let's see how our new features look like."
   ]
  },
  {
   "cell_type": "code",
   "execution_count": 178,
   "metadata": {},
   "outputs": [
    {
     "name": "stdout",
     "output_type": "stream",
     "text": [
      "Z_train: \n",
      " [[3.71409489 3.31637694 4.7624045 ]\n",
      " [5.21740966 3.8061778  6.50590516]\n",
      " [3.78051094 2.91170568 3.53191136]\n",
      " [5.83943446 3.14928034 7.69292869]\n",
      " [0.         3.62728563 5.28620274]]\n",
      "Z_test: \n",
      " [[3.35994589 3.05091393 2.42362525]\n",
      " [3.79311821 2.80268279 3.72595005]\n",
      " [2.60076935 3.53299308 3.76056678]\n",
      " [3.3857037  2.81111471 3.76293593]\n",
      " [4.61622899 2.52763276 6.68245748]]\n"
     ]
    }
   ],
   "source": [
    "# featurs transform returns our min distance of every shapelet to every element in x_train\n",
    "Z_train = features_transform(X_train, GSS)\n",
    "\n",
    "Z_test = features_transform(X_test, GSS)\n",
    "\n",
    "# Let's see how the data looks like:\n",
    "print(\"Z_train: \\n\", Z_train[0:5])\n",
    "print(\"Z_test: \\n\", Z_test[0:5])"
   ]
  },
  {
   "cell_type": "code",
   "execution_count": 179,
   "metadata": {},
   "outputs": [
    {
     "name": "stdout",
     "output_type": "stream",
     "text": [
      "Using Standardization Z_standardized \n",
      " [[-0.18122974 -0.04859485  0.14259389]\n",
      " [ 1.40902539  0.60187719  1.56298889]\n",
      " [-0.11097268 -0.58601192 -0.85986418]\n",
      " [ 2.06702339 -0.27050477  2.53003314]\n",
      " [-4.11011975  0.36430236  0.56932181]]\n",
      "Using Min-Max-Scaler Z_minMaxScaler \n",
      " [[0.56514432 0.59189022 0.6190626 ]\n",
      " [0.7938918  0.6793074  0.8456994 ]\n",
      " [0.57525033 0.51966653 0.4591114 ]\n",
      " [0.88854037 0.56206766 1.        ]\n",
      " [0.         0.64737963 0.68715088]]\n",
      "Using Standardization (Z_test_standardized) \n",
      " [[-0.48713884 -0.34045753 -1.68602881]\n",
      " [ 0.06901327 -0.67883982 -0.56829371]\n",
      " [-1.46184941  0.31670033 -0.5385835 ]\n",
      " [-0.45406826 -0.66734564 -0.53655016]\n",
      " [ 1.12580933 -1.05378091  1.96916249]]\n",
      "Using Min-Max-Scaler (Z_test_minMaxScaler) \n",
      " [[0.28141383 0.36992523 0.06269002]\n",
      " [0.4018848  0.31348541 0.32640294]\n",
      " [0.07027676 0.47953461 0.33341262]\n",
      " [0.28857742 0.31540256 0.33389236]\n",
      " [0.63080282 0.25094783 0.92507786]]\n"
     ]
    }
   ],
   "source": [
    "###########################\n",
    "# Training set\n",
    "###########################\n",
    "\n",
    "# we will use z-score/ Z Standardisation since the raw distances can have an impact on our classifier.\n",
    "normalization_mean = Z_train.mean(axis=0)\n",
    "normalization_std = Z_train.std(axis=0)\n",
    "\n",
    "Z_standardized = (Z_train - normalization_mean) / normalization_std        # for our baseline models\n",
    "scaler = sk.preprocessing.MinMaxScaler(feature_range=(0,1))  # for our NNs\n",
    "\n",
    "Z_minMaxScaler = scaler.fit_transform(Z_train)\n",
    "\n",
    "# let's see the head of the data again\n",
    "print(\"Using Standardization Z_standardized \\n\", Z_standardized[0:5])\n",
    "print(\"Using Min-Max-Scaler Z_minMaxScaler \\n\", Z_minMaxScaler[0:5])\n",
    "\n",
    "# convert to pandas dataframe for easy handling\n",
    "df_Z_std = pd.DataFrame(Z_standardized, columns=[\"Dist_Shapelet_1\",\"Dist_Shapelet_2\",\"Dist_Shapelet_3\"])\n",
    "df_Z_minMax = pd.DataFrame(Z_minMaxScaler, columns=[\"Dist_Shapelet_1\",\"Dist_Shapelet_2\",\"Dist_Shapelet_3\"])\n",
    "#df_Z_std = pd.DataFrame(Z_standardized, columns=[\"Dist_Shapelet_1\",\"Dist_Shapelet_2\",\"Dist_Shapelet_3\", \"Dist_Shapelet_4\", \"Dist_Shapelet_5\"])\n",
    "#df_Z_minMax = pd.DataFrame(Z_minMaxScaler, columns=[\"Dist_Shapelet_1\",\"Dist_Shapelet_2\",\"Dist_Shapelet_3\", \"Dist_Shapelet_4\", \"Dist_Shapelet_5\"])\n",
    "\n",
    "\n",
    "###########################\n",
    "# Test set\n",
    "###########################\n",
    "\n",
    "# we will use z-score/ Z Standardisation since the raw distances can have an impact on our classifier.\n",
    "normalization_mean = Z_test.mean(axis=0)\n",
    "normalization_std = Z_test.std(axis=0)\n",
    "\n",
    "Z_test_standardized = (Z_test - normalization_mean) / normalization_std        # for our baseline models\n",
    "Z_test_minMaxScaler = scaler.fit_transform(Z_test)\n",
    "\n",
    "# let's see the head of the data again\n",
    "print(\"Using Standardization (Z_test_standardized) \\n\", Z_test_standardized[0:5])\n",
    "print(\"Using Min-Max-Scaler (Z_test_minMaxScaler) \\n\", Z_test_minMaxScaler[0:5])\n",
    "\n",
    "# convert to pandas dataframe for easy handling\n",
    "df_Z_test_std = pd.DataFrame(Z_test_standardized, columns=[\"Dist_Shapelet_1\",\"Dist_Shapelet_2\",\"Dist_Shapelet_3\"])\n",
    "df_Z_test_minMax = pd.DataFrame(Z_test_minMaxScaler, columns=[\"Dist_Shapelet_1\",\"Dist_Shapelet_2\",\"Dist_Shapelet_3\"])\n",
    "\n",
    "#df_Z_test_std = pd.DataFrame(Z_test_standardized, columns=[\"Dist_Shapelet_1\",\"Dist_Shapelet_2\",\"Dist_Shapelet_3\", \"Dist_Shapelet_4\", \"Dist_Shapelet_5\"])\n",
    "#df_Z_test_minMax = pd.DataFrame(Z_test_minMaxScaler, columns=[\"Dist_Shapelet_1\",\"Dist_Shapelet_2\",\"Dist_Shapelet_3\", \"Dist_Shapelet_4\", \"Dist_Shapelet_5\"])\n"
   ]
  },
  {
   "cell_type": "code",
   "execution_count": 180,
   "metadata": {},
   "outputs": [
    {
     "data": {
      "text/html": [
       "<div>\n",
       "<style scoped>\n",
       "    .dataframe tbody tr th:only-of-type {\n",
       "        vertical-align: middle;\n",
       "    }\n",
       "\n",
       "    .dataframe tbody tr th {\n",
       "        vertical-align: top;\n",
       "    }\n",
       "\n",
       "    .dataframe thead th {\n",
       "        text-align: right;\n",
       "    }\n",
       "</style>\n",
       "<table border=\"1\" class=\"dataframe\">\n",
       "  <thead>\n",
       "    <tr style=\"text-align: right;\">\n",
       "      <th></th>\n",
       "      <th>Dist_Shapelet_1</th>\n",
       "      <th>Dist_Shapelet_2</th>\n",
       "      <th>Dist_Shapelet_3</th>\n",
       "    </tr>\n",
       "  </thead>\n",
       "  <tbody>\n",
       "    <tr>\n",
       "      <th>0</th>\n",
       "      <td>-0.181230</td>\n",
       "      <td>-0.048595</td>\n",
       "      <td>0.142594</td>\n",
       "    </tr>\n",
       "    <tr>\n",
       "      <th>1</th>\n",
       "      <td>1.409025</td>\n",
       "      <td>0.601877</td>\n",
       "      <td>1.562989</td>\n",
       "    </tr>\n",
       "    <tr>\n",
       "      <th>2</th>\n",
       "      <td>-0.110973</td>\n",
       "      <td>-0.586012</td>\n",
       "      <td>-0.859864</td>\n",
       "    </tr>\n",
       "    <tr>\n",
       "      <th>3</th>\n",
       "      <td>2.067023</td>\n",
       "      <td>-0.270505</td>\n",
       "      <td>2.530033</td>\n",
       "    </tr>\n",
       "    <tr>\n",
       "      <th>4</th>\n",
       "      <td>-4.110120</td>\n",
       "      <td>0.364302</td>\n",
       "      <td>0.569322</td>\n",
       "    </tr>\n",
       "  </tbody>\n",
       "</table>\n",
       "</div>"
      ],
      "text/plain": [
       "   Dist_Shapelet_1  Dist_Shapelet_2  Dist_Shapelet_3\n",
       "0        -0.181230        -0.048595         0.142594\n",
       "1         1.409025         0.601877         1.562989\n",
       "2        -0.110973        -0.586012        -0.859864\n",
       "3         2.067023        -0.270505         2.530033\n",
       "4        -4.110120         0.364302         0.569322"
      ]
     },
     "execution_count": 180,
     "metadata": {},
     "output_type": "execute_result"
    }
   ],
   "source": [
    "# again let's have a look into the DataFrames:\n",
    "df_Z_std.head()"
   ]
  },
  {
   "cell_type": "code",
   "execution_count": 181,
   "metadata": {},
   "outputs": [
    {
     "data": {
      "text/html": [
       "<div>\n",
       "<style scoped>\n",
       "    .dataframe tbody tr th:only-of-type {\n",
       "        vertical-align: middle;\n",
       "    }\n",
       "\n",
       "    .dataframe tbody tr th {\n",
       "        vertical-align: top;\n",
       "    }\n",
       "\n",
       "    .dataframe thead th {\n",
       "        text-align: right;\n",
       "    }\n",
       "</style>\n",
       "<table border=\"1\" class=\"dataframe\">\n",
       "  <thead>\n",
       "    <tr style=\"text-align: right;\">\n",
       "      <th></th>\n",
       "      <th>Dist_Shapelet_1</th>\n",
       "      <th>Dist_Shapelet_2</th>\n",
       "      <th>Dist_Shapelet_3</th>\n",
       "    </tr>\n",
       "  </thead>\n",
       "  <tbody>\n",
       "    <tr>\n",
       "      <th>0</th>\n",
       "      <td>0.565144</td>\n",
       "      <td>0.591890</td>\n",
       "      <td>0.619063</td>\n",
       "    </tr>\n",
       "    <tr>\n",
       "      <th>1</th>\n",
       "      <td>0.793892</td>\n",
       "      <td>0.679307</td>\n",
       "      <td>0.845699</td>\n",
       "    </tr>\n",
       "    <tr>\n",
       "      <th>2</th>\n",
       "      <td>0.575250</td>\n",
       "      <td>0.519667</td>\n",
       "      <td>0.459111</td>\n",
       "    </tr>\n",
       "    <tr>\n",
       "      <th>3</th>\n",
       "      <td>0.888540</td>\n",
       "      <td>0.562068</td>\n",
       "      <td>1.000000</td>\n",
       "    </tr>\n",
       "    <tr>\n",
       "      <th>4</th>\n",
       "      <td>0.000000</td>\n",
       "      <td>0.647380</td>\n",
       "      <td>0.687151</td>\n",
       "    </tr>\n",
       "  </tbody>\n",
       "</table>\n",
       "</div>"
      ],
      "text/plain": [
       "   Dist_Shapelet_1  Dist_Shapelet_2  Dist_Shapelet_3\n",
       "0         0.565144         0.591890         0.619063\n",
       "1         0.793892         0.679307         0.845699\n",
       "2         0.575250         0.519667         0.459111\n",
       "3         0.888540         0.562068         1.000000\n",
       "4         0.000000         0.647380         0.687151"
      ]
     },
     "execution_count": 181,
     "metadata": {},
     "output_type": "execute_result"
    }
   ],
   "source": [
    "df_Z_minMax.head()"
   ]
  },
  {
   "cell_type": "markdown",
   "metadata": {},
   "source": [
    "We can also have a look at the correlation matrix:"
   ]
  },
  {
   "cell_type": "code",
   "execution_count": 240,
   "metadata": {},
   "outputs": [
    {
     "data": {
      "text/html": [
       "<style type=\"text/css\">\n",
       "#T_5465d_row0_col0, #T_5465d_row1_col1, #T_5465d_row2_col2 {\n",
       "  background-color: #b40426;\n",
       "  color: #f1f1f1;\n",
       "}\n",
       "#T_5465d_row0_col1, #T_5465d_row1_col0, #T_5465d_row1_col2 {\n",
       "  background-color: #3b4cc0;\n",
       "  color: #f1f1f1;\n",
       "}\n",
       "#T_5465d_row0_col2 {\n",
       "  background-color: #7da0f9;\n",
       "  color: #f1f1f1;\n",
       "}\n",
       "#T_5465d_row2_col0 {\n",
       "  background-color: #82a6fb;\n",
       "  color: #f1f1f1;\n",
       "}\n",
       "#T_5465d_row2_col1 {\n",
       "  background-color: #4055c8;\n",
       "  color: #f1f1f1;\n",
       "}\n",
       "</style>\n",
       "<table id=\"T_5465d_\">\n",
       "  <thead>\n",
       "    <tr>\n",
       "      <th class=\"blank level0\" >&nbsp;</th>\n",
       "      <th class=\"col_heading level0 col0\" >Dist_Shapelet_1</th>\n",
       "      <th class=\"col_heading level0 col1\" >Dist_Shapelet_2</th>\n",
       "      <th class=\"col_heading level0 col2\" >Dist_Shapelet_3</th>\n",
       "    </tr>\n",
       "  </thead>\n",
       "  <tbody>\n",
       "    <tr>\n",
       "      <th id=\"T_5465d_level0_row0\" class=\"row_heading level0 row0\" >Dist_Shapelet_1</th>\n",
       "      <td id=\"T_5465d_row0_col0\" class=\"data row0 col0\" >1.000000</td>\n",
       "      <td id=\"T_5465d_row0_col1\" class=\"data row0 col1\" >0.359584</td>\n",
       "      <td id=\"T_5465d_row0_col2\" class=\"data row0 col2\" >0.501403</td>\n",
       "    </tr>\n",
       "    <tr>\n",
       "      <th id=\"T_5465d_level0_row1\" class=\"row_heading level0 row1\" >Dist_Shapelet_2</th>\n",
       "      <td id=\"T_5465d_row1_col0\" class=\"data row1 col0\" >0.359584</td>\n",
       "      <td id=\"T_5465d_row1_col1\" class=\"data row1 col1\" >1.000000</td>\n",
       "      <td id=\"T_5465d_row1_col2\" class=\"data row1 col2\" >0.373941</td>\n",
       "    </tr>\n",
       "    <tr>\n",
       "      <th id=\"T_5465d_level0_row2\" class=\"row_heading level0 row2\" >Dist_Shapelet_3</th>\n",
       "      <td id=\"T_5465d_row2_col0\" class=\"data row2 col0\" >0.501403</td>\n",
       "      <td id=\"T_5465d_row2_col1\" class=\"data row2 col1\" >0.373941</td>\n",
       "      <td id=\"T_5465d_row2_col2\" class=\"data row2 col2\" >1.000000</td>\n",
       "    </tr>\n",
       "  </tbody>\n",
       "</table>\n"
      ],
      "text/plain": [
       "<pandas.io.formats.style.Styler at 0x1a1a36fe3c8>"
      ]
     },
     "execution_count": 240,
     "metadata": {},
     "output_type": "execute_result"
    }
   ],
   "source": [
    "corr = df_Z_std.corr()\n",
    "\n",
    "corr.style.background_gradient(cmap='coolwarm')"
   ]
  },
  {
   "cell_type": "markdown",
   "metadata": {},
   "source": [
    "This shows that there are correlations but not too strong. That means our shapelets are not similar. A correlation of 1 would mean we have two exact same shapelets. We would have recognized that correlation before, since we plotted the shapelets. "
   ]
  },
  {
   "cell_type": "markdown",
   "metadata": {},
   "source": [
    "# 3. Testing Phase I: Baseline Models\n",
    "\n",
    "Now that all the hard work is done we can start with our Machine Learning models to tackle the classification problem.\n",
    "\n",
    "Scoring function:\n",
    "\n",
    "\n",
    "What is our goal?\n",
    "<br>\n",
    "We need to decide for a scoring function. For that it is important to recap that we want to know if the mean share price\n",
    "for our next sequence (here 60 days) is higher or lower than the price of the previous sequence. We could use this information \n",
    "for investing in the stock market. If we think the share price is increasing we could bet on increasing share prices with a long position (https://en.wikipedia.org/wiki/Long_(finance)) \n",
    "otherwise we could bet against that stock what is called a short position (https://en.wikipedia.org/wiki/Short_(finance)). \n",
    "<br>\n",
    "What does that mean for our scoring function?\n",
    "<br>\n",
    "We can assume that false positive and false negative are equally bad for us. Thus we need a score trying to explain exactly this. \n",
    "\n",
    "Imbalanced Data:\n",
    "<br>\n",
    "We have seen that our data is imbalanced --> we need to take that into account. \n",
    "\n",
    "Recall and Precision:\n",
    "<br>\n",
    "Recall and Precision are mostly used when the classes are inequally important. Here both classes are equivalent important.\n",
    "\n",
    "Accuracy:\n",
    "<br>\n",
    "Accuracy just counts how often we are right. No need for weigthing a class or something else.\n",
    "Thus we will choose the accuracy for tuning our models. Anyways it is always good to have a look into various scores.\n",
    "\n",
    "\n",
    "\n",
    " \n",
    "\n",
    "\n",
    "NOTE:\n",
    "<br>\n",
    "I won't use dimensionality reduction, since we have already performed a dimensionality reduction by choosing the top 3 shapelets. \n",
    "Remember, that the shapelets where sorted for their information gain on the training data. "
   ]
  },
  {
   "cell_type": "code",
   "execution_count": 183,
   "metadata": {},
   "outputs": [],
   "source": [
    "# we will need to implement a routine since we want to test several models:\n",
    "\n",
    "# k-fold cross validation for more generalization on the model performance\n",
    "\n",
    "def k_fold_split_training(X_train, y_train, model):\n",
    "    '''\n",
    "    Train the given model on a 5-fold crossvalidation and prints the results while computing.\n",
    "\n",
    "    Params:\n",
    "    -------\n",
    "    X_train : pd DataFrame\n",
    "        Trainingset\n",
    "    y_train : np array\n",
    "        Target array\n",
    "    model : object of sk-learn classification model\n",
    "        Classification model (clf)\n",
    "\n",
    "    Returns\n",
    "    -------\n",
    "    training_scores : List\n",
    "        List of all 5 training scores (balanced accuracy)\n",
    "    cv_scores : List \n",
    "        List of all 5 validation scores (balanced accuracy)\n",
    "    '''\n",
    "    k_fold = sk.model_selection.StratifiedKFold(n_splits=5)\n",
    "    cv_scores = list()\n",
    "    training_scores= list()\n",
    "\n",
    "    #generating indices for the k-fold split to select training and test data:\n",
    "    for train_index, cv_index in k_fold.split(np.zeros(len(X_train)), y_train):\n",
    "\n",
    "        X_train_fold, X_cv_fold = X_train.iloc[train_index,:], X_train.iloc[cv_index,:]\n",
    "        y_train_fold, y_cv_fold = y_train[train_index], y_train[cv_index]\n",
    "\n",
    "        #Fitting the model to the data:\n",
    "        model.fit(X_train_fold, y_train_fold)\n",
    "        \n",
    "        y_hat_train = model.predict(X_train_fold)\n",
    "        y_hat_validation = model.predict(X_cv_fold)\n",
    "\n",
    "        #getting scores from Training data:\n",
    "        scoreTraining = sk.metrics.accuracy_score(y_train_fold, y_hat_train,)\n",
    "        training_scores.append(scoreTraining)\n",
    "\n",
    "        #getting scores from k-fold test data:\n",
    "        scoreCV = sk.metrics.accuracy_score(y_cv_fold, y_hat_validation,)\n",
    "        cv_scores.append(scoreCV)\n",
    "    \n",
    "        #printing the results:\n",
    "        print('Training Score: ', scoreTraining)\n",
    "        print('CV Score: ', scoreCV)\n",
    "    return training_scores, cv_scores"
   ]
  },
  {
   "cell_type": "markdown",
   "metadata": {},
   "source": [
    "## 3.1 Support Vector Classifier\n",
    "\n",
    "See:\n",
    "https://scikit-learn.org/stable/modules/generated/sklearn.svm.SVC.html"
   ]
  },
  {
   "cell_type": "code",
   "execution_count": 305,
   "metadata": {},
   "outputs": [
    {
     "name": "stdout",
     "output_type": "stream",
     "text": [
      "Training Score:  0.8072916666666667\n",
      "CV Score:  0.8452380952380952\n",
      "Training Score:  0.8072916666666667\n",
      "CV Score:  0.7867647058823529\n",
      "Training Score:  0.8142857142857143\n",
      "CV Score:  0.7017543859649122\n",
      "Training Score:  0.8369565217391304\n",
      "CV Score:  0.7412587412587412\n",
      "Training Score:  0.7830316742081449\n",
      "CV Score:  0.9411764705882353\n",
      "svc_mean_training_score \n",
      " 0.8097714487132647\n",
      "svc_mean_cv_score \n",
      " 0.8032384797864675\n"
     ]
    }
   ],
   "source": [
    "svc_linear = sk.svm.SVC(\n",
    "    kernel = 'linear',\n",
    "    class_weight = 'balanced',\n",
    "    tol = 0.0001,\n",
    "    random_state = 2022\n",
    "    )\n",
    "\n",
    "svc_training_scores, svc_cv_scores = k_fold_split_training(df_Z_std, y_train, svc_linear)\n",
    "\n",
    "# get the mean values\n",
    "svc_mean_training_score = sum(svc_training_scores)/len(svc_training_scores)\n",
    "svc_mean_cv_score = sum(svc_cv_scores)/len(svc_cv_scores)\n",
    "\n",
    "print(\"svc_mean_training_score \\n\", svc_mean_training_score)\n",
    "print(\"svc_mean_cv_score \\n\", svc_mean_cv_score)\n"
   ]
  },
  {
   "cell_type": "code",
   "execution_count": 309,
   "metadata": {},
   "outputs": [
    {
     "name": "stdout",
     "output_type": "stream",
     "text": [
      "Test Score SVC with linear kernel \n",
      " 0.7049180327868853\n"
     ]
    }
   ],
   "source": [
    "# Let's try it on our test data\n",
    "\n",
    "# train again on the whole train dataset \n",
    "svc_linear.fit(df_Z_std, y_train)\n",
    "\n",
    "y_hat_svc = svc_linear.predict(df_Z_test_std)\n",
    "test_score_svc = sk.metrics.accuracy_score(y_hat_svc, y_test)\n",
    "\n",
    "print(\"Test Score SVC with linear kernel \\n\", test_score_svc)"
   ]
  },
  {
   "cell_type": "markdown",
   "metadata": {},
   "source": [
    "We will try some different kernels before we try different models:"
   ]
  },
  {
   "cell_type": "code",
   "execution_count": 307,
   "metadata": {},
   "outputs": [
    {
     "name": "stdout",
     "output_type": "stream",
     "text": [
      "Training Score:  0.8211362542128069\n",
      "CV Score:  0.8263888888888888\n",
      "Training Score:  0.8117647058823529\n",
      "CV Score:  0.7395833333333333\n",
      "Training Score:  0.856225077536553\n",
      "CV Score:  0.746031746031746\n",
      "Training Score:  0.8595982142857144\n",
      "CV Score:  0.6928571428571428\n",
      "Training Score:  0.8130434782608695\n",
      "CV Score:  0.875\n",
      "svc_mean_training_score \n",
      " 0.8323535460356594\n",
      "svc_mean_cv_score \n",
      " 0.7759722222222223\n"
     ]
    }
   ],
   "source": [
    "svc_rbf = sk.svm.SVC(\n",
    "    kernel = 'rbf',\n",
    "    class_weight = 'balanced',\n",
    "    tol = 0.0001,\n",
    "    random_state = 2022\n",
    "    )\n",
    "\n",
    "svc_training_scores, svc_cv_scores = k_fold_split_training(df_Z_std, y_train, svc_rbf)\n",
    "\n",
    "# get the mean values\n",
    "svc_mean_training_score = sum(svc_training_scores)/len(svc_training_scores)\n",
    "svc_mean_cv_score = sum(svc_cv_scores)/len(svc_cv_scores)\n",
    "\n",
    "print(\"svc_mean_training_score \\n\", svc_mean_training_score)\n",
    "print(\"svc_mean_cv_score \\n\", svc_mean_cv_score)"
   ]
  },
  {
   "cell_type": "code",
   "execution_count": 308,
   "metadata": {},
   "outputs": [
    {
     "name": "stdout",
     "output_type": "stream",
     "text": [
      "Test Score SVC with rbf\n",
      " 0.6885245901639344\n"
     ]
    }
   ],
   "source": [
    "# Let's try it on our test data\n",
    "\n",
    "# train again on the whole train dataset \n",
    "svc_rbf.fit(df_Z_std, y_train)\n",
    "\n",
    "y_hat_svc = svc_rbf.predict(df_Z_test_std)\n",
    "test_score_svc = sk.metrics.accuracy_score(y_hat_svc, y_test)\n",
    "\n",
    "print(\"Test Score SVC with rbf\\n\", test_score_svc)"
   ]
  },
  {
   "cell_type": "markdown",
   "metadata": {},
   "source": [
    "It seems that the linear kernel performs better"
   ]
  },
  {
   "cell_type": "markdown",
   "metadata": {},
   "source": [
    "## 3.2 Random Forest Classifier\n",
    "\n",
    "https://scikit-learn.org/stable/modules/generated/sklearn.ensemble.RandomForestClassifier.html"
   ]
  },
  {
   "cell_type": "code",
   "execution_count": 186,
   "metadata": {},
   "outputs": [
    {
     "name": "stdout",
     "output_type": "stream",
     "text": [
      "Training Score:  1.0\n",
      "CV Score:  0.8786764705882353\n",
      "Training Score:  1.0\n",
      "CV Score:  0.7867647058823529\n",
      "Training Score:  1.0\n",
      "CV Score:  0.6499999999999999\n",
      "Training Score:  1.0\n",
      "CV Score:  0.78125\n",
      "Training Score:  1.0\n",
      "CV Score:  0.8222222222222222\n",
      "rf_mean_training_score \n",
      " 1.0\n",
      "rf_mean_cv_score \n",
      " 0.7837826797385621\n"
     ]
    }
   ],
   "source": [
    "# hyperparameter are default values from scikit-learn\n",
    "from sklearn.ensemble import RandomForestClassifier\n",
    "rf = RandomForestClassifier(\n",
    "    n_estimators=100,\n",
    "    criterion=\"gini\",\n",
    "    min_samples_split=2,\n",
    "    min_samples_leaf=1,\n",
    "    random_state=2022\n",
    ")\n",
    "\n",
    "rf_training_scores, rf_cv_scores = k_fold_split_training(df_Z_std, y_train, rf)\n",
    "\n",
    "# get the mean values\n",
    "rf_mean_training_score = sum(rf_training_scores)/len(rf_training_scores)\n",
    "rf_mean_cv_score = sum(rf_cv_scores)/len(rf_cv_scores)\n",
    "\n",
    "print(\"rf_mean_training_score \\n\", rf_mean_training_score)\n",
    "print(\"rf_mean_cv_score \\n\", rf_mean_cv_score)\n"
   ]
  },
  {
   "cell_type": "code",
   "execution_count": 187,
   "metadata": {},
   "outputs": [
    {
     "name": "stdout",
     "output_type": "stream",
     "text": [
      "Test Score Random Forest \n",
      " 0.7156177156177156\n"
     ]
    }
   ],
   "source": [
    "# Let's try it on our test data\n",
    "\n",
    "# train again on the whole train dataset \n",
    "rf.fit(df_Z_std, y_train)\n",
    "\n",
    "y_hat_rf = rf.predict(df_Z_test_std)\n",
    "test_score_rf = sk.metrics.accuracy_score(y_test, y_hat_rf,)\n",
    "\n",
    "print(\"Test Score Random Forest \\n\", test_score_rf)"
   ]
  },
  {
   "cell_type": "markdown",
   "metadata": {},
   "source": [
    "As you can see the from the training scores, our model is overfitting. That is no suprise at all, since our dataset is pretty small. Anyways the results are promising. We will try some hyperparameter tuning to reduce overfitting.\n",
    "\n",
    "Before that we can have a look at the importance of every feature for our model:"
   ]
  },
  {
   "cell_type": "code",
   "execution_count": 188,
   "metadata": {},
   "outputs": [
    {
     "name": "stdout",
     "output_type": "stream",
     "text": [
      "Importance of Distance to Shapelet 1 :  0.44791650759044777\n",
      "Importance of Distance to Shapelet 2 :  0.2553784839576358\n",
      "Importance of Distance to Shapelet 3 :  0.2967050084519166\n"
     ]
    }
   ],
   "source": [
    "feature_names= (\"Importance of Distance to Shapelet 1\", \"Importance of Distance to Shapelet 2\", \"Importance of Distance to Shapelet 3\")\n",
    "\n",
    "pred_comp = rf.fit(df_Z_std, y_train)\n",
    "for name, score in zip(feature_names, pred_comp.feature_importances_):\n",
    "    print(name, \": \", score)"
   ]
  },
  {
   "cell_type": "markdown",
   "metadata": {},
   "source": [
    "This is surprising, since we sorted the shapelets w.r.t. their information gain (see chapter 4.2 Feature Extraction). I was expecting the Shapelet 1 to be the most important feature. This shows that we should go for more shapelets. The problem is that a higher number of shapelets is  "
   ]
  },
  {
   "cell_type": "markdown",
   "metadata": {},
   "source": [
    "### 3.2.1 Random Forest Classifier - Hyperparameter tuning"
   ]
  },
  {
   "cell_type": "markdown",
   "metadata": {},
   "source": [
    "We will use a grid search to optimize choosen parameter. Since the grid search is highly time consuming, we will decide on three hyperparameter to run the grid search.\n",
    "\n",
    "A possible solution to reduce overfitting of our model is to prune the depth of the trees and the number of trees in the forest.\n",
    "\n"
   ]
  },
  {
   "cell_type": "code",
   "execution_count": 189,
   "metadata": {},
   "outputs": [
    {
     "data": {
      "text/plain": [
       "{'bootstrap': True,\n",
       " 'ccp_alpha': 0.0,\n",
       " 'class_weight': None,\n",
       " 'criterion': 'gini',\n",
       " 'max_depth': None,\n",
       " 'max_features': 'auto',\n",
       " 'max_leaf_nodes': None,\n",
       " 'max_samples': None,\n",
       " 'min_impurity_decrease': 0.0,\n",
       " 'min_samples_leaf': 1,\n",
       " 'min_samples_split': 2,\n",
       " 'min_weight_fraction_leaf': 0.0,\n",
       " 'n_estimators': 100,\n",
       " 'n_jobs': None,\n",
       " 'oob_score': False,\n",
       " 'random_state': 2022,\n",
       " 'verbose': 0,\n",
       " 'warm_start': False}"
      ]
     },
     "execution_count": 189,
     "metadata": {},
     "output_type": "execute_result"
    }
   ],
   "source": [
    "# let's have a look at the default values for the hyperparams:\n",
    "rf.get_params()"
   ]
  },
  {
   "cell_type": "code",
   "execution_count": 190,
   "metadata": {},
   "outputs": [
    {
     "data": {
      "image/png": "[encoded data removed]",
      "text/plain": [
       "<Figure size 432x288 with 1 Axes>"
      ]
     },
     "metadata": {
      "needs_background": "light"
     },
     "output_type": "display_data"
    }
   ],
   "source": [
    "# inspired by https://medium.com/all-things-ai/in-depth-parameter-tuning-for-random-forest-d67bb7e920d\n",
    "\n",
    "\n",
    "max_depths = np.linspace(1, 60, 60, endpoint=True)\n",
    "train_results = []\n",
    "test_results = []\n",
    "\n",
    "for max_depth in max_depths:\n",
    "   rf = sk.ensemble.RandomForestClassifier(max_depth=max_depth, random_state=2022)\n",
    "   rf.fit(df_Z_std, y_train)\n",
    "   train_pred = rf.predict(df_Z_std)\n",
    "   train_score = sk.metrics.accuracy_score(y_train, train_pred)\n",
    "   train_results.append(train_score)\n",
    "\n",
    "   test_pred = rf.predict(df_Z_test_std)\n",
    "   test_score = sk.metrics.accuracy_score(y_test, test_pred)\n",
    "   test_results.append(test_score)\n",
    "from matplotlib.legend_handler import HandlerLine2D\n",
    "line1, = plt.plot(max_depths, train_results, 'b', label='Train Score')\n",
    "line2, = plt.plot(max_depths, test_results, 'r', label='Test Score')\n",
    "plt.legend(handler_map={line1: HandlerLine2D(numpoints=2)})\n",
    "plt.ylabel('Balanced Accuracy Score')\n",
    "plt.xlabel('Tree Depth')\n",
    "plt.show()"
   ]
  },
  {
   "cell_type": "markdown",
   "metadata": {},
   "source": [
    "The plot shows that we could decide on a value between max depth of 5 to 8 (we will check the exact value) to reduce overfitting and have a better test score. "
   ]
  },
  {
   "cell_type": "code",
   "execution_count": 191,
   "metadata": {},
   "outputs": [
    {
     "name": "stdout",
     "output_type": "stream",
     "text": [
      "Best Test Score (0.7170542635658914) is at Tree Depth : 2\n",
      "Best Train Score (1.0) is at Tree Depth : 8\n"
     ]
    }
   ],
   "source": [
    "# we are printing the index+1 since the max depth startet with 1 and idx of list starts with 0\n",
    "print(\"Best Test Score ({1}) is at Tree Depth : {0}\".format(np.argmax(test_results)+1, test_results[np.argmax(test_results)] ))\n",
    "print(\"Best Train Score ({1}) is at Tree Depth : {0}\".format(np.argmax(train_results)+1, train_results[np.argmax(train_results)]))\n",
    "\n",
    "#save it\n",
    "best_max_depth = np.argmax(test_results)+1"
   ]
  },
  {
   "cell_type": "markdown",
   "metadata": {},
   "source": [
    "I tried this several times with different shapelets sometimes you can see a peak for the test score at around Tree Depth of 2 to 8. Here the best tree depth is saved also it could be a lucky shot. "
   ]
  },
  {
   "cell_type": "code",
   "execution_count": 316,
   "metadata": {},
   "outputs": [
    {
     "data": {
      "image/png": "[encoded data removed]",
      "text/plain": [
       "<Figure size 432x288 with 1 Axes>"
      ]
     },
     "metadata": {
      "needs_background": "light"
     },
     "output_type": "display_data"
    }
   ],
   "source": [
    "n_estimators = np.linspace(1, 150, 60, endpoint=True, dtype=int)\n",
    "train_results_estimators = []\n",
    "test_results_estimators = []\n",
    "\n",
    "for n_estimator in n_estimators:\n",
    "   rf = sk.ensemble.RandomForestClassifier(n_estimators=n_estimator)\n",
    "   rf.fit(df_Z_std, y_train)\n",
    "   train_pred = rf.predict(df_Z_std)\n",
    "   train_score = sk.metrics.accuracy_score(y_train, train_pred)\n",
    "   train_results_estimators.append(train_score)\n",
    "\n",
    " \n",
    "   test_pred = rf.predict(df_Z_test_std)\n",
    "   test_score = sk.metrics.accuracy_score(y_test, test_pred)\n",
    "   test_results_estimators.append(test_score)\n",
    "from matplotlib.legend_handler import HandlerLine2D\n",
    "line1, = plt.plot(max_depths, train_results, 'b', label='Train Score', markevery=[5])\n",
    "line2, = plt.plot(max_depths, test_results, 'r', label='Test Score')\n",
    "plt.legend(handler_map={line1: HandlerLine2D(numpoints=2)})\n",
    "plt.ylabel('Balanced Accuracy Score')\n",
    "plt.xlabel('Number of Estimators (Trees)')\n",
    "plt.show()"
   ]
  },
  {
   "cell_type": "code",
   "execution_count": 193,
   "metadata": {},
   "outputs": [
    {
     "name": "stdout",
     "output_type": "stream",
     "text": [
      "Best Test Score (0.7333333333333334) is for n_estimators (number of trees) : 32\n",
      "Best Train Score (1.0) is for n_estimators (number of trees) : 8\n"
     ]
    }
   ],
   "source": [
    "# we are printing the index+1 since the max depth startet with 1 and idx of list starts with 0\n",
    "print(\"Best Test Score ({1}) is for n_estimators (number of trees) : {0}\".format(np.argmax(test_results_estimators)+1, test_results_estimators[np.argmax(test_results_estimators)] ))\n",
    "print(\"Best Train Score ({1}) is for n_estimators (number of trees) : {0}\".format(np.argmax(train_results_estimators)+1, train_results_estimators[np.argmax(train_results_estimators)]))\n",
    "\n",
    "#save it\n",
    "best_n_estimators = np.argmax(test_results_estimators)+1"
   ]
  },
  {
   "cell_type": "markdown",
   "metadata": {},
   "source": [
    "# 4. Testing Phase II: Neuronal Network\n",
    "\n",
    "Now we need our scaled data. Remember we use standardization (df_Z_std) and MinMax scaler (df_Z_MinMax)"
   ]
  },
  {
   "cell_type": "code",
   "execution_count": 194,
   "metadata": {},
   "outputs": [],
   "source": [
    "from tensorflow.keras.layers import Input, Dense, Activation,Dropout\n",
    "from tensorflow.keras.models import Model\n",
    "import keras as ks\n",
    "from tensorflow.keras import Sequential"
   ]
  },
  {
   "cell_type": "code",
   "execution_count": 278,
   "metadata": {},
   "outputs": [],
   "source": [
    "loss_function = 'BinaryCrossentropy'\n",
    "activation_function = 'relu'        # ReLu most common for MLPs\n",
    "last_layer_activation_function = 'sigmoid'  # most common for binary classification \n",
    "optimizer = 'Adam'\n",
    "kernel_initializer = ks.initializers.RandomUniform(minval=-0.05, maxval=0.05, seed=None)  # init of our weights is random \n",
    "num_epochs = 200\n",
    "batch_size = 10"
   ]
  },
  {
   "cell_type": "markdown",
   "metadata": {},
   "source": [
    "We will start with a simple model and see how it performs. The parameter choosen above are kind of arbitray. Of course there are recommendation on how to build a DL model for classification and on what activation function to choose etc.. But in my opinion there is no True and False and often combinations work that are not expected. Thus sometimes it's better to try different approaches than to think of the best combination of parameters for hours. "
   ]
  },
  {
   "cell_type": "code",
   "execution_count": 241,
   "metadata": {},
   "outputs": [],
   "source": [
    "model = Sequential()\n",
    "model.add(Dense(df_Z_minMax.shape[1], activation= activation_function, kernel_initializer=kernel_initializer))\n",
    "model.add(Dense(3, activation= activation_function, kernel_initializer=kernel_initializer, ))\n",
    "model.add(Dense(6, activation= activation_function, kernel_initializer=kernel_initializer))\n",
    "model.add(Dense(1 ,activation = last_layer_activation_function, kernel_initializer=kernel_initializer))\n",
    "model.compile(optimizer=optimizer, loss=loss_function, metrics=['accuracy'])"
   ]
  },
  {
   "cell_type": "markdown",
   "metadata": {},
   "source": [
    "What did I try here?\n",
    "<br>\n",
    "I changed every parameter one by one with the assumption that the parameters are independent.\n",
    "\n",
    "- changed size of dense layers [3, 6, 9, 21, 30] --> no big impact +/- 2% accuracy (sizes of 3 to 9 with better results)\n",
    "- changed activation function [relu, sigmoid]\n",
    "- last_layer_activation_function [softmax, sigmoid]\n",
    "- optimizer [SGD, Adam]"
   ]
  },
  {
   "cell_type": "code",
   "execution_count": 237,
   "metadata": {},
   "outputs": [
    {
     "name": "stdout",
     "output_type": "stream",
     "text": [
      "Model: \"sequential_13\"\n",
      "_________________________________________________________________\n",
      " Layer (type)                Output Shape              Param #   \n",
      "=================================================================\n",
      " dense_61 (Dense)            (None, 3)                 12        \n",
      "                                                                 \n",
      " dense_62 (Dense)            (None, 3)                 12        \n",
      "                                                                 \n",
      " dense_63 (Dense)            (None, 6)                 24        \n",
      "                                                                 \n",
      " dense_64 (Dense)            (None, 1)                 7         \n",
      "                                                                 \n",
      "=================================================================\n",
      "Total params: 55\n",
      "Trainable params: 55\n",
      "Non-trainable params: 0\n",
      "_________________________________________________________________\n",
      "None\n"
     ]
    }
   ],
   "source": [
    "print(model.summary())"
   ]
  },
  {
   "cell_type": "code",
   "execution_count": 335,
   "metadata": {},
   "outputs": [
    {
     "name": "stdout",
     "output_type": "stream",
     "text": [
      "Epoch 1/200\n",
      "13/13 [==============================] - 0s 16ms/step - loss: 0.6580 - accuracy: 0.6327 - val_loss: 0.6540 - val_accuracy: 0.6400\n",
      "Epoch 2/200\n",
      "13/13 [==============================] - 0s 8ms/step - loss: 0.6594 - accuracy: 0.6327 - val_loss: 0.6540 - val_accuracy: 0.6400\n",
      "Epoch 3/200\n",
      "13/13 [==============================] - 0s 9ms/step - loss: 0.6585 - accuracy: 0.6327 - val_loss: 0.6539 - val_accuracy: 0.6400\n",
      "Epoch 4/200\n",
      "13/13 [==============================] - 0s 6ms/step - loss: 0.6575 - accuracy: 0.6327 - val_loss: 0.6539 - val_accuracy: 0.6400\n",
      "Epoch 5/200\n",
      "13/13 [==============================] - 0s 5ms/step - loss: 0.6588 - accuracy: 0.6327 - val_loss: 0.6538 - val_accuracy: 0.6400\n",
      "Epoch 6/200\n",
      "13/13 [==============================] - 0s 5ms/step - loss: 0.6578 - accuracy: 0.6327 - val_loss: 0.6538 - val_accuracy: 0.6400\n",
      "Epoch 7/200\n",
      "13/13 [==============================] - 0s 6ms/step - loss: 0.6579 - accuracy: 0.6327 - val_loss: 0.6538 - val_accuracy: 0.6400\n",
      "Epoch 8/200\n",
      "13/13 [==============================] - 0s 6ms/step - loss: 0.6584 - accuracy: 0.6327 - val_loss: 0.6538 - val_accuracy: 0.6400\n",
      "Epoch 9/200\n",
      "13/13 [==============================] - 0s 5ms/step - loss: 0.6574 - accuracy: 0.6327 - val_loss: 0.6537 - val_accuracy: 0.6400\n",
      "Epoch 10/200\n",
      "13/13 [==============================] - 0s 6ms/step - loss: 0.6583 - accuracy: 0.6327 - val_loss: 0.6537 - val_accuracy: 0.6400\n",
      "Epoch 11/200\n",
      "13/13 [==============================] - 0s 7ms/step - loss: 0.6563 - accuracy: 0.6327 - val_loss: 0.6537 - val_accuracy: 0.6400\n",
      "Epoch 12/200\n",
      "13/13 [==============================] - 0s 9ms/step - loss: 0.6581 - accuracy: 0.6327 - val_loss: 0.6538 - val_accuracy: 0.6400\n",
      "Epoch 13/200\n",
      "13/13 [==============================] - 0s 10ms/step - loss: 0.6583 - accuracy: 0.6327 - val_loss: 0.6538 - val_accuracy: 0.6400\n",
      "Epoch 14/200\n",
      "13/13 [==============================] - 0s 15ms/step - loss: 0.6582 - accuracy: 0.6327 - val_loss: 0.6540 - val_accuracy: 0.6400\n",
      "Epoch 15/200\n",
      "13/13 [==============================] - 0s 13ms/step - loss: 0.6585 - accuracy: 0.6327 - val_loss: 0.6539 - val_accuracy: 0.6400\n",
      "Epoch 16/200\n",
      "13/13 [==============================] - 0s 12ms/step - loss: 0.6574 - accuracy: 0.6327 - val_loss: 0.6540 - val_accuracy: 0.6400\n",
      "Epoch 17/200\n",
      "13/13 [==============================] - 0s 23ms/step - loss: 0.6580 - accuracy: 0.6327 - val_loss: 0.6539 - val_accuracy: 0.6400\n",
      "Epoch 18/200\n",
      "13/13 [==============================] - 0s 10ms/step - loss: 0.6583 - accuracy: 0.6327 - val_loss: 0.6540 - val_accuracy: 0.6400\n",
      "Epoch 19/200\n",
      "13/13 [==============================] - 0s 11ms/step - loss: 0.6582 - accuracy: 0.6327 - val_loss: 0.6540 - val_accuracy: 0.6400\n",
      "Epoch 20/200\n",
      "13/13 [==============================] - 0s 10ms/step - loss: 0.6587 - accuracy: 0.6327 - val_loss: 0.6540 - val_accuracy: 0.6400\n",
      "Epoch 21/200\n",
      "13/13 [==============================] - 0s 12ms/step - loss: 0.6580 - accuracy: 0.6327 - val_loss: 0.6540 - val_accuracy: 0.6400\n",
      "Epoch 22/200\n",
      "13/13 [==============================] - 0s 15ms/step - loss: 0.6578 - accuracy: 0.6327 - val_loss: 0.6539 - val_accuracy: 0.6400\n",
      "Epoch 23/200\n",
      "13/13 [==============================] - 0s 9ms/step - loss: 0.6580 - accuracy: 0.6327 - val_loss: 0.6538 - val_accuracy: 0.6400\n",
      "Epoch 24/200\n",
      "13/13 [==============================] - 0s 20ms/step - loss: 0.6575 - accuracy: 0.6327 - val_loss: 0.6537 - val_accuracy: 0.6400\n",
      "Epoch 25/200\n",
      "13/13 [==============================] - 0s 11ms/step - loss: 0.6567 - accuracy: 0.6327 - val_loss: 0.6537 - val_accuracy: 0.6400\n",
      "Epoch 26/200\n",
      "13/13 [==============================] - 0s 9ms/step - loss: 0.6577 - accuracy: 0.6327 - val_loss: 0.6537 - val_accuracy: 0.6400\n",
      "Epoch 27/200\n",
      "13/13 [==============================] - 0s 5ms/step - loss: 0.6577 - accuracy: 0.6327 - val_loss: 0.6537 - val_accuracy: 0.6400\n",
      "Epoch 28/200\n",
      "13/13 [==============================] - 0s 5ms/step - loss: 0.6571 - accuracy: 0.6327 - val_loss: 0.6536 - val_accuracy: 0.6400\n",
      "Epoch 29/200\n",
      "13/13 [==============================] - 0s 5ms/step - loss: 0.6570 - accuracy: 0.6327 - val_loss: 0.6536 - val_accuracy: 0.6400\n",
      "Epoch 30/200\n",
      "13/13 [==============================] - 0s 5ms/step - loss: 0.6573 - accuracy: 0.6327 - val_loss: 0.6536 - val_accuracy: 0.6400\n",
      "Epoch 31/200\n",
      "13/13 [==============================] - 0s 5ms/step - loss: 0.6589 - accuracy: 0.6327 - val_loss: 0.6537 - val_accuracy: 0.6400\n",
      "Epoch 32/200\n",
      "13/13 [==============================] - 0s 6ms/step - loss: 0.6571 - accuracy: 0.6327 - val_loss: 0.6536 - val_accuracy: 0.6400\n",
      "Epoch 33/200\n",
      "13/13 [==============================] - 0s 4ms/step - loss: 0.6568 - accuracy: 0.6327 - val_loss: 0.6536 - val_accuracy: 0.6400\n",
      "Epoch 34/200\n",
      "13/13 [==============================] - 0s 4ms/step - loss: 0.6582 - accuracy: 0.6327 - val_loss: 0.6536 - val_accuracy: 0.6400\n",
      "Epoch 35/200\n",
      "13/13 [==============================] - 0s 4ms/step - loss: 0.6562 - accuracy: 0.6327 - val_loss: 0.6536 - val_accuracy: 0.6400\n",
      "Epoch 36/200\n",
      "13/13 [==============================] - 0s 4ms/step - loss: 0.6580 - accuracy: 0.6327 - val_loss: 0.6537 - val_accuracy: 0.6400\n",
      "Epoch 37/200\n",
      "13/13 [==============================] - 0s 4ms/step - loss: 0.6563 - accuracy: 0.6327 - val_loss: 0.6536 - val_accuracy: 0.6400\n",
      "Epoch 38/200\n",
      "13/13 [==============================] - 0s 4ms/step - loss: 0.6579 - accuracy: 0.6327 - val_loss: 0.6536 - val_accuracy: 0.6400\n",
      "Epoch 39/200\n",
      "13/13 [==============================] - 0s 4ms/step - loss: 0.6584 - accuracy: 0.6327 - val_loss: 0.6537 - val_accuracy: 0.6400\n",
      "Epoch 40/200\n",
      "13/13 [==============================] - 0s 4ms/step - loss: 0.6578 - accuracy: 0.6327 - val_loss: 0.6538 - val_accuracy: 0.6400\n",
      "Epoch 41/200\n",
      "13/13 [==============================] - 0s 4ms/step - loss: 0.6578 - accuracy: 0.6327 - val_loss: 0.6538 - val_accuracy: 0.6400\n",
      "Epoch 42/200\n",
      "13/13 [==============================] - 0s 4ms/step - loss: 0.6585 - accuracy: 0.6327 - val_loss: 0.6538 - val_accuracy: 0.6400\n",
      "Epoch 43/200\n",
      "13/13 [==============================] - 0s 4ms/step - loss: 0.6570 - accuracy: 0.6327 - val_loss: 0.6538 - val_accuracy: 0.6400\n",
      "Epoch 44/200\n",
      "13/13 [==============================] - 0s 5ms/step - loss: 0.6571 - accuracy: 0.6327 - val_loss: 0.6537 - val_accuracy: 0.6400\n",
      "Epoch 45/200\n",
      "13/13 [==============================] - 0s 4ms/step - loss: 0.6574 - accuracy: 0.6327 - val_loss: 0.6537 - val_accuracy: 0.6400\n",
      "Epoch 46/200\n",
      "13/13 [==============================] - 0s 7ms/step - loss: 0.6571 - accuracy: 0.6327 - val_loss: 0.6536 - val_accuracy: 0.6400\n",
      "Epoch 47/200\n",
      "13/13 [==============================] - 0s 18ms/step - loss: 0.6580 - accuracy: 0.6327 - val_loss: 0.6535 - val_accuracy: 0.6400\n",
      "Epoch 48/200\n",
      "13/13 [==============================] - 0s 11ms/step - loss: 0.6563 - accuracy: 0.6327 - val_loss: 0.6536 - val_accuracy: 0.6400\n",
      "Epoch 49/200\n",
      "13/13 [==============================] - 0s 10ms/step - loss: 0.6575 - accuracy: 0.6327 - val_loss: 0.6536 - val_accuracy: 0.6400\n",
      "Epoch 50/200\n",
      "13/13 [==============================] - 0s 6ms/step - loss: 0.6575 - accuracy: 0.6327 - val_loss: 0.6536 - val_accuracy: 0.6400\n",
      "Epoch 51/200\n",
      "13/13 [==============================] - 0s 6ms/step - loss: 0.6583 - accuracy: 0.6327 - val_loss: 0.6535 - val_accuracy: 0.6400\n",
      "Epoch 52/200\n",
      "13/13 [==============================] - 0s 5ms/step - loss: 0.6586 - accuracy: 0.6327 - val_loss: 0.6536 - val_accuracy: 0.6400\n",
      "Epoch 53/200\n",
      "13/13 [==============================] - 0s 5ms/step - loss: 0.6576 - accuracy: 0.6327 - val_loss: 0.6536 - val_accuracy: 0.6400\n",
      "Epoch 54/200\n",
      "13/13 [==============================] - 0s 4ms/step - loss: 0.6583 - accuracy: 0.6327 - val_loss: 0.6536 - val_accuracy: 0.6400\n",
      "Epoch 55/200\n",
      "13/13 [==============================] - 0s 5ms/step - loss: 0.6590 - accuracy: 0.6327 - val_loss: 0.6536 - val_accuracy: 0.6400\n",
      "Epoch 56/200\n",
      "13/13 [==============================] - 0s 6ms/step - loss: 0.6585 - accuracy: 0.6327 - val_loss: 0.6536 - val_accuracy: 0.6400\n",
      "Epoch 57/200\n",
      "13/13 [==============================] - 0s 4ms/step - loss: 0.6572 - accuracy: 0.6327 - val_loss: 0.6536 - val_accuracy: 0.6400\n",
      "Epoch 58/200\n",
      "13/13 [==============================] - 0s 5ms/step - loss: 0.6571 - accuracy: 0.6327 - val_loss: 0.6537 - val_accuracy: 0.6400\n",
      "Epoch 59/200\n",
      "13/13 [==============================] - 0s 5ms/step - loss: 0.6578 - accuracy: 0.6327 - val_loss: 0.6538 - val_accuracy: 0.6400\n",
      "Epoch 60/200\n",
      "13/13 [==============================] - 0s 5ms/step - loss: 0.6565 - accuracy: 0.6327 - val_loss: 0.6537 - val_accuracy: 0.6400\n",
      "Epoch 61/200\n",
      "13/13 [==============================] - 0s 6ms/step - loss: 0.6582 - accuracy: 0.6327 - val_loss: 0.6536 - val_accuracy: 0.6400\n",
      "Epoch 62/200\n",
      "13/13 [==============================] - 0s 5ms/step - loss: 0.6567 - accuracy: 0.6327 - val_loss: 0.6537 - val_accuracy: 0.6400\n",
      "Epoch 63/200\n",
      "13/13 [==============================] - 0s 5ms/step - loss: 0.6568 - accuracy: 0.6327 - val_loss: 0.6537 - val_accuracy: 0.6400\n",
      "Epoch 64/200\n",
      "13/13 [==============================] - 0s 5ms/step - loss: 0.6585 - accuracy: 0.6327 - val_loss: 0.6537 - val_accuracy: 0.6400\n",
      "Epoch 65/200\n",
      "13/13 [==============================] - 0s 5ms/step - loss: 0.6573 - accuracy: 0.6327 - val_loss: 0.6537 - val_accuracy: 0.6400\n",
      "Epoch 66/200\n",
      "13/13 [==============================] - 0s 5ms/step - loss: 0.6574 - accuracy: 0.6327 - val_loss: 0.6537 - val_accuracy: 0.6400\n",
      "Epoch 67/200\n",
      "13/13 [==============================] - 0s 5ms/step - loss: 0.6583 - accuracy: 0.6327 - val_loss: 0.6537 - val_accuracy: 0.6400\n",
      "Epoch 68/200\n",
      "13/13 [==============================] - 0s 6ms/step - loss: 0.6582 - accuracy: 0.6327 - val_loss: 0.6537 - val_accuracy: 0.6400\n",
      "Epoch 69/200\n",
      "13/13 [==============================] - 0s 5ms/step - loss: 0.6578 - accuracy: 0.6327 - val_loss: 0.6537 - val_accuracy: 0.6400\n",
      "Epoch 70/200\n",
      "13/13 [==============================] - 0s 6ms/step - loss: 0.6572 - accuracy: 0.6327 - val_loss: 0.6536 - val_accuracy: 0.6400\n",
      "Epoch 71/200\n",
      "13/13 [==============================] - 0s 7ms/step - loss: 0.6578 - accuracy: 0.6327 - val_loss: 0.6536 - val_accuracy: 0.6400\n",
      "Epoch 72/200\n",
      "13/13 [==============================] - 0s 6ms/step - loss: 0.6581 - accuracy: 0.6327 - val_loss: 0.6537 - val_accuracy: 0.6400\n",
      "Epoch 73/200\n",
      "13/13 [==============================] - 0s 6ms/step - loss: 0.6586 - accuracy: 0.6327 - val_loss: 0.6536 - val_accuracy: 0.6400\n",
      "Epoch 74/200\n",
      "13/13 [==============================] - 0s 5ms/step - loss: 0.6583 - accuracy: 0.6327 - val_loss: 0.6536 - val_accuracy: 0.6400\n",
      "Epoch 75/200\n",
      "13/13 [==============================] - 0s 5ms/step - loss: 0.6582 - accuracy: 0.6327 - val_loss: 0.6536 - val_accuracy: 0.6400\n",
      "Epoch 76/200\n",
      "13/13 [==============================] - 0s 5ms/step - loss: 0.6578 - accuracy: 0.6327 - val_loss: 0.6536 - val_accuracy: 0.6400\n",
      "Epoch 77/200\n",
      "13/13 [==============================] - 0s 5ms/step - loss: 0.6571 - accuracy: 0.6327 - val_loss: 0.6537 - val_accuracy: 0.6400\n",
      "Epoch 78/200\n",
      "13/13 [==============================] - 0s 4ms/step - loss: 0.6584 - accuracy: 0.6327 - val_loss: 0.6536 - val_accuracy: 0.6400\n",
      "Epoch 79/200\n",
      "13/13 [==============================] - 0s 5ms/step - loss: 0.6576 - accuracy: 0.6327 - val_loss: 0.6537 - val_accuracy: 0.6400\n",
      "Epoch 80/200\n",
      "13/13 [==============================] - 0s 5ms/step - loss: 0.6587 - accuracy: 0.6327 - val_loss: 0.6538 - val_accuracy: 0.6400\n",
      "Epoch 81/200\n",
      "13/13 [==============================] - 0s 4ms/step - loss: 0.6571 - accuracy: 0.6327 - val_loss: 0.6538 - val_accuracy: 0.6400\n",
      "Epoch 82/200\n",
      "13/13 [==============================] - 0s 4ms/step - loss: 0.6577 - accuracy: 0.6327 - val_loss: 0.6537 - val_accuracy: 0.6400\n",
      "Epoch 83/200\n",
      "13/13 [==============================] - 0s 5ms/step - loss: 0.6571 - accuracy: 0.6327 - val_loss: 0.6538 - val_accuracy: 0.6400\n",
      "Epoch 84/200\n",
      "13/13 [==============================] - 0s 5ms/step - loss: 0.6581 - accuracy: 0.6327 - val_loss: 0.6537 - val_accuracy: 0.6400\n",
      "Epoch 85/200\n",
      "13/13 [==============================] - 0s 5ms/step - loss: 0.6581 - accuracy: 0.6327 - val_loss: 0.6537 - val_accuracy: 0.6400\n",
      "Epoch 86/200\n",
      "13/13 [==============================] - 0s 5ms/step - loss: 0.6576 - accuracy: 0.6327 - val_loss: 0.6536 - val_accuracy: 0.6400\n",
      "Epoch 87/200\n",
      "13/13 [==============================] - 0s 6ms/step - loss: 0.6576 - accuracy: 0.6327 - val_loss: 0.6537 - val_accuracy: 0.6400\n",
      "Epoch 88/200\n",
      "13/13 [==============================] - 0s 6ms/step - loss: 0.6573 - accuracy: 0.6327 - val_loss: 0.6538 - val_accuracy: 0.6400\n",
      "Epoch 89/200\n",
      "13/13 [==============================] - 0s 9ms/step - loss: 0.6587 - accuracy: 0.6327 - val_loss: 0.6537 - val_accuracy: 0.6400\n",
      "Epoch 90/200\n",
      "13/13 [==============================] - 0s 5ms/step - loss: 0.6577 - accuracy: 0.6327 - val_loss: 0.6537 - val_accuracy: 0.6400\n",
      "Epoch 91/200\n",
      "13/13 [==============================] - 0s 5ms/step - loss: 0.6575 - accuracy: 0.6327 - val_loss: 0.6537 - val_accuracy: 0.6400\n",
      "Epoch 92/200\n",
      "13/13 [==============================] - 0s 5ms/step - loss: 0.6580 - accuracy: 0.6327 - val_loss: 0.6537 - val_accuracy: 0.6400\n",
      "Epoch 93/200\n",
      "13/13 [==============================] - 0s 5ms/step - loss: 0.6575 - accuracy: 0.6327 - val_loss: 0.6537 - val_accuracy: 0.6400\n",
      "Epoch 94/200\n",
      "13/13 [==============================] - 0s 4ms/step - loss: 0.6584 - accuracy: 0.6327 - val_loss: 0.6537 - val_accuracy: 0.6400\n",
      "Epoch 95/200\n",
      "13/13 [==============================] - 0s 5ms/step - loss: 0.6580 - accuracy: 0.6327 - val_loss: 0.6537 - val_accuracy: 0.6400\n",
      "Epoch 96/200\n",
      "13/13 [==============================] - 0s 5ms/step - loss: 0.6582 - accuracy: 0.6327 - val_loss: 0.6536 - val_accuracy: 0.6400\n",
      "Epoch 97/200\n",
      "13/13 [==============================] - 0s 6ms/step - loss: 0.6579 - accuracy: 0.6327 - val_loss: 0.6536 - val_accuracy: 0.6400\n",
      "Epoch 98/200\n",
      "13/13 [==============================] - 0s 5ms/step - loss: 0.6582 - accuracy: 0.6327 - val_loss: 0.6536 - val_accuracy: 0.6400\n",
      "Epoch 99/200\n",
      "13/13 [==============================] - 0s 5ms/step - loss: 0.6583 - accuracy: 0.6327 - val_loss: 0.6536 - val_accuracy: 0.6400\n",
      "Epoch 100/200\n",
      "13/13 [==============================] - 0s 5ms/step - loss: 0.6578 - accuracy: 0.6327 - val_loss: 0.6536 - val_accuracy: 0.6400\n",
      "Epoch 101/200\n",
      "13/13 [==============================] - 0s 5ms/step - loss: 0.6587 - accuracy: 0.6327 - val_loss: 0.6536 - val_accuracy: 0.6400\n",
      "Epoch 102/200\n",
      "13/13 [==============================] - 0s 7ms/step - loss: 0.6575 - accuracy: 0.6327 - val_loss: 0.6535 - val_accuracy: 0.6400\n",
      "Epoch 103/200\n",
      "13/13 [==============================] - 0s 5ms/step - loss: 0.6584 - accuracy: 0.6327 - val_loss: 0.6535 - val_accuracy: 0.6400\n",
      "Epoch 104/200\n",
      "13/13 [==============================] - 0s 6ms/step - loss: 0.6579 - accuracy: 0.6327 - val_loss: 0.6536 - val_accuracy: 0.6400\n",
      "Epoch 105/200\n",
      "13/13 [==============================] - 0s 5ms/step - loss: 0.6580 - accuracy: 0.6327 - val_loss: 0.6535 - val_accuracy: 0.6400\n",
      "Epoch 106/200\n",
      "13/13 [==============================] - 0s 5ms/step - loss: 0.6581 - accuracy: 0.6327 - val_loss: 0.6536 - val_accuracy: 0.6400\n",
      "Epoch 107/200\n",
      "13/13 [==============================] - 0s 5ms/step - loss: 0.6576 - accuracy: 0.6327 - val_loss: 0.6537 - val_accuracy: 0.6400\n",
      "Epoch 108/200\n",
      "13/13 [==============================] - 0s 6ms/step - loss: 0.6578 - accuracy: 0.6327 - val_loss: 0.6537 - val_accuracy: 0.6400\n",
      "Epoch 109/200\n",
      "13/13 [==============================] - 0s 12ms/step - loss: 0.6573 - accuracy: 0.6327 - val_loss: 0.6536 - val_accuracy: 0.6400\n",
      "Epoch 110/200\n",
      "13/13 [==============================] - 0s 9ms/step - loss: 0.6575 - accuracy: 0.6327 - val_loss: 0.6536 - val_accuracy: 0.6400\n",
      "Epoch 111/200\n",
      "13/13 [==============================] - 0s 7ms/step - loss: 0.6569 - accuracy: 0.6327 - val_loss: 0.6537 - val_accuracy: 0.6400\n",
      "Epoch 112/200\n",
      "13/13 [==============================] - 0s 6ms/step - loss: 0.6582 - accuracy: 0.6327 - val_loss: 0.6537 - val_accuracy: 0.6400\n",
      "Epoch 113/200\n",
      "13/13 [==============================] - 0s 6ms/step - loss: 0.6576 - accuracy: 0.6327 - val_loss: 0.6537 - val_accuracy: 0.6400\n",
      "Epoch 114/200\n",
      "13/13 [==============================] - 0s 6ms/step - loss: 0.6580 - accuracy: 0.6327 - val_loss: 0.6537 - val_accuracy: 0.6400\n",
      "Epoch 115/200\n",
      "13/13 [==============================] - 0s 7ms/step - loss: 0.6578 - accuracy: 0.6327 - val_loss: 0.6537 - val_accuracy: 0.6400\n",
      "Epoch 116/200\n",
      "13/13 [==============================] - 0s 9ms/step - loss: 0.6579 - accuracy: 0.6327 - val_loss: 0.6537 - val_accuracy: 0.6400\n",
      "Epoch 117/200\n",
      "13/13 [==============================] - 0s 6ms/step - loss: 0.6567 - accuracy: 0.6327 - val_loss: 0.6537 - val_accuracy: 0.6400\n",
      "Epoch 118/200\n",
      "13/13 [==============================] - 0s 9ms/step - loss: 0.6576 - accuracy: 0.6327 - val_loss: 0.6536 - val_accuracy: 0.6400\n",
      "Epoch 119/200\n",
      "13/13 [==============================] - 0s 8ms/step - loss: 0.6589 - accuracy: 0.6327 - val_loss: 0.6536 - val_accuracy: 0.6400\n",
      "Epoch 120/200\n",
      "13/13 [==============================] - 0s 7ms/step - loss: 0.6576 - accuracy: 0.6327 - val_loss: 0.6535 - val_accuracy: 0.6400\n",
      "Epoch 121/200\n",
      "13/13 [==============================] - 0s 7ms/step - loss: 0.6573 - accuracy: 0.6327 - val_loss: 0.6535 - val_accuracy: 0.6400\n",
      "Epoch 122/200\n",
      "13/13 [==============================] - 0s 6ms/step - loss: 0.6578 - accuracy: 0.6327 - val_loss: 0.6535 - val_accuracy: 0.6400\n",
      "Epoch 123/200\n",
      "13/13 [==============================] - 0s 5ms/step - loss: 0.6572 - accuracy: 0.6327 - val_loss: 0.6535 - val_accuracy: 0.6400\n",
      "Epoch 124/200\n",
      "13/13 [==============================] - 0s 5ms/step - loss: 0.6573 - accuracy: 0.6327 - val_loss: 0.6535 - val_accuracy: 0.6400\n",
      "Epoch 125/200\n",
      "13/13 [==============================] - 0s 5ms/step - loss: 0.6575 - accuracy: 0.6327 - val_loss: 0.6535 - val_accuracy: 0.6400\n",
      "Epoch 126/200\n",
      "13/13 [==============================] - 0s 5ms/step - loss: 0.6581 - accuracy: 0.6327 - val_loss: 0.6535 - val_accuracy: 0.6400\n",
      "Epoch 127/200\n",
      "13/13 [==============================] - 0s 5ms/step - loss: 0.6584 - accuracy: 0.6327 - val_loss: 0.6535 - val_accuracy: 0.6400\n",
      "Epoch 128/200\n",
      "13/13 [==============================] - 0s 4ms/step - loss: 0.6580 - accuracy: 0.6327 - val_loss: 0.6535 - val_accuracy: 0.6400\n",
      "Epoch 129/200\n",
      "13/13 [==============================] - 0s 4ms/step - loss: 0.6575 - accuracy: 0.6327 - val_loss: 0.6535 - val_accuracy: 0.6400\n",
      "Epoch 130/200\n",
      "13/13 [==============================] - 0s 5ms/step - loss: 0.6580 - accuracy: 0.6327 - val_loss: 0.6535 - val_accuracy: 0.6400\n",
      "Epoch 131/200\n",
      "13/13 [==============================] - 0s 5ms/step - loss: 0.6575 - accuracy: 0.6327 - val_loss: 0.6536 - val_accuracy: 0.6400\n",
      "Epoch 132/200\n",
      "13/13 [==============================] - 0s 5ms/step - loss: 0.6576 - accuracy: 0.6327 - val_loss: 0.6536 - val_accuracy: 0.6400\n",
      "Epoch 133/200\n",
      "13/13 [==============================] - 0s 7ms/step - loss: 0.6578 - accuracy: 0.6327 - val_loss: 0.6535 - val_accuracy: 0.6400\n",
      "Epoch 134/200\n",
      "13/13 [==============================] - 0s 5ms/step - loss: 0.6574 - accuracy: 0.6327 - val_loss: 0.6535 - val_accuracy: 0.6400\n",
      "Epoch 135/200\n",
      "13/13 [==============================] - 0s 6ms/step - loss: 0.6576 - accuracy: 0.6327 - val_loss: 0.6535 - val_accuracy: 0.6400\n",
      "Epoch 136/200\n",
      "13/13 [==============================] - 0s 7ms/step - loss: 0.6577 - accuracy: 0.6327 - val_loss: 0.6535 - val_accuracy: 0.6400\n",
      "Epoch 137/200\n",
      "13/13 [==============================] - 0s 6ms/step - loss: 0.6581 - accuracy: 0.6327 - val_loss: 0.6536 - val_accuracy: 0.6400\n",
      "Epoch 138/200\n",
      "13/13 [==============================] - 0s 5ms/step - loss: 0.6574 - accuracy: 0.6327 - val_loss: 0.6536 - val_accuracy: 0.6400\n",
      "Epoch 139/200\n",
      "13/13 [==============================] - 0s 5ms/step - loss: 0.6587 - accuracy: 0.6327 - val_loss: 0.6536 - val_accuracy: 0.6400\n",
      "Epoch 140/200\n",
      "13/13 [==============================] - 0s 6ms/step - loss: 0.6574 - accuracy: 0.6327 - val_loss: 0.6536 - val_accuracy: 0.6400\n",
      "Epoch 141/200\n",
      "13/13 [==============================] - 0s 6ms/step - loss: 0.6573 - accuracy: 0.6327 - val_loss: 0.6536 - val_accuracy: 0.6400\n",
      "Epoch 142/200\n",
      "13/13 [==============================] - 0s 7ms/step - loss: 0.6582 - accuracy: 0.6327 - val_loss: 0.6535 - val_accuracy: 0.6400\n",
      "Epoch 143/200\n",
      "13/13 [==============================] - 0s 6ms/step - loss: 0.6583 - accuracy: 0.6327 - val_loss: 0.6536 - val_accuracy: 0.6400\n",
      "Epoch 144/200\n",
      "13/13 [==============================] - 0s 6ms/step - loss: 0.6585 - accuracy: 0.6327 - val_loss: 0.6535 - val_accuracy: 0.6400\n",
      "Epoch 145/200\n",
      "13/13 [==============================] - 0s 6ms/step - loss: 0.6565 - accuracy: 0.6327 - val_loss: 0.6535 - val_accuracy: 0.6400\n",
      "Epoch 146/200\n",
      "13/13 [==============================] - 0s 5ms/step - loss: 0.6583 - accuracy: 0.6327 - val_loss: 0.6534 - val_accuracy: 0.6400\n",
      "Epoch 147/200\n",
      "13/13 [==============================] - 0s 6ms/step - loss: 0.6577 - accuracy: 0.6327 - val_loss: 0.6535 - val_accuracy: 0.6400\n",
      "Epoch 148/200\n",
      "13/13 [==============================] - 0s 5ms/step - loss: 0.6578 - accuracy: 0.6327 - val_loss: 0.6535 - val_accuracy: 0.6400\n",
      "Epoch 149/200\n",
      "13/13 [==============================] - 0s 10ms/step - loss: 0.6580 - accuracy: 0.6327 - val_loss: 0.6535 - val_accuracy: 0.6400\n",
      "Epoch 150/200\n",
      "13/13 [==============================] - 0s 6ms/step - loss: 0.6575 - accuracy: 0.6327 - val_loss: 0.6535 - val_accuracy: 0.6400\n",
      "Epoch 151/200\n",
      "13/13 [==============================] - 0s 5ms/step - loss: 0.6571 - accuracy: 0.6327 - val_loss: 0.6535 - val_accuracy: 0.6400\n",
      "Epoch 152/200\n",
      "13/13 [==============================] - 0s 6ms/step - loss: 0.6582 - accuracy: 0.6327 - val_loss: 0.6535 - val_accuracy: 0.6400\n",
      "Epoch 153/200\n",
      "13/13 [==============================] - 0s 5ms/step - loss: 0.6585 - accuracy: 0.6327 - val_loss: 0.6534 - val_accuracy: 0.6400\n",
      "Epoch 154/200\n",
      "13/13 [==============================] - 0s 6ms/step - loss: 0.6576 - accuracy: 0.6327 - val_loss: 0.6534 - val_accuracy: 0.6400\n",
      "Epoch 155/200\n",
      "13/13 [==============================] - 0s 6ms/step - loss: 0.6580 - accuracy: 0.6327 - val_loss: 0.6534 - val_accuracy: 0.6400\n",
      "Epoch 156/200\n",
      "13/13 [==============================] - 0s 5ms/step - loss: 0.6573 - accuracy: 0.6327 - val_loss: 0.6534 - val_accuracy: 0.6400\n",
      "Epoch 157/200\n",
      "13/13 [==============================] - 0s 5ms/step - loss: 0.6576 - accuracy: 0.6327 - val_loss: 0.6534 - val_accuracy: 0.6400\n",
      "Epoch 158/200\n",
      "13/13 [==============================] - 0s 6ms/step - loss: 0.6581 - accuracy: 0.6327 - val_loss: 0.6534 - val_accuracy: 0.6400\n",
      "Epoch 159/200\n",
      "13/13 [==============================] - 0s 5ms/step - loss: 0.6579 - accuracy: 0.6327 - val_loss: 0.6534 - val_accuracy: 0.6400\n",
      "Epoch 160/200\n",
      "13/13 [==============================] - 0s 5ms/step - loss: 0.6577 - accuracy: 0.6327 - val_loss: 0.6534 - val_accuracy: 0.6400\n",
      "Epoch 161/200\n",
      "13/13 [==============================] - 0s 5ms/step - loss: 0.6573 - accuracy: 0.6327 - val_loss: 0.6534 - val_accuracy: 0.6400\n",
      "Epoch 162/200\n",
      "13/13 [==============================] - 0s 6ms/step - loss: 0.6581 - accuracy: 0.6327 - val_loss: 0.6535 - val_accuracy: 0.6400\n",
      "Epoch 163/200\n",
      "13/13 [==============================] - 0s 5ms/step - loss: 0.6570 - accuracy: 0.6327 - val_loss: 0.6535 - val_accuracy: 0.6400\n",
      "Epoch 164/200\n",
      "13/13 [==============================] - 0s 6ms/step - loss: 0.6574 - accuracy: 0.6327 - val_loss: 0.6534 - val_accuracy: 0.6400\n",
      "Epoch 165/200\n",
      "13/13 [==============================] - 0s 5ms/step - loss: 0.6577 - accuracy: 0.6327 - val_loss: 0.6535 - val_accuracy: 0.6400\n",
      "Epoch 166/200\n",
      "13/13 [==============================] - 0s 5ms/step - loss: 0.6572 - accuracy: 0.6327 - val_loss: 0.6536 - val_accuracy: 0.6400\n",
      "Epoch 167/200\n",
      "13/13 [==============================] - 0s 5ms/step - loss: 0.6580 - accuracy: 0.6327 - val_loss: 0.6536 - val_accuracy: 0.6400\n",
      "Epoch 168/200\n",
      "13/13 [==============================] - 0s 5ms/step - loss: 0.6575 - accuracy: 0.6327 - val_loss: 0.6536 - val_accuracy: 0.6400\n",
      "Epoch 169/200\n",
      "13/13 [==============================] - 0s 7ms/step - loss: 0.6573 - accuracy: 0.6327 - val_loss: 0.6536 - val_accuracy: 0.6400\n",
      "Epoch 170/200\n",
      "13/13 [==============================] - 0s 6ms/step - loss: 0.6570 - accuracy: 0.6327 - val_loss: 0.6536 - val_accuracy: 0.6400\n",
      "Epoch 171/200\n",
      "13/13 [==============================] - 0s 5ms/step - loss: 0.6583 - accuracy: 0.6327 - val_loss: 0.6535 - val_accuracy: 0.6400\n",
      "Epoch 172/200\n",
      "13/13 [==============================] - 0s 5ms/step - loss: 0.6581 - accuracy: 0.6327 - val_loss: 0.6535 - val_accuracy: 0.6400\n",
      "Epoch 173/200\n",
      "13/13 [==============================] - 0s 5ms/step - loss: 0.6574 - accuracy: 0.6327 - val_loss: 0.6535 - val_accuracy: 0.6400\n",
      "Epoch 174/200\n",
      "13/13 [==============================] - 0s 5ms/step - loss: 0.6578 - accuracy: 0.6327 - val_loss: 0.6535 - val_accuracy: 0.6400\n",
      "Epoch 175/200\n",
      "13/13 [==============================] - 0s 5ms/step - loss: 0.6572 - accuracy: 0.6327 - val_loss: 0.6535 - val_accuracy: 0.6400\n",
      "Epoch 176/200\n",
      "13/13 [==============================] - 0s 6ms/step - loss: 0.6575 - accuracy: 0.6327 - val_loss: 0.6535 - val_accuracy: 0.6400\n",
      "Epoch 177/200\n",
      "13/13 [==============================] - 0s 5ms/step - loss: 0.6576 - accuracy: 0.6327 - val_loss: 0.6534 - val_accuracy: 0.6400\n",
      "Epoch 178/200\n",
      "13/13 [==============================] - 0s 5ms/step - loss: 0.6575 - accuracy: 0.6327 - val_loss: 0.6535 - val_accuracy: 0.6400\n",
      "Epoch 179/200\n",
      "13/13 [==============================] - 0s 4ms/step - loss: 0.6580 - accuracy: 0.6327 - val_loss: 0.6535 - val_accuracy: 0.6400\n",
      "Epoch 180/200\n",
      "13/13 [==============================] - 0s 5ms/step - loss: 0.6577 - accuracy: 0.6327 - val_loss: 0.6535 - val_accuracy: 0.6400\n",
      "Epoch 181/200\n",
      "13/13 [==============================] - 0s 10ms/step - loss: 0.6583 - accuracy: 0.6327 - val_loss: 0.6535 - val_accuracy: 0.6400\n",
      "Epoch 182/200\n",
      "13/13 [==============================] - 0s 20ms/step - loss: 0.6579 - accuracy: 0.6327 - val_loss: 0.6536 - val_accuracy: 0.6400\n",
      "Epoch 183/200\n",
      "13/13 [==============================] - 0s 7ms/step - loss: 0.6579 - accuracy: 0.6327 - val_loss: 0.6535 - val_accuracy: 0.6400\n",
      "Epoch 184/200\n",
      "13/13 [==============================] - 0s 13ms/step - loss: 0.6571 - accuracy: 0.6327 - val_loss: 0.6535 - val_accuracy: 0.6400\n",
      "Epoch 185/200\n",
      "13/13 [==============================] - 0s 6ms/step - loss: 0.6596 - accuracy: 0.6327 - val_loss: 0.6535 - val_accuracy: 0.6400\n",
      "Epoch 186/200\n",
      "13/13 [==============================] - 0s 13ms/step - loss: 0.6585 - accuracy: 0.6327 - val_loss: 0.6535 - val_accuracy: 0.6400\n",
      "Epoch 187/200\n",
      "13/13 [==============================] - 0s 6ms/step - loss: 0.6575 - accuracy: 0.6327 - val_loss: 0.6535 - val_accuracy: 0.6400\n",
      "Epoch 188/200\n",
      "13/13 [==============================] - 0s 11ms/step - loss: 0.6587 - accuracy: 0.6327 - val_loss: 0.6535 - val_accuracy: 0.6400\n",
      "Epoch 189/200\n",
      "13/13 [==============================] - 0s 12ms/step - loss: 0.6580 - accuracy: 0.6327 - val_loss: 0.6535 - val_accuracy: 0.6400\n",
      "Epoch 190/200\n",
      "13/13 [==============================] - 0s 9ms/step - loss: 0.6575 - accuracy: 0.6327 - val_loss: 0.6535 - val_accuracy: 0.6400\n",
      "Epoch 191/200\n",
      "13/13 [==============================] - 0s 6ms/step - loss: 0.6572 - accuracy: 0.6327 - val_loss: 0.6535 - val_accuracy: 0.6400\n",
      "Epoch 192/200\n",
      "13/13 [==============================] - 0s 5ms/step - loss: 0.6577 - accuracy: 0.6327 - val_loss: 0.6535 - val_accuracy: 0.6400\n",
      "Epoch 193/200\n",
      "13/13 [==============================] - 0s 5ms/step - loss: 0.6573 - accuracy: 0.6327 - val_loss: 0.6535 - val_accuracy: 0.6400\n",
      "Epoch 194/200\n",
      "13/13 [==============================] - 0s 23ms/step - loss: 0.6585 - accuracy: 0.6327 - val_loss: 0.6534 - val_accuracy: 0.6400\n",
      "Epoch 195/200\n",
      "13/13 [==============================] - 0s 11ms/step - loss: 0.6576 - accuracy: 0.6327 - val_loss: 0.6534 - val_accuracy: 0.6400\n",
      "Epoch 196/200\n",
      "13/13 [==============================] - 0s 8ms/step - loss: 0.6574 - accuracy: 0.6327 - val_loss: 0.6534 - val_accuracy: 0.6400\n",
      "Epoch 197/200\n",
      "13/13 [==============================] - 0s 16ms/step - loss: 0.6578 - accuracy: 0.6327 - val_loss: 0.6534 - val_accuracy: 0.6400\n",
      "Epoch 198/200\n",
      "13/13 [==============================] - 0s 20ms/step - loss: 0.6572 - accuracy: 0.6327 - val_loss: 0.6534 - val_accuracy: 0.6400\n",
      "Epoch 199/200\n",
      "13/13 [==============================] - 0s 6ms/step - loss: 0.6573 - accuracy: 0.6327 - val_loss: 0.6534 - val_accuracy: 0.6400\n",
      "Epoch 200/200\n",
      "13/13 [==============================] - 0s 8ms/step - loss: 0.6567 - accuracy: 0.6327 - val_loss: 0.6534 - val_accuracy: 0.6400\n"
     ]
    }
   ],
   "source": [
    "history = model.fit(df_Z_minMax, y_train, batch_size=8, epochs=num_epochs, verbose=1, validation_split=0.2)"
   ]
  },
  {
   "cell_type": "code",
   "execution_count": 245,
   "metadata": {},
   "outputs": [
    {
     "name": "stdout",
     "output_type": "stream",
     "text": [
      "2/2 [==============================] - 0s 8ms/step - loss: 0.6529 - accuracy: 0.6393\n",
      "dict_keys(['loss', 'accuracy'])\n",
      "Test Loss: 0.6528770327568054\n",
      "Test Accuracy: 0.6393442749977112\n"
     ]
    }
   ],
   "source": [
    "evaluation = model.evaluate(df_Z_test_minMax, y_test, verbose=1, return_dict=True)\n",
    "\n",
    "print(evaluation.keys())\n",
    "\n",
    "print(\"Test Loss:\", evaluation['loss'])\n",
    "print(\"Test Accuracy:\", evaluation['accuracy'])"
   ]
  },
  {
   "cell_type": "code",
   "execution_count": 269,
   "metadata": {},
   "outputs": [],
   "source": [
    "# inspired by lecture 9, DDE1, Dr. Ates\n",
    "def plot_learning_curves(history):\n",
    "    #We will omit the first 10 points for a better visualization:\n",
    "    plt.plot(history['epoch'][10:],history['loss'][10:], \"k--\", linewidth=1.5, label=\"Training\")\n",
    "    plt.plot(history['epoch'][10:],history['val_loss'][10:], \"b-.\", linewidth=1.5, label=\"CV test\")\n",
    "    plt.legend()\n",
    "    plt.yscale(\"log\")\n",
    "    plt.xlabel(\"Epochs\"),  plt.ylabel(\"Binary Crossentropy\")"
   ]
  },
  {
   "cell_type": "code",
   "execution_count": 271,
   "metadata": {},
   "outputs": [
    {
     "data": {
      "text/html": [
       "<div>\n",
       "<style scoped>\n",
       "    .dataframe tbody tr th:only-of-type {\n",
       "        vertical-align: middle;\n",
       "    }\n",
       "\n",
       "    .dataframe tbody tr th {\n",
       "        vertical-align: top;\n",
       "    }\n",
       "\n",
       "    .dataframe thead th {\n",
       "        text-align: right;\n",
       "    }\n",
       "</style>\n",
       "<table border=\"1\" class=\"dataframe\">\n",
       "  <thead>\n",
       "    <tr style=\"text-align: right;\">\n",
       "      <th></th>\n",
       "      <th>loss</th>\n",
       "      <th>accuracy</th>\n",
       "      <th>val_loss</th>\n",
       "      <th>val_accuracy</th>\n",
       "    </tr>\n",
       "  </thead>\n",
       "  <tbody>\n",
       "    <tr>\n",
       "      <th>244</th>\n",
       "      <td>0.657496</td>\n",
       "      <td>0.632653</td>\n",
       "      <td>0.653518</td>\n",
       "      <td>0.64</td>\n",
       "    </tr>\n",
       "    <tr>\n",
       "      <th>214</th>\n",
       "      <td>0.658162</td>\n",
       "      <td>0.632653</td>\n",
       "      <td>0.653421</td>\n",
       "      <td>0.64</td>\n",
       "    </tr>\n",
       "    <tr>\n",
       "      <th>92</th>\n",
       "      <td>0.657509</td>\n",
       "      <td>0.632653</td>\n",
       "      <td>0.653528</td>\n",
       "      <td>0.64</td>\n",
       "    </tr>\n",
       "  </tbody>\n",
       "</table>\n",
       "</div>"
      ],
      "text/plain": [
       "         loss  accuracy  val_loss  val_accuracy\n",
       "244  0.657496  0.632653  0.653518          0.64\n",
       "214  0.658162  0.632653  0.653421          0.64\n",
       "92   0.657509  0.632653  0.653528          0.64"
      ]
     },
     "execution_count": 271,
     "metadata": {},
     "output_type": "execute_result"
    }
   ],
   "source": [
    "hist = pd.DataFrame(history.history)\n",
    "hist.sample(3)"
   ]
  },
  {
   "cell_type": "code",
   "execution_count": 272,
   "metadata": {},
   "outputs": [
    {
     "data": {
      "text/html": [
       "<div>\n",
       "<style scoped>\n",
       "    .dataframe tbody tr th:only-of-type {\n",
       "        vertical-align: middle;\n",
       "    }\n",
       "\n",
       "    .dataframe tbody tr th {\n",
       "        vertical-align: top;\n",
       "    }\n",
       "\n",
       "    .dataframe thead th {\n",
       "        text-align: right;\n",
       "    }\n",
       "</style>\n",
       "<table border=\"1\" class=\"dataframe\">\n",
       "  <thead>\n",
       "    <tr style=\"text-align: right;\">\n",
       "      <th></th>\n",
       "      <th>loss</th>\n",
       "      <th>accuracy</th>\n",
       "      <th>val_loss</th>\n",
       "      <th>val_accuracy</th>\n",
       "      <th>epoch</th>\n",
       "    </tr>\n",
       "  </thead>\n",
       "  <tbody>\n",
       "    <tr>\n",
       "      <th>258</th>\n",
       "      <td>0.657951</td>\n",
       "      <td>0.632653</td>\n",
       "      <td>0.653600</td>\n",
       "      <td>0.64</td>\n",
       "      <td>258</td>\n",
       "    </tr>\n",
       "    <tr>\n",
       "      <th>201</th>\n",
       "      <td>0.657609</td>\n",
       "      <td>0.632653</td>\n",
       "      <td>0.653441</td>\n",
       "      <td>0.64</td>\n",
       "      <td>201</td>\n",
       "    </tr>\n",
       "    <tr>\n",
       "      <th>88</th>\n",
       "      <td>0.657608</td>\n",
       "      <td>0.632653</td>\n",
       "      <td>0.653588</td>\n",
       "      <td>0.64</td>\n",
       "      <td>88</td>\n",
       "    </tr>\n",
       "  </tbody>\n",
       "</table>\n",
       "</div>"
      ],
      "text/plain": [
       "         loss  accuracy  val_loss  val_accuracy  epoch\n",
       "258  0.657951  0.632653  0.653600          0.64    258\n",
       "201  0.657609  0.632653  0.653441          0.64    201\n",
       "88   0.657608  0.632653  0.653588          0.64     88"
      ]
     },
     "execution_count": 272,
     "metadata": {},
     "output_type": "execute_result"
    }
   ],
   "source": [
    "#Adding epoch column:\n",
    "hist['epoch'] = history.epoch\n",
    "hist.sample(3)"
   ]
  },
  {
   "cell_type": "code",
   "execution_count": 273,
   "metadata": {},
   "outputs": [
    {
     "data": {
      "image/png": "[encoded data removed]",
      "text/plain": [
       "<Figure size 432x288 with 1 Axes>"
      ]
     },
     "metadata": {
      "needs_background": "light"
     },
     "output_type": "display_data"
    }
   ],
   "source": [
    "plot_learning_curves(hist)"
   ]
  },
  {
   "cell_type": "markdown",
   "metadata": {},
   "source": [
    "- You can see that the NN is probably underfitted (train acc of 0.63 and test acc of 0.63).\n",
    "- We can try to add some more layers. Dropouts seems to have no impact here. We can try it anyways.\n",
    "- More epochs seem to have no impact since the NN quickly converge --> remember our dataset is pretty small\n",
    "\n",
    "Quoted from keras:\n",
    "The Dropout layer randomly sets input units to 0 with a frequency of rate at each step during training time, which helps prevent overfitting"
   ]
  },
  {
   "cell_type": "code",
   "execution_count": 336,
   "metadata": {},
   "outputs": [
    {
     "data": {
      "text/plain": [
       "<sklearn.metrics._plot.confusion_matrix.ConfusionMatrixDisplay at 0x1a1a88849c8>"
      ]
     },
     "execution_count": 336,
     "metadata": {},
     "output_type": "execute_result"
    },
    {
     "data": {
      "image/png": "[encoded data removed]",
      "text/plain": [
       "<Figure size 432x288 with 2 Axes>"
      ]
     },
     "metadata": {
      "needs_background": "light"
     },
     "output_type": "display_data"
    }
   ],
   "source": [
    "#Let's have a look into the prediction I assume that we only predict class 1:\n",
    "\n",
    "y_pred = model.predict(df_Z_test_minMax)\n",
    "\n",
    "sk.metrics.ConfusionMatrixDisplay.from_predictions(y_test, y_pred)"
   ]
  },
  {
   "cell_type": "markdown",
   "metadata": {},
   "source": [
    "That is what I expected. The NN is not capable of predicting class 0. \n",
    "\n",
    "I could not found an error in my code or my input data so I assume that the samples of class 0 are too less to make an impact on our NN. \n",
    "Nevertheless we will try to optimize it. I don't think more complex NN will perform better but we can try."
   ]
  },
  {
   "cell_type": "markdown",
   "metadata": {},
   "source": [
    "# 5 Testing Phase III: Model Regularization and Hyperparameter optimization"
   ]
  },
  {
   "cell_type": "markdown",
   "metadata": {},
   "source": [
    "Here we will try to optimize our NN so that it can predict both classes. \n",
    "\n",
    "What we will do:\n",
    "- Try out more layers --> make NN more complex\n",
    "- Add Dropouts"
   ]
  },
  {
   "cell_type": "markdown",
   "metadata": {},
   "source": [
    "Let's build a new model:"
   ]
  },
  {
   "cell_type": "code",
   "execution_count": 274,
   "metadata": {},
   "outputs": [],
   "source": [
    "model_2 = Sequential()\n",
    "model_2.add(Dense(df_Z_minMax.shape[1], activation= activation_function, kernel_initializer=kernel_initializer, input_shape=(df_Z_minMax.shape[1],)))\n",
    "model_2.add(Dense(3, activation= activation_function, kernel_initializer=kernel_initializer, input_shape=(df_Z_minMax.shape[1],)))\n",
    "model_2.add(Dense(6, activation= activation_function, kernel_initializer=kernel_initializer, input_shape=(9,)))\n",
    "model_2.add(Dense(6, activation= activation_function, kernel_initializer=kernel_initializer, input_shape=(df_Z_minMax.shape[1],)))\n",
    "model_2.add(Dense(9, activation= activation_function, kernel_initializer=kernel_initializer, input_shape=(9,)))\n",
    "model_2.add(Dense(9, activation= activation_function, kernel_initializer=kernel_initializer, input_shape=(9,)))\n",
    "model_2.add(Dropout(0.2))\n",
    "model_2.add(Dense(9, activation= activation_function, kernel_initializer=kernel_initializer, input_shape=(9,)))\n",
    "model_2.add(Dense(9, activation= activation_function, kernel_initializer=kernel_initializer, input_shape=(9,)))\n",
    "model_2.add(Dense(9, activation= activation_function, kernel_initializer=kernel_initializer, input_shape=(9,)))\n",
    "model_2.add(Dropout(0.2))\n",
    "model_2.add(Dense(6, activation= activation_function, kernel_initializer=kernel_initializer, input_shape=(9,)))\n",
    "model_2.add(Dense(3, activation= activation_function, kernel_initializer=kernel_initializer, input_shape=(3,)))\n",
    "model_2.add(Dense(3, activation= activation_function, kernel_initializer=kernel_initializer, input_shape=(3,)))\n",
    "model_2.add(Dense(1 ,activation = \"softmax\", kernel_initializer=kernel_initializer))\n",
    "model_2.compile(optimizer=\"Adam\", loss=loss_function, metrics=['accuracy'])"
   ]
  },
  {
   "cell_type": "code",
   "execution_count": 282,
   "metadata": {},
   "outputs": [
    {
     "name": "stdout",
     "output_type": "stream",
     "text": [
      "Model: \"sequential_22\"\n",
      "_________________________________________________________________\n",
      " Layer (type)                Output Shape              Param #   \n",
      "=================================================================\n",
      " dense_157 (Dense)           (None, 3)                 12        \n",
      "                                                                 \n",
      " dense_158 (Dense)           (None, 3)                 12        \n",
      "                                                                 \n",
      " dense_159 (Dense)           (None, 6)                 24        \n",
      "                                                                 \n",
      " dense_160 (Dense)           (None, 6)                 42        \n",
      "                                                                 \n",
      " dense_161 (Dense)           (None, 9)                 63        \n",
      "                                                                 \n",
      " dense_162 (Dense)           (None, 9)                 90        \n",
      "                                                                 \n",
      " dropout_8 (Dropout)         (None, 9)                 0         \n",
      "                                                                 \n",
      " dense_163 (Dense)           (None, 9)                 90        \n",
      "                                                                 \n",
      " dense_164 (Dense)           (None, 9)                 90        \n",
      "                                                                 \n",
      " dense_165 (Dense)           (None, 9)                 90        \n",
      "                                                                 \n",
      " dropout_9 (Dropout)         (None, 9)                 0         \n",
      "                                                                 \n",
      " dense_166 (Dense)           (None, 6)                 60        \n",
      "                                                                 \n",
      " dense_167 (Dense)           (None, 3)                 21        \n",
      "                                                                 \n",
      " dense_168 (Dense)           (None, 3)                 12        \n",
      "                                                                 \n",
      " dense_169 (Dense)           (None, 1)                 4         \n",
      "                                                                 \n",
      "=================================================================\n",
      "Total params: 610\n",
      "Trainable params: 610\n",
      "Non-trainable params: 0\n",
      "_________________________________________________________________\n",
      "None\n"
     ]
    }
   ],
   "source": [
    "print(model_2.summary())"
   ]
  },
  {
   "cell_type": "markdown",
   "metadata": {},
   "source": [
    "Now we have quite a lot (not comparable to Deep Learning) trainable params"
   ]
  },
  {
   "cell_type": "code",
   "execution_count": 275,
   "metadata": {},
   "outputs": [
    {
     "name": "stdout",
     "output_type": "stream",
     "text": [
      "Epoch 1/300\n",
      "13/13 [==============================] - 4s 176ms/step - loss: 0.6841 - accuracy: 0.6327 - val_loss: 0.6811 - val_accuracy: 0.6400\n",
      "Epoch 2/300\n",
      "13/13 [==============================] - 0s 6ms/step - loss: 0.6810 - accuracy: 0.6327 - val_loss: 0.6758 - val_accuracy: 0.6400\n",
      "Epoch 3/300\n",
      "13/13 [==============================] - 0s 8ms/step - loss: 0.6755 - accuracy: 0.6327 - val_loss: 0.6721 - val_accuracy: 0.6400\n",
      "Epoch 4/300\n",
      "13/13 [==============================] - 0s 9ms/step - loss: 0.6715 - accuracy: 0.6327 - val_loss: 0.6693 - val_accuracy: 0.6400\n",
      "Epoch 5/300\n",
      "13/13 [==============================] - 0s 13ms/step - loss: 0.6700 - accuracy: 0.6327 - val_loss: 0.6661 - val_accuracy: 0.6400\n",
      "Epoch 6/300\n",
      "13/13 [==============================] - 0s 16ms/step - loss: 0.6677 - accuracy: 0.6327 - val_loss: 0.6635 - val_accuracy: 0.6400\n",
      "Epoch 7/300\n",
      "13/13 [==============================] - 0s 16ms/step - loss: 0.6649 - accuracy: 0.6327 - val_loss: 0.6622 - val_accuracy: 0.6400\n",
      "Epoch 8/300\n",
      "13/13 [==============================] - 0s 8ms/step - loss: 0.6643 - accuracy: 0.6327 - val_loss: 0.6619 - val_accuracy: 0.6400\n",
      "Epoch 9/300\n",
      "13/13 [==============================] - 0s 19ms/step - loss: 0.6637 - accuracy: 0.6327 - val_loss: 0.6604 - val_accuracy: 0.6400\n",
      "Epoch 10/300\n",
      "13/13 [==============================] - 0s 16ms/step - loss: 0.6626 - accuracy: 0.6327 - val_loss: 0.6594 - val_accuracy: 0.6400\n",
      "Epoch 11/300\n",
      "13/13 [==============================] - 0s 11ms/step - loss: 0.6611 - accuracy: 0.6327 - val_loss: 0.6588 - val_accuracy: 0.6400\n",
      "Epoch 12/300\n",
      "13/13 [==============================] - 0s 14ms/step - loss: 0.6615 - accuracy: 0.6327 - val_loss: 0.6582 - val_accuracy: 0.6400\n",
      "Epoch 13/300\n",
      "13/13 [==============================] - 0s 11ms/step - loss: 0.6601 - accuracy: 0.6327 - val_loss: 0.6573 - val_accuracy: 0.6400\n",
      "Epoch 14/300\n",
      "13/13 [==============================] - 0s 10ms/step - loss: 0.6596 - accuracy: 0.6327 - val_loss: 0.6568 - val_accuracy: 0.6400\n",
      "Epoch 15/300\n",
      "13/13 [==============================] - 0s 8ms/step - loss: 0.6592 - accuracy: 0.6327 - val_loss: 0.6564 - val_accuracy: 0.6400\n",
      "Epoch 16/300\n",
      "13/13 [==============================] - 0s 30ms/step - loss: 0.6590 - accuracy: 0.6327 - val_loss: 0.6563 - val_accuracy: 0.6400\n",
      "Epoch 17/300\n",
      "13/13 [==============================] - 0s 10ms/step - loss: 0.6594 - accuracy: 0.6327 - val_loss: 0.6564 - val_accuracy: 0.6400\n",
      "Epoch 18/300\n",
      "13/13 [==============================] - 0s 9ms/step - loss: 0.6596 - accuracy: 0.6327 - val_loss: 0.6563 - val_accuracy: 0.6400\n",
      "Epoch 19/300\n",
      "13/13 [==============================] - 0s 8ms/step - loss: 0.6585 - accuracy: 0.6327 - val_loss: 0.6558 - val_accuracy: 0.6400\n",
      "Epoch 20/300\n",
      "13/13 [==============================] - 0s 8ms/step - loss: 0.6589 - accuracy: 0.6327 - val_loss: 0.6556 - val_accuracy: 0.6400\n",
      "Epoch 21/300\n",
      "13/13 [==============================] - 0s 11ms/step - loss: 0.6598 - accuracy: 0.6327 - val_loss: 0.6552 - val_accuracy: 0.6400\n",
      "Epoch 22/300\n",
      "13/13 [==============================] - 0s 6ms/step - loss: 0.6595 - accuracy: 0.6327 - val_loss: 0.6549 - val_accuracy: 0.6400\n",
      "Epoch 23/300\n",
      "13/13 [==============================] - 0s 16ms/step - loss: 0.6588 - accuracy: 0.6327 - val_loss: 0.6550 - val_accuracy: 0.6400\n",
      "Epoch 24/300\n",
      "13/13 [==============================] - 0s 16ms/step - loss: 0.6585 - accuracy: 0.6327 - val_loss: 0.6549 - val_accuracy: 0.6400\n",
      "Epoch 25/300\n",
      "13/13 [==============================] - 0s 12ms/step - loss: 0.6584 - accuracy: 0.6327 - val_loss: 0.6546 - val_accuracy: 0.6400\n",
      "Epoch 26/300\n",
      "13/13 [==============================] - 0s 11ms/step - loss: 0.6577 - accuracy: 0.6327 - val_loss: 0.6544 - val_accuracy: 0.6400\n",
      "Epoch 27/300\n",
      "13/13 [==============================] - 0s 6ms/step - loss: 0.6582 - accuracy: 0.6327 - val_loss: 0.6542 - val_accuracy: 0.6400\n",
      "Epoch 28/300\n",
      "13/13 [==============================] - 0s 6ms/step - loss: 0.6578 - accuracy: 0.6327 - val_loss: 0.6541 - val_accuracy: 0.6400\n",
      "Epoch 29/300\n",
      "13/13 [==============================] - 0s 6ms/step - loss: 0.6586 - accuracy: 0.6327 - val_loss: 0.6540 - val_accuracy: 0.6400\n",
      "Epoch 30/300\n",
      "13/13 [==============================] - 0s 6ms/step - loss: 0.6573 - accuracy: 0.6327 - val_loss: 0.6540 - val_accuracy: 0.6400\n",
      "Epoch 31/300\n",
      "13/13 [==============================] - 0s 6ms/step - loss: 0.6569 - accuracy: 0.6327 - val_loss: 0.6539 - val_accuracy: 0.6400\n",
      "Epoch 32/300\n",
      "13/13 [==============================] - 0s 8ms/step - loss: 0.6577 - accuracy: 0.6327 - val_loss: 0.6540 - val_accuracy: 0.6400\n",
      "Epoch 33/300\n",
      "13/13 [==============================] - 0s 9ms/step - loss: 0.6571 - accuracy: 0.6327 - val_loss: 0.6538 - val_accuracy: 0.6400\n",
      "Epoch 34/300\n",
      "13/13 [==============================] - 0s 11ms/step - loss: 0.6571 - accuracy: 0.6327 - val_loss: 0.6539 - val_accuracy: 0.6400\n",
      "Epoch 35/300\n",
      "13/13 [==============================] - 0s 8ms/step - loss: 0.6581 - accuracy: 0.6327 - val_loss: 0.6537 - val_accuracy: 0.6400\n",
      "Epoch 36/300\n",
      "13/13 [==============================] - 0s 8ms/step - loss: 0.6570 - accuracy: 0.6327 - val_loss: 0.6537 - val_accuracy: 0.6400\n",
      "Epoch 37/300\n",
      "13/13 [==============================] - 0s 7ms/step - loss: 0.6581 - accuracy: 0.6327 - val_loss: 0.6537 - val_accuracy: 0.6400\n",
      "Epoch 38/300\n",
      "13/13 [==============================] - 0s 6ms/step - loss: 0.6585 - accuracy: 0.6327 - val_loss: 0.6539 - val_accuracy: 0.6400\n",
      "Epoch 39/300\n",
      "13/13 [==============================] - 0s 5ms/step - loss: 0.6575 - accuracy: 0.6327 - val_loss: 0.6539 - val_accuracy: 0.6400\n",
      "Epoch 40/300\n",
      "13/13 [==============================] - 0s 5ms/step - loss: 0.6581 - accuracy: 0.6327 - val_loss: 0.6538 - val_accuracy: 0.6400\n",
      "Epoch 41/300\n",
      "13/13 [==============================] - 0s 5ms/step - loss: 0.6574 - accuracy: 0.6327 - val_loss: 0.6537 - val_accuracy: 0.6400\n",
      "Epoch 42/300\n",
      "13/13 [==============================] - 0s 5ms/step - loss: 0.6575 - accuracy: 0.6327 - val_loss: 0.6536 - val_accuracy: 0.6400\n",
      "Epoch 43/300\n",
      "13/13 [==============================] - 0s 5ms/step - loss: 0.6582 - accuracy: 0.6327 - val_loss: 0.6536 - val_accuracy: 0.6400\n",
      "Epoch 44/300\n",
      "13/13 [==============================] - 0s 5ms/step - loss: 0.6583 - accuracy: 0.6327 - val_loss: 0.6535 - val_accuracy: 0.6400\n",
      "Epoch 45/300\n",
      "13/13 [==============================] - 0s 5ms/step - loss: 0.6564 - accuracy: 0.6327 - val_loss: 0.6535 - val_accuracy: 0.6400\n",
      "Epoch 46/300\n",
      "13/13 [==============================] - 0s 5ms/step - loss: 0.6570 - accuracy: 0.6327 - val_loss: 0.6535 - val_accuracy: 0.6400\n",
      "Epoch 47/300\n",
      "13/13 [==============================] - 0s 4ms/step - loss: 0.6576 - accuracy: 0.6327 - val_loss: 0.6535 - val_accuracy: 0.6400\n",
      "Epoch 48/300\n",
      "13/13 [==============================] - 0s 4ms/step - loss: 0.6576 - accuracy: 0.6327 - val_loss: 0.6535 - val_accuracy: 0.6400\n",
      "Epoch 49/300\n",
      "13/13 [==============================] - 0s 5ms/step - loss: 0.6575 - accuracy: 0.6327 - val_loss: 0.6536 - val_accuracy: 0.6400\n",
      "Epoch 50/300\n",
      "13/13 [==============================] - 0s 5ms/step - loss: 0.6577 - accuracy: 0.6327 - val_loss: 0.6536 - val_accuracy: 0.6400\n",
      "Epoch 51/300\n",
      "13/13 [==============================] - 0s 5ms/step - loss: 0.6573 - accuracy: 0.6327 - val_loss: 0.6536 - val_accuracy: 0.6400\n",
      "Epoch 52/300\n",
      "13/13 [==============================] - 0s 4ms/step - loss: 0.6571 - accuracy: 0.6327 - val_loss: 0.6535 - val_accuracy: 0.6400\n",
      "Epoch 53/300\n",
      "13/13 [==============================] - 0s 5ms/step - loss: 0.6584 - accuracy: 0.6327 - val_loss: 0.6535 - val_accuracy: 0.6400\n",
      "Epoch 54/300\n",
      "13/13 [==============================] - 0s 6ms/step - loss: 0.6568 - accuracy: 0.6327 - val_loss: 0.6535 - val_accuracy: 0.6400\n",
      "Epoch 55/300\n",
      "13/13 [==============================] - 0s 13ms/step - loss: 0.6578 - accuracy: 0.6327 - val_loss: 0.6535 - val_accuracy: 0.6400\n",
      "Epoch 56/300\n",
      "13/13 [==============================] - 0s 8ms/step - loss: 0.6570 - accuracy: 0.6327 - val_loss: 0.6534 - val_accuracy: 0.6400\n",
      "Epoch 57/300\n",
      "13/13 [==============================] - 0s 10ms/step - loss: 0.6577 - accuracy: 0.6327 - val_loss: 0.6535 - val_accuracy: 0.6400\n",
      "Epoch 58/300\n",
      "13/13 [==============================] - 0s 19ms/step - loss: 0.6570 - accuracy: 0.6327 - val_loss: 0.6534 - val_accuracy: 0.6400\n",
      "Epoch 59/300\n",
      "13/13 [==============================] - 0s 15ms/step - loss: 0.6573 - accuracy: 0.6327 - val_loss: 0.6534 - val_accuracy: 0.6400\n",
      "Epoch 60/300\n",
      "13/13 [==============================] - 0s 7ms/step - loss: 0.6576 - accuracy: 0.6327 - val_loss: 0.6534 - val_accuracy: 0.6400\n",
      "Epoch 61/300\n",
      "13/13 [==============================] - 0s 6ms/step - loss: 0.6579 - accuracy: 0.6327 - val_loss: 0.6534 - val_accuracy: 0.6400\n",
      "Epoch 62/300\n",
      "13/13 [==============================] - 0s 6ms/step - loss: 0.6587 - accuracy: 0.6327 - val_loss: 0.6534 - val_accuracy: 0.6400\n",
      "Epoch 63/300\n",
      "13/13 [==============================] - 0s 5ms/step - loss: 0.6584 - accuracy: 0.6327 - val_loss: 0.6535 - val_accuracy: 0.6400\n",
      "Epoch 64/300\n",
      "13/13 [==============================] - 0s 5ms/step - loss: 0.6588 - accuracy: 0.6327 - val_loss: 0.6535 - val_accuracy: 0.6400\n",
      "Epoch 65/300\n",
      "13/13 [==============================] - 0s 5ms/step - loss: 0.6567 - accuracy: 0.6327 - val_loss: 0.6535 - val_accuracy: 0.6400\n",
      "Epoch 66/300\n",
      "13/13 [==============================] - 0s 12ms/step - loss: 0.6567 - accuracy: 0.6327 - val_loss: 0.6535 - val_accuracy: 0.6400\n",
      "Epoch 67/300\n",
      "13/13 [==============================] - 0s 19ms/step - loss: 0.6585 - accuracy: 0.6327 - val_loss: 0.6535 - val_accuracy: 0.6400\n",
      "Epoch 68/300\n",
      "13/13 [==============================] - 0s 6ms/step - loss: 0.6582 - accuracy: 0.6327 - val_loss: 0.6534 - val_accuracy: 0.6400\n",
      "Epoch 69/300\n",
      "13/13 [==============================] - 0s 5ms/step - loss: 0.6583 - accuracy: 0.6327 - val_loss: 0.6535 - val_accuracy: 0.6400\n",
      "Epoch 70/300\n",
      "13/13 [==============================] - 0s 5ms/step - loss: 0.6579 - accuracy: 0.6327 - val_loss: 0.6536 - val_accuracy: 0.6400\n",
      "Epoch 71/300\n",
      "13/13 [==============================] - 0s 5ms/step - loss: 0.6578 - accuracy: 0.6327 - val_loss: 0.6535 - val_accuracy: 0.6400\n",
      "Epoch 72/300\n",
      "13/13 [==============================] - 0s 5ms/step - loss: 0.6569 - accuracy: 0.6327 - val_loss: 0.6536 - val_accuracy: 0.6400\n",
      "Epoch 73/300\n",
      "13/13 [==============================] - 0s 5ms/step - loss: 0.6577 - accuracy: 0.6327 - val_loss: 0.6537 - val_accuracy: 0.6400\n",
      "Epoch 74/300\n",
      "13/13 [==============================] - 0s 4ms/step - loss: 0.6568 - accuracy: 0.6327 - val_loss: 0.6537 - val_accuracy: 0.6400\n",
      "Epoch 75/300\n",
      "13/13 [==============================] - 0s 4ms/step - loss: 0.6576 - accuracy: 0.6327 - val_loss: 0.6537 - val_accuracy: 0.6400\n",
      "Epoch 76/300\n",
      "13/13 [==============================] - 0s 4ms/step - loss: 0.6589 - accuracy: 0.6327 - val_loss: 0.6536 - val_accuracy: 0.6400\n",
      "Epoch 77/300\n",
      "13/13 [==============================] - 0s 4ms/step - loss: 0.6577 - accuracy: 0.6327 - val_loss: 0.6536 - val_accuracy: 0.6400\n",
      "Epoch 78/300\n",
      "13/13 [==============================] - 0s 4ms/step - loss: 0.6567 - accuracy: 0.6327 - val_loss: 0.6537 - val_accuracy: 0.6400\n",
      "Epoch 79/300\n",
      "13/13 [==============================] - 0s 4ms/step - loss: 0.6581 - accuracy: 0.6327 - val_loss: 0.6537 - val_accuracy: 0.6400\n",
      "Epoch 80/300\n",
      "13/13 [==============================] - 0s 4ms/step - loss: 0.6587 - accuracy: 0.6327 - val_loss: 0.6537 - val_accuracy: 0.6400\n",
      "Epoch 81/300\n",
      "13/13 [==============================] - 0s 4ms/step - loss: 0.6575 - accuracy: 0.6327 - val_loss: 0.6537 - val_accuracy: 0.6400\n",
      "Epoch 82/300\n",
      "13/13 [==============================] - 0s 5ms/step - loss: 0.6579 - accuracy: 0.6327 - val_loss: 0.6537 - val_accuracy: 0.6400\n",
      "Epoch 83/300\n",
      "13/13 [==============================] - 0s 6ms/step - loss: 0.6578 - accuracy: 0.6327 - val_loss: 0.6539 - val_accuracy: 0.6400\n",
      "Epoch 84/300\n",
      "13/13 [==============================] - 0s 5ms/step - loss: 0.6577 - accuracy: 0.6327 - val_loss: 0.6540 - val_accuracy: 0.6400\n",
      "Epoch 85/300\n",
      "13/13 [==============================] - 0s 5ms/step - loss: 0.6591 - accuracy: 0.6327 - val_loss: 0.6538 - val_accuracy: 0.6400\n",
      "Epoch 86/300\n",
      "13/13 [==============================] - 0s 5ms/step - loss: 0.6584 - accuracy: 0.6327 - val_loss: 0.6538 - val_accuracy: 0.6400\n",
      "Epoch 87/300\n",
      "13/13 [==============================] - 0s 6ms/step - loss: 0.6570 - accuracy: 0.6327 - val_loss: 0.6540 - val_accuracy: 0.6400\n",
      "Epoch 88/300\n",
      "13/13 [==============================] - 0s 5ms/step - loss: 0.6587 - accuracy: 0.6327 - val_loss: 0.6540 - val_accuracy: 0.6400\n",
      "Epoch 89/300\n",
      "13/13 [==============================] - 0s 5ms/step - loss: 0.6574 - accuracy: 0.6327 - val_loss: 0.6541 - val_accuracy: 0.6400\n",
      "Epoch 90/300\n",
      "13/13 [==============================] - 0s 5ms/step - loss: 0.6573 - accuracy: 0.6327 - val_loss: 0.6540 - val_accuracy: 0.6400\n",
      "Epoch 91/300\n",
      "13/13 [==============================] - 0s 5ms/step - loss: 0.6570 - accuracy: 0.6327 - val_loss: 0.6539 - val_accuracy: 0.6400\n",
      "Epoch 92/300\n",
      "13/13 [==============================] - 0s 5ms/step - loss: 0.6574 - accuracy: 0.6327 - val_loss: 0.6538 - val_accuracy: 0.6400\n",
      "Epoch 93/300\n",
      "13/13 [==============================] - 0s 5ms/step - loss: 0.6579 - accuracy: 0.6327 - val_loss: 0.6536 - val_accuracy: 0.6400\n",
      "Epoch 94/300\n",
      "13/13 [==============================] - 0s 4ms/step - loss: 0.6580 - accuracy: 0.6327 - val_loss: 0.6537 - val_accuracy: 0.6400\n",
      "Epoch 95/300\n",
      "13/13 [==============================] - 0s 4ms/step - loss: 0.6574 - accuracy: 0.6327 - val_loss: 0.6537 - val_accuracy: 0.6400\n",
      "Epoch 96/300\n",
      "13/13 [==============================] - 0s 5ms/step - loss: 0.6590 - accuracy: 0.6327 - val_loss: 0.6537 - val_accuracy: 0.6400\n",
      "Epoch 97/300\n",
      "13/13 [==============================] - 0s 5ms/step - loss: 0.6574 - accuracy: 0.6327 - val_loss: 0.6536 - val_accuracy: 0.6400\n",
      "Epoch 98/300\n",
      "13/13 [==============================] - 0s 5ms/step - loss: 0.6574 - accuracy: 0.6327 - val_loss: 0.6535 - val_accuracy: 0.6400\n",
      "Epoch 99/300\n",
      "13/13 [==============================] - 0s 5ms/step - loss: 0.6573 - accuracy: 0.6327 - val_loss: 0.6535 - val_accuracy: 0.6400\n",
      "Epoch 100/300\n",
      "13/13 [==============================] - 0s 4ms/step - loss: 0.6565 - accuracy: 0.6327 - val_loss: 0.6535 - val_accuracy: 0.6400\n",
      "Epoch 101/300\n",
      "13/13 [==============================] - 0s 5ms/step - loss: 0.6586 - accuracy: 0.6327 - val_loss: 0.6535 - val_accuracy: 0.6400\n",
      "Epoch 102/300\n",
      "13/13 [==============================] - 0s 5ms/step - loss: 0.6571 - accuracy: 0.6327 - val_loss: 0.6535 - val_accuracy: 0.6400\n",
      "Epoch 103/300\n",
      "13/13 [==============================] - 0s 5ms/step - loss: 0.6571 - accuracy: 0.6327 - val_loss: 0.6535 - val_accuracy: 0.6400\n",
      "Epoch 104/300\n",
      "13/13 [==============================] - 0s 6ms/step - loss: 0.6572 - accuracy: 0.6327 - val_loss: 0.6535 - val_accuracy: 0.6400\n",
      "Epoch 105/300\n",
      "13/13 [==============================] - 0s 6ms/step - loss: 0.6575 - accuracy: 0.6327 - val_loss: 0.6536 - val_accuracy: 0.6400\n",
      "Epoch 106/300\n",
      "13/13 [==============================] - 0s 5ms/step - loss: 0.6570 - accuracy: 0.6327 - val_loss: 0.6537 - val_accuracy: 0.6400\n",
      "Epoch 107/300\n",
      "13/13 [==============================] - 0s 13ms/step - loss: 0.6573 - accuracy: 0.6327 - val_loss: 0.6537 - val_accuracy: 0.6400\n",
      "Epoch 108/300\n",
      "13/13 [==============================] - 0s 12ms/step - loss: 0.6571 - accuracy: 0.6327 - val_loss: 0.6537 - val_accuracy: 0.6400\n",
      "Epoch 109/300\n",
      "13/13 [==============================] - 0s 8ms/step - loss: 0.6577 - accuracy: 0.6327 - val_loss: 0.6537 - val_accuracy: 0.6400\n",
      "Epoch 110/300\n",
      "13/13 [==============================] - 0s 6ms/step - loss: 0.6583 - accuracy: 0.6327 - val_loss: 0.6536 - val_accuracy: 0.6400\n",
      "Epoch 111/300\n",
      "13/13 [==============================] - 0s 6ms/step - loss: 0.6574 - accuracy: 0.6327 - val_loss: 0.6536 - val_accuracy: 0.6400\n",
      "Epoch 112/300\n",
      "13/13 [==============================] - 0s 6ms/step - loss: 0.6576 - accuracy: 0.6327 - val_loss: 0.6535 - val_accuracy: 0.6400\n",
      "Epoch 113/300\n",
      "13/13 [==============================] - 0s 6ms/step - loss: 0.6567 - accuracy: 0.6327 - val_loss: 0.6535 - val_accuracy: 0.6400\n",
      "Epoch 114/300\n",
      "13/13 [==============================] - 0s 6ms/step - loss: 0.6575 - accuracy: 0.6327 - val_loss: 0.6535 - val_accuracy: 0.6400\n",
      "Epoch 115/300\n",
      "13/13 [==============================] - 0s 6ms/step - loss: 0.6582 - accuracy: 0.6327 - val_loss: 0.6535 - val_accuracy: 0.6400\n",
      "Epoch 116/300\n",
      "13/13 [==============================] - 0s 5ms/step - loss: 0.6576 - accuracy: 0.6327 - val_loss: 0.6536 - val_accuracy: 0.6400\n",
      "Epoch 117/300\n",
      "13/13 [==============================] - 0s 6ms/step - loss: 0.6581 - accuracy: 0.6327 - val_loss: 0.6535 - val_accuracy: 0.6400\n",
      "Epoch 118/300\n",
      "13/13 [==============================] - 0s 6ms/step - loss: 0.6575 - accuracy: 0.6327 - val_loss: 0.6536 - val_accuracy: 0.6400\n",
      "Epoch 119/300\n",
      "13/13 [==============================] - 0s 6ms/step - loss: 0.6571 - accuracy: 0.6327 - val_loss: 0.6535 - val_accuracy: 0.6400\n",
      "Epoch 120/300\n",
      "13/13 [==============================] - 0s 8ms/step - loss: 0.6581 - accuracy: 0.6327 - val_loss: 0.6535 - val_accuracy: 0.6400\n",
      "Epoch 121/300\n",
      "13/13 [==============================] - 0s 7ms/step - loss: 0.6581 - accuracy: 0.6327 - val_loss: 0.6535 - val_accuracy: 0.6400\n",
      "Epoch 122/300\n",
      "13/13 [==============================] - 0s 6ms/step - loss: 0.6572 - accuracy: 0.6327 - val_loss: 0.6535 - val_accuracy: 0.6400\n",
      "Epoch 123/300\n",
      "13/13 [==============================] - 0s 6ms/step - loss: 0.6582 - accuracy: 0.6327 - val_loss: 0.6536 - val_accuracy: 0.6400\n",
      "Epoch 124/300\n",
      "13/13 [==============================] - 0s 6ms/step - loss: 0.6576 - accuracy: 0.6327 - val_loss: 0.6536 - val_accuracy: 0.6400\n",
      "Epoch 125/300\n",
      "13/13 [==============================] - 0s 12ms/step - loss: 0.6574 - accuracy: 0.6327 - val_loss: 0.6536 - val_accuracy: 0.6400\n",
      "Epoch 126/300\n",
      "13/13 [==============================] - 0s 7ms/step - loss: 0.6576 - accuracy: 0.6327 - val_loss: 0.6536 - val_accuracy: 0.6400\n",
      "Epoch 127/300\n",
      "13/13 [==============================] - 0s 8ms/step - loss: 0.6581 - accuracy: 0.6327 - val_loss: 0.6535 - val_accuracy: 0.6400\n",
      "Epoch 128/300\n",
      "13/13 [==============================] - 0s 5ms/step - loss: 0.6577 - accuracy: 0.6327 - val_loss: 0.6535 - val_accuracy: 0.6400\n",
      "Epoch 129/300\n",
      "13/13 [==============================] - 0s 5ms/step - loss: 0.6574 - accuracy: 0.6327 - val_loss: 0.6535 - val_accuracy: 0.6400\n",
      "Epoch 130/300\n",
      "13/13 [==============================] - 0s 5ms/step - loss: 0.6582 - accuracy: 0.6327 - val_loss: 0.6536 - val_accuracy: 0.6400\n",
      "Epoch 131/300\n",
      "13/13 [==============================] - 0s 6ms/step - loss: 0.6575 - accuracy: 0.6327 - val_loss: 0.6536 - val_accuracy: 0.6400\n",
      "Epoch 132/300\n",
      "13/13 [==============================] - 0s 6ms/step - loss: 0.6578 - accuracy: 0.6327 - val_loss: 0.6536 - val_accuracy: 0.6400\n",
      "Epoch 133/300\n",
      "13/13 [==============================] - 0s 6ms/step - loss: 0.6573 - accuracy: 0.6327 - val_loss: 0.6536 - val_accuracy: 0.6400\n",
      "Epoch 134/300\n",
      "13/13 [==============================] - 0s 6ms/step - loss: 0.6581 - accuracy: 0.6327 - val_loss: 0.6535 - val_accuracy: 0.6400\n",
      "Epoch 135/300\n",
      "13/13 [==============================] - 0s 6ms/step - loss: 0.6579 - accuracy: 0.6327 - val_loss: 0.6535 - val_accuracy: 0.6400\n",
      "Epoch 136/300\n",
      "13/13 [==============================] - 0s 5ms/step - loss: 0.6582 - accuracy: 0.6327 - val_loss: 0.6535 - val_accuracy: 0.6400\n",
      "Epoch 137/300\n",
      "13/13 [==============================] - 0s 6ms/step - loss: 0.6579 - accuracy: 0.6327 - val_loss: 0.6535 - val_accuracy: 0.6400\n",
      "Epoch 138/300\n",
      "13/13 [==============================] - 0s 7ms/step - loss: 0.6578 - accuracy: 0.6327 - val_loss: 0.6535 - val_accuracy: 0.6400\n",
      "Epoch 139/300\n",
      "13/13 [==============================] - 0s 5ms/step - loss: 0.6579 - accuracy: 0.6327 - val_loss: 0.6536 - val_accuracy: 0.6400\n",
      "Epoch 140/300\n",
      "13/13 [==============================] - 0s 5ms/step - loss: 0.6582 - accuracy: 0.6327 - val_loss: 0.6537 - val_accuracy: 0.6400\n",
      "Epoch 141/300\n",
      "13/13 [==============================] - 0s 5ms/step - loss: 0.6575 - accuracy: 0.6327 - val_loss: 0.6537 - val_accuracy: 0.6400\n",
      "Epoch 142/300\n",
      "13/13 [==============================] - 0s 5ms/step - loss: 0.6583 - accuracy: 0.6327 - val_loss: 0.6539 - val_accuracy: 0.6400\n",
      "Epoch 143/300\n",
      "13/13 [==============================] - 0s 6ms/step - loss: 0.6578 - accuracy: 0.6327 - val_loss: 0.6540 - val_accuracy: 0.6400\n",
      "Epoch 144/300\n",
      "13/13 [==============================] - 0s 7ms/step - loss: 0.6584 - accuracy: 0.6327 - val_loss: 0.6537 - val_accuracy: 0.6400\n",
      "Epoch 145/300\n",
      "13/13 [==============================] - 0s 6ms/step - loss: 0.6572 - accuracy: 0.6327 - val_loss: 0.6537 - val_accuracy: 0.6400\n",
      "Epoch 146/300\n",
      "13/13 [==============================] - 0s 6ms/step - loss: 0.6578 - accuracy: 0.6327 - val_loss: 0.6537 - val_accuracy: 0.6400\n",
      "Epoch 147/300\n",
      "13/13 [==============================] - 0s 6ms/step - loss: 0.6583 - accuracy: 0.6327 - val_loss: 0.6537 - val_accuracy: 0.6400\n",
      "Epoch 148/300\n",
      "13/13 [==============================] - 0s 5ms/step - loss: 0.6593 - accuracy: 0.6327 - val_loss: 0.6538 - val_accuracy: 0.6400\n",
      "Epoch 149/300\n",
      "13/13 [==============================] - 0s 6ms/step - loss: 0.6572 - accuracy: 0.6327 - val_loss: 0.6538 - val_accuracy: 0.6400\n",
      "Epoch 150/300\n",
      "13/13 [==============================] - 0s 6ms/step - loss: 0.6575 - accuracy: 0.6327 - val_loss: 0.6537 - val_accuracy: 0.6400\n",
      "Epoch 151/300\n",
      "13/13 [==============================] - 0s 6ms/step - loss: 0.6584 - accuracy: 0.6327 - val_loss: 0.6538 - val_accuracy: 0.6400\n",
      "Epoch 152/300\n",
      "13/13 [==============================] - 0s 6ms/step - loss: 0.6576 - accuracy: 0.6327 - val_loss: 0.6536 - val_accuracy: 0.6400\n",
      "Epoch 153/300\n",
      "13/13 [==============================] - 0s 6ms/step - loss: 0.6576 - accuracy: 0.6327 - val_loss: 0.6537 - val_accuracy: 0.6400\n",
      "Epoch 154/300\n",
      "13/13 [==============================] - 0s 6ms/step - loss: 0.6561 - accuracy: 0.6327 - val_loss: 0.6536 - val_accuracy: 0.6400\n",
      "Epoch 155/300\n",
      "13/13 [==============================] - 0s 6ms/step - loss: 0.6581 - accuracy: 0.6327 - val_loss: 0.6537 - val_accuracy: 0.6400\n",
      "Epoch 156/300\n",
      "13/13 [==============================] - 0s 6ms/step - loss: 0.6581 - accuracy: 0.6327 - val_loss: 0.6537 - val_accuracy: 0.6400\n",
      "Epoch 157/300\n",
      "13/13 [==============================] - 0s 6ms/step - loss: 0.6575 - accuracy: 0.6327 - val_loss: 0.6536 - val_accuracy: 0.6400\n",
      "Epoch 158/300\n",
      "13/13 [==============================] - 0s 5ms/step - loss: 0.6568 - accuracy: 0.6327 - val_loss: 0.6536 - val_accuracy: 0.6400\n",
      "Epoch 159/300\n",
      "13/13 [==============================] - 0s 5ms/step - loss: 0.6580 - accuracy: 0.6327 - val_loss: 0.6536 - val_accuracy: 0.6400\n",
      "Epoch 160/300\n",
      "13/13 [==============================] - 0s 5ms/step - loss: 0.6584 - accuracy: 0.6327 - val_loss: 0.6536 - val_accuracy: 0.6400\n",
      "Epoch 161/300\n",
      "13/13 [==============================] - 0s 7ms/step - loss: 0.6577 - accuracy: 0.6327 - val_loss: 0.6536 - val_accuracy: 0.6400\n",
      "Epoch 162/300\n",
      "13/13 [==============================] - 0s 14ms/step - loss: 0.6575 - accuracy: 0.6327 - val_loss: 0.6535 - val_accuracy: 0.6400\n",
      "Epoch 163/300\n",
      "13/13 [==============================] - 0s 9ms/step - loss: 0.6580 - accuracy: 0.6327 - val_loss: 0.6535 - val_accuracy: 0.6400\n",
      "Epoch 164/300\n",
      "13/13 [==============================] - 0s 11ms/step - loss: 0.6576 - accuracy: 0.6327 - val_loss: 0.6537 - val_accuracy: 0.6400\n",
      "Epoch 165/300\n",
      "13/13 [==============================] - 0s 6ms/step - loss: 0.6575 - accuracy: 0.6327 - val_loss: 0.6537 - val_accuracy: 0.6400\n",
      "Epoch 166/300\n",
      "13/13 [==============================] - 0s 6ms/step - loss: 0.6576 - accuracy: 0.6327 - val_loss: 0.6539 - val_accuracy: 0.6400\n",
      "Epoch 167/300\n",
      "13/13 [==============================] - 0s 6ms/step - loss: 0.6581 - accuracy: 0.6327 - val_loss: 0.6539 - val_accuracy: 0.6400\n",
      "Epoch 168/300\n",
      "13/13 [==============================] - 0s 6ms/step - loss: 0.6568 - accuracy: 0.6327 - val_loss: 0.6540 - val_accuracy: 0.6400\n",
      "Epoch 169/300\n",
      "13/13 [==============================] - 0s 7ms/step - loss: 0.6569 - accuracy: 0.6327 - val_loss: 0.6539 - val_accuracy: 0.6400\n",
      "Epoch 170/300\n",
      "13/13 [==============================] - 0s 7ms/step - loss: 0.6574 - accuracy: 0.6327 - val_loss: 0.6537 - val_accuracy: 0.6400\n",
      "Epoch 171/300\n",
      "13/13 [==============================] - 0s 6ms/step - loss: 0.6578 - accuracy: 0.6327 - val_loss: 0.6539 - val_accuracy: 0.6400\n",
      "Epoch 172/300\n",
      "13/13 [==============================] - 0s 6ms/step - loss: 0.6577 - accuracy: 0.6327 - val_loss: 0.6539 - val_accuracy: 0.6400\n",
      "Epoch 173/300\n",
      "13/13 [==============================] - 0s 8ms/step - loss: 0.6581 - accuracy: 0.6327 - val_loss: 0.6538 - val_accuracy: 0.6400\n",
      "Epoch 174/300\n",
      "13/13 [==============================] - 0s 11ms/step - loss: 0.6578 - accuracy: 0.6327 - val_loss: 0.6538 - val_accuracy: 0.6400\n",
      "Epoch 175/300\n",
      "13/13 [==============================] - 0s 8ms/step - loss: 0.6579 - accuracy: 0.6327 - val_loss: 0.6538 - val_accuracy: 0.6400\n",
      "Epoch 176/300\n",
      "13/13 [==============================] - 0s 8ms/step - loss: 0.6578 - accuracy: 0.6327 - val_loss: 0.6537 - val_accuracy: 0.6400\n",
      "Epoch 177/300\n",
      "13/13 [==============================] - 0s 8ms/step - loss: 0.6579 - accuracy: 0.6327 - val_loss: 0.6537 - val_accuracy: 0.6400\n",
      "Epoch 178/300\n",
      "13/13 [==============================] - 0s 7ms/step - loss: 0.6575 - accuracy: 0.6327 - val_loss: 0.6537 - val_accuracy: 0.6400\n",
      "Epoch 179/300\n",
      "13/13 [==============================] - 0s 7ms/step - loss: 0.6577 - accuracy: 0.6327 - val_loss: 0.6539 - val_accuracy: 0.6400\n",
      "Epoch 180/300\n",
      "13/13 [==============================] - 0s 7ms/step - loss: 0.6579 - accuracy: 0.6327 - val_loss: 0.6540 - val_accuracy: 0.6400\n",
      "Epoch 181/300\n",
      "13/13 [==============================] - 0s 6ms/step - loss: 0.6574 - accuracy: 0.6327 - val_loss: 0.6540 - val_accuracy: 0.6400\n",
      "Epoch 182/300\n",
      "13/13 [==============================] - 0s 8ms/step - loss: 0.6594 - accuracy: 0.6327 - val_loss: 0.6538 - val_accuracy: 0.6400\n",
      "Epoch 183/300\n",
      "13/13 [==============================] - 0s 7ms/step - loss: 0.6589 - accuracy: 0.6327 - val_loss: 0.6538 - val_accuracy: 0.6400\n",
      "Epoch 184/300\n",
      "13/13 [==============================] - 0s 6ms/step - loss: 0.6580 - accuracy: 0.6327 - val_loss: 0.6539 - val_accuracy: 0.6400\n",
      "Epoch 185/300\n",
      "13/13 [==============================] - 0s 6ms/step - loss: 0.6568 - accuracy: 0.6327 - val_loss: 0.6537 - val_accuracy: 0.6400\n",
      "Epoch 186/300\n",
      "13/13 [==============================] - 0s 7ms/step - loss: 0.6579 - accuracy: 0.6327 - val_loss: 0.6537 - val_accuracy: 0.6400\n",
      "Epoch 187/300\n",
      "13/13 [==============================] - 0s 7ms/step - loss: 0.6580 - accuracy: 0.6327 - val_loss: 0.6537 - val_accuracy: 0.6400\n",
      "Epoch 188/300\n",
      "13/13 [==============================] - 0s 20ms/step - loss: 0.6585 - accuracy: 0.6327 - val_loss: 0.6537 - val_accuracy: 0.6400\n",
      "Epoch 189/300\n",
      "13/13 [==============================] - 0s 8ms/step - loss: 0.6583 - accuracy: 0.6327 - val_loss: 0.6537 - val_accuracy: 0.6400\n",
      "Epoch 190/300\n",
      "13/13 [==============================] - 0s 7ms/step - loss: 0.6571 - accuracy: 0.6327 - val_loss: 0.6536 - val_accuracy: 0.6400\n",
      "Epoch 191/300\n",
      "13/13 [==============================] - 0s 8ms/step - loss: 0.6582 - accuracy: 0.6327 - val_loss: 0.6536 - val_accuracy: 0.6400\n",
      "Epoch 192/300\n",
      "13/13 [==============================] - 0s 7ms/step - loss: 0.6576 - accuracy: 0.6327 - val_loss: 0.6537 - val_accuracy: 0.6400\n",
      "Epoch 193/300\n",
      "13/13 [==============================] - 0s 6ms/step - loss: 0.6580 - accuracy: 0.6327 - val_loss: 0.6537 - val_accuracy: 0.6400\n",
      "Epoch 194/300\n",
      "13/13 [==============================] - 0s 7ms/step - loss: 0.6566 - accuracy: 0.6327 - val_loss: 0.6537 - val_accuracy: 0.6400\n",
      "Epoch 195/300\n",
      "13/13 [==============================] - 0s 8ms/step - loss: 0.6571 - accuracy: 0.6327 - val_loss: 0.6538 - val_accuracy: 0.6400\n",
      "Epoch 196/300\n",
      "13/13 [==============================] - 0s 7ms/step - loss: 0.6582 - accuracy: 0.6327 - val_loss: 0.6537 - val_accuracy: 0.6400\n",
      "Epoch 197/300\n",
      "13/13 [==============================] - 0s 6ms/step - loss: 0.6576 - accuracy: 0.6327 - val_loss: 0.6538 - val_accuracy: 0.6400\n",
      "Epoch 198/300\n",
      "13/13 [==============================] - 0s 5ms/step - loss: 0.6582 - accuracy: 0.6327 - val_loss: 0.6536 - val_accuracy: 0.6400\n",
      "Epoch 199/300\n",
      "13/13 [==============================] - 0s 5ms/step - loss: 0.6582 - accuracy: 0.6327 - val_loss: 0.6536 - val_accuracy: 0.6400\n",
      "Epoch 200/300\n",
      "13/13 [==============================] - 0s 5ms/step - loss: 0.6575 - accuracy: 0.6327 - val_loss: 0.6536 - val_accuracy: 0.6400\n",
      "Epoch 201/300\n",
      "13/13 [==============================] - 0s 5ms/step - loss: 0.6573 - accuracy: 0.6327 - val_loss: 0.6536 - val_accuracy: 0.6400\n",
      "Epoch 202/300\n",
      "13/13 [==============================] - 0s 5ms/step - loss: 0.6581 - accuracy: 0.6327 - val_loss: 0.6536 - val_accuracy: 0.6400\n",
      "Epoch 203/300\n",
      "13/13 [==============================] - 0s 5ms/step - loss: 0.6579 - accuracy: 0.6327 - val_loss: 0.6535 - val_accuracy: 0.6400\n",
      "Epoch 204/300\n",
      "13/13 [==============================] - 0s 5ms/step - loss: 0.6580 - accuracy: 0.6327 - val_loss: 0.6536 - val_accuracy: 0.6400\n",
      "Epoch 205/300\n",
      "13/13 [==============================] - 0s 5ms/step - loss: 0.6576 - accuracy: 0.6327 - val_loss: 0.6536 - val_accuracy: 0.6400\n",
      "Epoch 206/300\n",
      "13/13 [==============================] - 0s 4ms/step - loss: 0.6579 - accuracy: 0.6327 - val_loss: 0.6535 - val_accuracy: 0.6400\n",
      "Epoch 207/300\n",
      "13/13 [==============================] - 0s 4ms/step - loss: 0.6576 - accuracy: 0.6327 - val_loss: 0.6536 - val_accuracy: 0.6400\n",
      "Epoch 208/300\n",
      "13/13 [==============================] - 0s 4ms/step - loss: 0.6577 - accuracy: 0.6327 - val_loss: 0.6536 - val_accuracy: 0.6400\n",
      "Epoch 209/300\n",
      "13/13 [==============================] - 0s 5ms/step - loss: 0.6577 - accuracy: 0.6327 - val_loss: 0.6537 - val_accuracy: 0.6400\n",
      "Epoch 210/300\n",
      "13/13 [==============================] - 0s 5ms/step - loss: 0.6582 - accuracy: 0.6327 - val_loss: 0.6537 - val_accuracy: 0.6400\n",
      "Epoch 211/300\n",
      "13/13 [==============================] - 0s 5ms/step - loss: 0.6576 - accuracy: 0.6327 - val_loss: 0.6536 - val_accuracy: 0.6400\n",
      "Epoch 212/300\n",
      "13/13 [==============================] - 0s 6ms/step - loss: 0.6578 - accuracy: 0.6327 - val_loss: 0.6536 - val_accuracy: 0.6400\n",
      "Epoch 213/300\n",
      "13/13 [==============================] - 0s 7ms/step - loss: 0.6577 - accuracy: 0.6327 - val_loss: 0.6535 - val_accuracy: 0.6400\n",
      "Epoch 214/300\n",
      "13/13 [==============================] - 0s 5ms/step - loss: 0.6577 - accuracy: 0.6327 - val_loss: 0.6536 - val_accuracy: 0.6400\n",
      "Epoch 215/300\n",
      "13/13 [==============================] - 0s 6ms/step - loss: 0.6572 - accuracy: 0.6327 - val_loss: 0.6535 - val_accuracy: 0.6400\n",
      "Epoch 216/300\n",
      "13/13 [==============================] - 0s 6ms/step - loss: 0.6566 - accuracy: 0.6327 - val_loss: 0.6535 - val_accuracy: 0.6400\n",
      "Epoch 217/300\n",
      "13/13 [==============================] - 0s 7ms/step - loss: 0.6584 - accuracy: 0.6327 - val_loss: 0.6535 - val_accuracy: 0.6400\n",
      "Epoch 218/300\n",
      "13/13 [==============================] - 0s 7ms/step - loss: 0.6577 - accuracy: 0.6327 - val_loss: 0.6535 - val_accuracy: 0.6400\n",
      "Epoch 219/300\n",
      "13/13 [==============================] - 0s 7ms/step - loss: 0.6573 - accuracy: 0.6327 - val_loss: 0.6535 - val_accuracy: 0.6400\n",
      "Epoch 220/300\n",
      "13/13 [==============================] - 0s 7ms/step - loss: 0.6572 - accuracy: 0.6327 - val_loss: 0.6534 - val_accuracy: 0.6400\n",
      "Epoch 221/300\n",
      "13/13 [==============================] - 0s 7ms/step - loss: 0.6588 - accuracy: 0.6327 - val_loss: 0.6534 - val_accuracy: 0.6400\n",
      "Epoch 222/300\n",
      "13/13 [==============================] - 0s 7ms/step - loss: 0.6573 - accuracy: 0.6327 - val_loss: 0.6534 - val_accuracy: 0.6400\n",
      "Epoch 223/300\n",
      "13/13 [==============================] - 0s 6ms/step - loss: 0.6572 - accuracy: 0.6327 - val_loss: 0.6534 - val_accuracy: 0.6400\n",
      "Epoch 224/300\n",
      "13/13 [==============================] - 0s 5ms/step - loss: 0.6582 - accuracy: 0.6327 - val_loss: 0.6535 - val_accuracy: 0.6400\n",
      "Epoch 225/300\n",
      "13/13 [==============================] - 0s 5ms/step - loss: 0.6569 - accuracy: 0.6327 - val_loss: 0.6535 - val_accuracy: 0.6400\n",
      "Epoch 226/300\n",
      "13/13 [==============================] - 0s 4ms/step - loss: 0.6581 - accuracy: 0.6327 - val_loss: 0.6535 - val_accuracy: 0.6400\n",
      "Epoch 227/300\n",
      "13/13 [==============================] - 0s 5ms/step - loss: 0.6578 - accuracy: 0.6327 - val_loss: 0.6534 - val_accuracy: 0.6400\n",
      "Epoch 228/300\n",
      "13/13 [==============================] - 0s 4ms/step - loss: 0.6584 - accuracy: 0.6327 - val_loss: 0.6534 - val_accuracy: 0.6400\n",
      "Epoch 229/300\n",
      "13/13 [==============================] - 0s 5ms/step - loss: 0.6576 - accuracy: 0.6327 - val_loss: 0.6534 - val_accuracy: 0.6400\n",
      "Epoch 230/300\n",
      "13/13 [==============================] - 0s 6ms/step - loss: 0.6579 - accuracy: 0.6327 - val_loss: 0.6534 - val_accuracy: 0.6400\n",
      "Epoch 231/300\n",
      "13/13 [==============================] - 0s 7ms/step - loss: 0.6575 - accuracy: 0.6327 - val_loss: 0.6534 - val_accuracy: 0.6400\n",
      "Epoch 232/300\n",
      "13/13 [==============================] - 0s 6ms/step - loss: 0.6577 - accuracy: 0.6327 - val_loss: 0.6534 - val_accuracy: 0.6400\n",
      "Epoch 233/300\n",
      "13/13 [==============================] - 0s 5ms/step - loss: 0.6577 - accuracy: 0.6327 - val_loss: 0.6534 - val_accuracy: 0.6400\n",
      "Epoch 234/300\n",
      "13/13 [==============================] - 0s 5ms/step - loss: 0.6571 - accuracy: 0.6327 - val_loss: 0.6534 - val_accuracy: 0.6400\n",
      "Epoch 235/300\n",
      "13/13 [==============================] - 0s 5ms/step - loss: 0.6574 - accuracy: 0.6327 - val_loss: 0.6534 - val_accuracy: 0.6400\n",
      "Epoch 236/300\n",
      "13/13 [==============================] - 0s 4ms/step - loss: 0.6583 - accuracy: 0.6327 - val_loss: 0.6534 - val_accuracy: 0.6400\n",
      "Epoch 237/300\n",
      "13/13 [==============================] - 0s 5ms/step - loss: 0.6580 - accuracy: 0.6327 - val_loss: 0.6534 - val_accuracy: 0.6400\n",
      "Epoch 238/300\n",
      "13/13 [==============================] - 0s 4ms/step - loss: 0.6575 - accuracy: 0.6327 - val_loss: 0.6534 - val_accuracy: 0.6400\n",
      "Epoch 239/300\n",
      "13/13 [==============================] - 0s 5ms/step - loss: 0.6579 - accuracy: 0.6327 - val_loss: 0.6534 - val_accuracy: 0.6400\n",
      "Epoch 240/300\n",
      "13/13 [==============================] - 0s 5ms/step - loss: 0.6584 - accuracy: 0.6327 - val_loss: 0.6534 - val_accuracy: 0.6400\n",
      "Epoch 241/300\n",
      "13/13 [==============================] - 0s 5ms/step - loss: 0.6573 - accuracy: 0.6327 - val_loss: 0.6534 - val_accuracy: 0.6400\n",
      "Epoch 242/300\n",
      "13/13 [==============================] - 0s 5ms/step - loss: 0.6575 - accuracy: 0.6327 - val_loss: 0.6534 - val_accuracy: 0.6400\n",
      "Epoch 243/300\n",
      "13/13 [==============================] - 0s 5ms/step - loss: 0.6574 - accuracy: 0.6327 - val_loss: 0.6534 - val_accuracy: 0.6400\n",
      "Epoch 244/300\n",
      "13/13 [==============================] - 0s 5ms/step - loss: 0.6566 - accuracy: 0.6327 - val_loss: 0.6534 - val_accuracy: 0.6400\n",
      "Epoch 245/300\n",
      "13/13 [==============================] - 0s 6ms/step - loss: 0.6573 - accuracy: 0.6327 - val_loss: 0.6534 - val_accuracy: 0.6400\n",
      "Epoch 246/300\n",
      "13/13 [==============================] - 0s 9ms/step - loss: 0.6577 - accuracy: 0.6327 - val_loss: 0.6534 - val_accuracy: 0.6400\n",
      "Epoch 247/300\n",
      "13/13 [==============================] - 0s 8ms/step - loss: 0.6578 - accuracy: 0.6327 - val_loss: 0.6534 - val_accuracy: 0.6400\n",
      "Epoch 248/300\n",
      "13/13 [==============================] - 0s 6ms/step - loss: 0.6571 - accuracy: 0.6327 - val_loss: 0.6534 - val_accuracy: 0.6400\n",
      "Epoch 249/300\n",
      "13/13 [==============================] - 0s 6ms/step - loss: 0.6588 - accuracy: 0.6327 - val_loss: 0.6535 - val_accuracy: 0.6400\n",
      "Epoch 250/300\n",
      "13/13 [==============================] - 0s 7ms/step - loss: 0.6569 - accuracy: 0.6327 - val_loss: 0.6534 - val_accuracy: 0.6400\n",
      "Epoch 251/300\n",
      "13/13 [==============================] - 0s 6ms/step - loss: 0.6569 - accuracy: 0.6327 - val_loss: 0.6534 - val_accuracy: 0.6400\n",
      "Epoch 252/300\n",
      "13/13 [==============================] - 0s 7ms/step - loss: 0.6578 - accuracy: 0.6327 - val_loss: 0.6535 - val_accuracy: 0.6400\n",
      "Epoch 253/300\n",
      "13/13 [==============================] - 0s 6ms/step - loss: 0.6572 - accuracy: 0.6327 - val_loss: 0.6535 - val_accuracy: 0.6400\n",
      "Epoch 254/300\n",
      "13/13 [==============================] - 0s 7ms/step - loss: 0.6573 - accuracy: 0.6327 - val_loss: 0.6535 - val_accuracy: 0.6400\n",
      "Epoch 255/300\n",
      "13/13 [==============================] - 0s 7ms/step - loss: 0.6580 - accuracy: 0.6327 - val_loss: 0.6535 - val_accuracy: 0.6400\n",
      "Epoch 256/300\n",
      "13/13 [==============================] - 0s 7ms/step - loss: 0.6569 - accuracy: 0.6327 - val_loss: 0.6535 - val_accuracy: 0.6400\n",
      "Epoch 257/300\n",
      "13/13 [==============================] - 0s 6ms/step - loss: 0.6574 - accuracy: 0.6327 - val_loss: 0.6535 - val_accuracy: 0.6400\n",
      "Epoch 258/300\n",
      "13/13 [==============================] - 0s 11ms/step - loss: 0.6574 - accuracy: 0.6327 - val_loss: 0.6535 - val_accuracy: 0.6400\n",
      "Epoch 259/300\n",
      "13/13 [==============================] - 0s 7ms/step - loss: 0.6584 - accuracy: 0.6327 - val_loss: 0.6536 - val_accuracy: 0.6400\n",
      "Epoch 260/300\n",
      "13/13 [==============================] - 0s 6ms/step - loss: 0.6579 - accuracy: 0.6327 - val_loss: 0.6536 - val_accuracy: 0.6400\n",
      "Epoch 261/300\n",
      "13/13 [==============================] - 0s 5ms/step - loss: 0.6570 - accuracy: 0.6327 - val_loss: 0.6535 - val_accuracy: 0.6400\n",
      "Epoch 262/300\n",
      "13/13 [==============================] - 0s 6ms/step - loss: 0.6570 - accuracy: 0.6327 - val_loss: 0.6536 - val_accuracy: 0.6400\n",
      "Epoch 263/300\n",
      "13/13 [==============================] - 0s 6ms/step - loss: 0.6570 - accuracy: 0.6327 - val_loss: 0.6536 - val_accuracy: 0.6400\n",
      "Epoch 264/300\n",
      "13/13 [==============================] - 0s 5ms/step - loss: 0.6579 - accuracy: 0.6327 - val_loss: 0.6536 - val_accuracy: 0.6400\n",
      "Epoch 265/300\n",
      "13/13 [==============================] - 0s 5ms/step - loss: 0.6568 - accuracy: 0.6327 - val_loss: 0.6536 - val_accuracy: 0.6400\n",
      "Epoch 266/300\n",
      "13/13 [==============================] - 0s 6ms/step - loss: 0.6577 - accuracy: 0.6327 - val_loss: 0.6537 - val_accuracy: 0.6400\n",
      "Epoch 267/300\n",
      "13/13 [==============================] - 0s 6ms/step - loss: 0.6575 - accuracy: 0.6327 - val_loss: 0.6537 - val_accuracy: 0.6400\n",
      "Epoch 268/300\n",
      "13/13 [==============================] - 0s 12ms/step - loss: 0.6584 - accuracy: 0.6327 - val_loss: 0.6536 - val_accuracy: 0.6400\n",
      "Epoch 269/300\n",
      "13/13 [==============================] - 0s 10ms/step - loss: 0.6571 - accuracy: 0.6327 - val_loss: 0.6536 - val_accuracy: 0.6400\n",
      "Epoch 270/300\n",
      "13/13 [==============================] - 0s 6ms/step - loss: 0.6580 - accuracy: 0.6327 - val_loss: 0.6535 - val_accuracy: 0.6400\n",
      "Epoch 271/300\n",
      "13/13 [==============================] - 0s 5ms/step - loss: 0.6588 - accuracy: 0.6327 - val_loss: 0.6535 - val_accuracy: 0.6400\n",
      "Epoch 272/300\n",
      "13/13 [==============================] - 0s 6ms/step - loss: 0.6576 - accuracy: 0.6327 - val_loss: 0.6535 - val_accuracy: 0.6400\n",
      "Epoch 273/300\n",
      "13/13 [==============================] - 0s 14ms/step - loss: 0.6574 - accuracy: 0.6327 - val_loss: 0.6535 - val_accuracy: 0.6400\n",
      "Epoch 274/300\n",
      "13/13 [==============================] - 0s 6ms/step - loss: 0.6581 - accuracy: 0.6327 - val_loss: 0.6536 - val_accuracy: 0.6400\n",
      "Epoch 275/300\n",
      "13/13 [==============================] - 0s 6ms/step - loss: 0.6584 - accuracy: 0.6327 - val_loss: 0.6536 - val_accuracy: 0.6400\n",
      "Epoch 276/300\n",
      "13/13 [==============================] - 0s 5ms/step - loss: 0.6576 - accuracy: 0.6327 - val_loss: 0.6535 - val_accuracy: 0.6400\n",
      "Epoch 277/300\n",
      "13/13 [==============================] - 0s 5ms/step - loss: 0.6582 - accuracy: 0.6327 - val_loss: 0.6535 - val_accuracy: 0.6400\n",
      "Epoch 278/300\n",
      "13/13 [==============================] - 0s 5ms/step - loss: 0.6586 - accuracy: 0.6327 - val_loss: 0.6535 - val_accuracy: 0.6400\n",
      "Epoch 279/300\n",
      "13/13 [==============================] - 0s 5ms/step - loss: 0.6575 - accuracy: 0.6327 - val_loss: 0.6535 - val_accuracy: 0.6400\n",
      "Epoch 280/300\n",
      "13/13 [==============================] - 0s 5ms/step - loss: 0.6583 - accuracy: 0.6327 - val_loss: 0.6535 - val_accuracy: 0.6400\n",
      "Epoch 281/300\n",
      "13/13 [==============================] - 0s 5ms/step - loss: 0.6579 - accuracy: 0.6327 - val_loss: 0.6536 - val_accuracy: 0.6400\n",
      "Epoch 282/300\n",
      "13/13 [==============================] - 0s 6ms/step - loss: 0.6575 - accuracy: 0.6327 - val_loss: 0.6537 - val_accuracy: 0.6400\n",
      "Epoch 283/300\n",
      "13/13 [==============================] - 0s 11ms/step - loss: 0.6577 - accuracy: 0.6327 - val_loss: 0.6538 - val_accuracy: 0.6400\n",
      "Epoch 284/300\n",
      "13/13 [==============================] - 0s 6ms/step - loss: 0.6580 - accuracy: 0.6327 - val_loss: 0.6537 - val_accuracy: 0.6400\n",
      "Epoch 285/300\n",
      "13/13 [==============================] - 0s 6ms/step - loss: 0.6577 - accuracy: 0.6327 - val_loss: 0.6538 - val_accuracy: 0.6400\n",
      "Epoch 286/300\n",
      "13/13 [==============================] - 0s 6ms/step - loss: 0.6593 - accuracy: 0.6327 - val_loss: 0.6538 - val_accuracy: 0.6400\n",
      "Epoch 287/300\n",
      "13/13 [==============================] - 0s 6ms/step - loss: 0.6579 - accuracy: 0.6327 - val_loss: 0.6538 - val_accuracy: 0.6400\n",
      "Epoch 288/300\n",
      "13/13 [==============================] - 0s 6ms/step - loss: 0.6579 - accuracy: 0.6327 - val_loss: 0.6538 - val_accuracy: 0.6400\n",
      "Epoch 289/300\n",
      "13/13 [==============================] - 0s 7ms/step - loss: 0.6579 - accuracy: 0.6327 - val_loss: 0.6539 - val_accuracy: 0.6400\n",
      "Epoch 290/300\n",
      "13/13 [==============================] - 0s 16ms/step - loss: 0.6573 - accuracy: 0.6327 - val_loss: 0.6538 - val_accuracy: 0.6400\n",
      "Epoch 291/300\n",
      "13/13 [==============================] - 0s 7ms/step - loss: 0.6584 - accuracy: 0.6327 - val_loss: 0.6538 - val_accuracy: 0.6400\n",
      "Epoch 292/300\n",
      "13/13 [==============================] - 0s 7ms/step - loss: 0.6573 - accuracy: 0.6327 - val_loss: 0.6538 - val_accuracy: 0.6400\n",
      "Epoch 293/300\n",
      "13/13 [==============================] - 0s 14ms/step - loss: 0.6575 - accuracy: 0.6327 - val_loss: 0.6537 - val_accuracy: 0.6400\n",
      "Epoch 294/300\n",
      "13/13 [==============================] - 0s 13ms/step - loss: 0.6580 - accuracy: 0.6327 - val_loss: 0.6538 - val_accuracy: 0.6400\n",
      "Epoch 295/300\n",
      "13/13 [==============================] - 0s 11ms/step - loss: 0.6573 - accuracy: 0.6327 - val_loss: 0.6538 - val_accuracy: 0.6400\n",
      "Epoch 296/300\n",
      "13/13 [==============================] - 0s 6ms/step - loss: 0.6577 - accuracy: 0.6327 - val_loss: 0.6537 - val_accuracy: 0.6400\n",
      "Epoch 297/300\n",
      "13/13 [==============================] - 0s 9ms/step - loss: 0.6572 - accuracy: 0.6327 - val_loss: 0.6536 - val_accuracy: 0.6400\n",
      "Epoch 298/300\n",
      "13/13 [==============================] - 0s 7ms/step - loss: 0.6591 - accuracy: 0.6327 - val_loss: 0.6536 - val_accuracy: 0.6400\n",
      "Epoch 299/300\n",
      "13/13 [==============================] - 0s 7ms/step - loss: 0.6578 - accuracy: 0.6327 - val_loss: 0.6535 - val_accuracy: 0.6400\n",
      "Epoch 300/300\n",
      "13/13 [==============================] - 0s 5ms/step - loss: 0.6572 - accuracy: 0.6327 - val_loss: 0.6535 - val_accuracy: 0.6400\n"
     ]
    }
   ],
   "source": [
    "history_2 = model_2.fit(df_Z_minMax, y_train, batch_size=8, epochs=num_epochs, verbose=1, validation_split=0.2)"
   ]
  },
  {
   "cell_type": "code",
   "execution_count": 281,
   "metadata": {},
   "outputs": [
    {
     "name": "stdout",
     "output_type": "stream",
     "text": [
      "2/2 [==============================] - 0s 3ms/step - loss: 0.6539 - accuracy: 0.6393\n",
      "dict_keys(['loss', 'accuracy'])\n",
      "Test Loss: 0.6538830399513245\n",
      "Test Accuracy: 0.6393442749977112\n"
     ]
    }
   ],
   "source": [
    "evaluation_2 = model_2.evaluate(df_Z_test_minMax, y_test, verbose=1, return_dict=True)\n",
    "\n",
    "print(evaluation_2.keys())\n",
    "\n",
    "print(\"Test Loss:\", evaluation_2['loss'])\n",
    "print(\"Test Accuracy:\", evaluation_2['accuracy'])"
   ]
  },
  {
   "cell_type": "markdown",
   "metadata": {},
   "source": [
    "Same issue: cannot predict class 0"
   ]
  },
  {
   "cell_type": "code",
   "execution_count": 289,
   "metadata": {},
   "outputs": [
    {
     "data": {
      "text/html": [
       "<div>\n",
       "<style scoped>\n",
       "    .dataframe tbody tr th:only-of-type {\n",
       "        vertical-align: middle;\n",
       "    }\n",
       "\n",
       "    .dataframe tbody tr th {\n",
       "        vertical-align: top;\n",
       "    }\n",
       "\n",
       "    .dataframe thead th {\n",
       "        text-align: right;\n",
       "    }\n",
       "</style>\n",
       "<table border=\"1\" class=\"dataframe\">\n",
       "  <thead>\n",
       "    <tr style=\"text-align: right;\">\n",
       "      <th></th>\n",
       "      <th>loss</th>\n",
       "      <th>accuracy</th>\n",
       "      <th>val_loss</th>\n",
       "      <th>val_accuracy</th>\n",
       "      <th>epoch</th>\n",
       "    </tr>\n",
       "  </thead>\n",
       "  <tbody>\n",
       "    <tr>\n",
       "      <th>46</th>\n",
       "      <td>0.658567</td>\n",
       "      <td>0.632653</td>\n",
       "      <td>0.653471</td>\n",
       "      <td>0.64</td>\n",
       "      <td>46</td>\n",
       "    </tr>\n",
       "    <tr>\n",
       "      <th>139</th>\n",
       "      <td>0.658594</td>\n",
       "      <td>0.632653</td>\n",
       "      <td>0.653622</td>\n",
       "      <td>0.64</td>\n",
       "      <td>139</td>\n",
       "    </tr>\n",
       "    <tr>\n",
       "      <th>85</th>\n",
       "      <td>0.657407</td>\n",
       "      <td>0.632653</td>\n",
       "      <td>0.653481</td>\n",
       "      <td>0.64</td>\n",
       "      <td>85</td>\n",
       "    </tr>\n",
       "  </tbody>\n",
       "</table>\n",
       "</div>"
      ],
      "text/plain": [
       "         loss  accuracy  val_loss  val_accuracy  epoch\n",
       "46   0.658567  0.632653  0.653471          0.64     46\n",
       "139  0.658594  0.632653  0.653622          0.64    139\n",
       "85   0.657407  0.632653  0.653481          0.64     85"
      ]
     },
     "execution_count": 289,
     "metadata": {},
     "output_type": "execute_result"
    }
   ],
   "source": [
    "hist_2 = pd.DataFrame(history.history)\n",
    "hist_2['epoch'] = history.epoch\n",
    "hist_2.sample(3)"
   ]
  },
  {
   "cell_type": "code",
   "execution_count": 290,
   "metadata": {},
   "outputs": [
    {
     "data": {
      "image/png": "[encoded data removed]",
      "text/plain": [
       "<Figure size 432x288 with 1 Axes>"
      ]
     },
     "metadata": {
      "needs_background": "light"
     },
     "output_type": "display_data"
    }
   ],
   "source": [
    "plot_learning_curves(hist_2)"
   ]
  },
  {
   "cell_type": "markdown",
   "metadata": {},
   "source": [
    "Our NN does not perform well and converge pretty quickly. Probably since we do not have a lot of data. NN usually perform well on larger data sets. Anyways we will try to add more neurons."
   ]
  },
  {
   "cell_type": "markdown",
   "metadata": {},
   "source": [
    "### Adding more Neurons"
   ]
  },
  {
   "cell_type": "code",
   "execution_count": 294,
   "metadata": {},
   "outputs": [],
   "source": [
    "model_3 = Sequential()\n",
    "model_3.add(Dense(df_Z_minMax.shape[1], activation= activation_function, kernel_initializer=kernel_initializer, input_shape=(df_Z_minMax.shape[1],)))\n",
    "model_3.add(Dense(3, activation= activation_function, kernel_initializer=kernel_initializer))\n",
    "model_3.add(Dense(6, activation= activation_function, kernel_initializer=kernel_initializer))\n",
    "model_3.add(Dense(6, activation= activation_function, kernel_initializer=kernel_initializer))\n",
    "model_3.add(Dropout(0.4))\n",
    "model_3.add(Dense(12, activation= activation_function, kernel_initializer=kernel_initializer))\n",
    "model_3.add(Dense(24, activation= activation_function, kernel_initializer=kernel_initializer))\n",
    "model_3.add(Dropout(0.3))\n",
    "model_3.add(Dense(48, activation= activation_function, kernel_initializer=kernel_initializer))\n",
    "model_3.add(Dense(48, activation= activation_function, kernel_initializer=kernel_initializer))\n",
    "model_3.add(Dropout(0.4))\n",
    "model_3.add(Dense(24, activation= activation_function, kernel_initializer=kernel_initializer))\n",
    "model_3.add(Dropout(0.3))\n",
    "model_3.add(Dense(12, activation= activation_function, kernel_initializer=kernel_initializer))\n",
    "model_3.add(Dropout(0.4))\n",
    "model_3.add(Dense(6, activation= activation_function, kernel_initializer=kernel_initializer))\n",
    "model_3.add(Dense(3, activation= activation_function, kernel_initializer=kernel_initializer))\n",
    "model_3.add(Dense(1 ,activation = \"softmax\", kernel_initializer=kernel_initializer))\n",
    "model_3.compile(optimizer=\"Adam\", loss=loss_function, metrics=['accuracy'])"
   ]
  },
  {
   "cell_type": "code",
   "execution_count": 295,
   "metadata": {},
   "outputs": [
    {
     "name": "stdout",
     "output_type": "stream",
     "text": [
      "Model: \"sequential_20\"\n",
      "_________________________________________________________________\n",
      " Layer (type)                Output Shape              Param #   \n",
      "=================================================================\n",
      " dense_131 (Dense)           (None, 3)                 12        \n",
      "                                                                 \n",
      " dense_132 (Dense)           (None, 3)                 12        \n",
      "                                                                 \n",
      " dense_133 (Dense)           (None, 6)                 24        \n",
      "                                                                 \n",
      " dense_134 (Dense)           (None, 6)                 42        \n",
      "                                                                 \n",
      " dense_135 (Dense)           (None, 9)                 63        \n",
      "                                                                 \n",
      " dense_136 (Dense)           (None, 9)                 90        \n",
      "                                                                 \n",
      " dropout_4 (Dropout)         (None, 9)                 0         \n",
      "                                                                 \n",
      " dense_137 (Dense)           (None, 9)                 90        \n",
      "                                                                 \n",
      " dense_138 (Dense)           (None, 9)                 90        \n",
      "                                                                 \n",
      " dense_139 (Dense)           (None, 9)                 90        \n",
      "                                                                 \n",
      " dropout_5 (Dropout)         (None, 9)                 0         \n",
      "                                                                 \n",
      " dense_140 (Dense)           (None, 6)                 60        \n",
      "                                                                 \n",
      " dense_141 (Dense)           (None, 3)                 21        \n",
      "                                                                 \n",
      " dense_142 (Dense)           (None, 3)                 12        \n",
      "                                                                 \n",
      " dense_143 (Dense)           (None, 1)                 4         \n",
      "                                                                 \n",
      "=================================================================\n",
      "Total params: 610\n",
      "Trainable params: 610\n",
      "Non-trainable params: 0\n",
      "_________________________________________________________________\n",
      "None\n"
     ]
    }
   ],
   "source": [
    "print(model.summary())"
   ]
  },
  {
   "cell_type": "markdown",
   "metadata": {},
   "source": [
    "#### Early Stopping\n",
    "Here we will use early stopping.\n",
    "\n",
    "Quote from keras:\n",
    "Stop training when a monitored metric has stopped improving."
   ]
  },
  {
   "cell_type": "code",
   "execution_count": 298,
   "metadata": {},
   "outputs": [],
   "source": [
    "Early_stopping = ks.callbacks.EarlyStopping(patience=10,restore_best_weights=True)"
   ]
  },
  {
   "cell_type": "code",
   "execution_count": 299,
   "metadata": {},
   "outputs": [
    {
     "name": "stdout",
     "output_type": "stream",
     "text": [
      "Epoch 1/200\n",
      "13/13 [==============================] - 0s 15ms/step - loss: 0.6568 - accuracy: 0.6327 - val_loss: 0.6542 - val_accuracy: 0.6400\n",
      "Epoch 2/200\n",
      "13/13 [==============================] - 0s 8ms/step - loss: 0.6588 - accuracy: 0.6327 - val_loss: 0.6541 - val_accuracy: 0.6400\n",
      "Epoch 3/200\n",
      "13/13 [==============================] - 0s 13ms/step - loss: 0.6542 - accuracy: 0.6327 - val_loss: 0.6542 - val_accuracy: 0.6400\n",
      "Epoch 4/200\n",
      "13/13 [==============================] - 0s 13ms/step - loss: 0.6618 - accuracy: 0.6327 - val_loss: 0.6540 - val_accuracy: 0.6400\n",
      "Epoch 5/200\n",
      "13/13 [==============================] - 0s 8ms/step - loss: 0.6614 - accuracy: 0.6327 - val_loss: 0.6539 - val_accuracy: 0.6400\n",
      "Epoch 6/200\n",
      "13/13 [==============================] - 0s 13ms/step - loss: 0.6561 - accuracy: 0.6327 - val_loss: 0.6537 - val_accuracy: 0.6400\n",
      "Epoch 7/200\n",
      "13/13 [==============================] - 0s 9ms/step - loss: 0.6585 - accuracy: 0.6327 - val_loss: 0.6536 - val_accuracy: 0.6400\n",
      "Epoch 8/200\n",
      "13/13 [==============================] - 0s 10ms/step - loss: 0.6560 - accuracy: 0.6327 - val_loss: 0.6535 - val_accuracy: 0.6400\n",
      "Epoch 9/200\n",
      "13/13 [==============================] - 0s 13ms/step - loss: 0.6550 - accuracy: 0.6327 - val_loss: 0.6535 - val_accuracy: 0.6400\n",
      "Epoch 10/200\n",
      "13/13 [==============================] - 0s 15ms/step - loss: 0.6627 - accuracy: 0.6327 - val_loss: 0.6536 - val_accuracy: 0.6400\n",
      "Epoch 11/200\n",
      "13/13 [==============================] - 0s 13ms/step - loss: 0.6558 - accuracy: 0.6327 - val_loss: 0.6538 - val_accuracy: 0.6400\n",
      "Epoch 12/200\n",
      "13/13 [==============================] - 0s 12ms/step - loss: 0.6576 - accuracy: 0.6327 - val_loss: 0.6539 - val_accuracy: 0.6400\n",
      "Epoch 13/200\n",
      "13/13 [==============================] - 0s 10ms/step - loss: 0.6529 - accuracy: 0.6327 - val_loss: 0.6538 - val_accuracy: 0.6400\n",
      "Epoch 14/200\n",
      "13/13 [==============================] - 0s 14ms/step - loss: 0.6633 - accuracy: 0.6327 - val_loss: 0.6538 - val_accuracy: 0.6400\n",
      "Epoch 15/200\n",
      "13/13 [==============================] - 0s 15ms/step - loss: 0.6607 - accuracy: 0.6327 - val_loss: 0.6538 - val_accuracy: 0.6400\n",
      "Epoch 16/200\n",
      "13/13 [==============================] - 0s 9ms/step - loss: 0.6516 - accuracy: 0.6327 - val_loss: 0.6539 - val_accuracy: 0.6400\n",
      "Epoch 17/200\n",
      "13/13 [==============================] - 0s 11ms/step - loss: 0.6526 - accuracy: 0.6327 - val_loss: 0.6537 - val_accuracy: 0.6400\n",
      "Epoch 18/200\n",
      "13/13 [==============================] - 0s 12ms/step - loss: 0.6527 - accuracy: 0.6327 - val_loss: 0.6535 - val_accuracy: 0.6400\n",
      "Epoch 19/200\n",
      "13/13 [==============================] - 0s 11ms/step - loss: 0.6567 - accuracy: 0.6327 - val_loss: 0.6535 - val_accuracy: 0.6400\n"
     ]
    }
   ],
   "source": [
    "history_3 = model_3.fit(df_Z_minMax, y_train, batch_size=8, epochs=num_epochs, verbose=1, validation_split=0.2, callbacks=Early_stopping)"
   ]
  },
  {
   "cell_type": "code",
   "execution_count": 280,
   "metadata": {},
   "outputs": [
    {
     "name": "stdout",
     "output_type": "stream",
     "text": [
      "2/2 [==============================] - 0s 6ms/step - loss: 0.6539 - accuracy: 0.6393\n",
      "dict_keys(['loss', 'accuracy'])\n",
      "Test Loss: 0.6538650393486023\n",
      "Test Accuracy: 0.6393442749977112\n"
     ]
    }
   ],
   "source": [
    "evaluation_3 = model_3.evaluate(df_Z_test_minMax, y_test, verbose=1, return_dict=True)\n",
    "\n",
    "print(evaluation_3.keys())\n",
    "\n",
    "print(\"Test Loss:\", evaluation_3['loss'])\n",
    "print(\"Test Accuracy:\", evaluation_3['accuracy'])"
   ]
  },
  {
   "cell_type": "markdown",
   "metadata": {},
   "source": [
    "Same issue: cannot predict class 0"
   ]
  },
  {
   "cell_type": "code",
   "execution_count": 291,
   "metadata": {},
   "outputs": [
    {
     "data": {
      "text/html": [
       "<div>\n",
       "<style scoped>\n",
       "    .dataframe tbody tr th:only-of-type {\n",
       "        vertical-align: middle;\n",
       "    }\n",
       "\n",
       "    .dataframe tbody tr th {\n",
       "        vertical-align: top;\n",
       "    }\n",
       "\n",
       "    .dataframe thead th {\n",
       "        text-align: right;\n",
       "    }\n",
       "</style>\n",
       "<table border=\"1\" class=\"dataframe\">\n",
       "  <thead>\n",
       "    <tr style=\"text-align: right;\">\n",
       "      <th></th>\n",
       "      <th>loss</th>\n",
       "      <th>accuracy</th>\n",
       "      <th>val_loss</th>\n",
       "      <th>val_accuracy</th>\n",
       "      <th>epoch</th>\n",
       "    </tr>\n",
       "  </thead>\n",
       "  <tbody>\n",
       "    <tr>\n",
       "      <th>294</th>\n",
       "      <td>0.658359</td>\n",
       "      <td>0.632653</td>\n",
       "      <td>0.653430</td>\n",
       "      <td>0.64</td>\n",
       "      <td>294</td>\n",
       "    </tr>\n",
       "    <tr>\n",
       "      <th>84</th>\n",
       "      <td>0.657452</td>\n",
       "      <td>0.632653</td>\n",
       "      <td>0.653494</td>\n",
       "      <td>0.64</td>\n",
       "      <td>84</td>\n",
       "    </tr>\n",
       "    <tr>\n",
       "      <th>187</th>\n",
       "      <td>0.657686</td>\n",
       "      <td>0.632653</td>\n",
       "      <td>0.653463</td>\n",
       "      <td>0.64</td>\n",
       "      <td>187</td>\n",
       "    </tr>\n",
       "  </tbody>\n",
       "</table>\n",
       "</div>"
      ],
      "text/plain": [
       "         loss  accuracy  val_loss  val_accuracy  epoch\n",
       "294  0.658359  0.632653  0.653430          0.64    294\n",
       "84   0.657452  0.632653  0.653494          0.64     84\n",
       "187  0.657686  0.632653  0.653463          0.64    187"
      ]
     },
     "execution_count": 291,
     "metadata": {},
     "output_type": "execute_result"
    }
   ],
   "source": [
    "hist_3 = pd.DataFrame(history.history)\n",
    "hist_3['epoch'] = history.epoch\n",
    "hist_3.sample(3)"
   ]
  },
  {
   "cell_type": "code",
   "execution_count": 292,
   "metadata": {},
   "outputs": [
    {
     "data": {
      "image/png": "[encoded data removed]",
      "text/plain": [
       "<Figure size 432x288 with 1 Axes>"
      ]
     },
     "metadata": {
      "needs_background": "light"
     },
     "output_type": "display_data"
    }
   ],
   "source": [
    "plot_learning_curves(hist_3)"
   ]
  },
  {
   "cell_type": "markdown",
   "metadata": {},
   "source": [
    "Our NN does not show much potential for improvements. I also tried the sklearn MLP implemenation with nearly the same results. "
   ]
  },
  {
   "cell_type": "markdown",
   "metadata": {},
   "source": [
    "# 5. Evaluation of the model predictions\n",
    "\n",
    "Here we will compare our models on their performance on the test set. On the models we used CV we will train them again on the whole dataset since our dataset is pretty small.\n",
    "\n",
    "In total we tried 3 different approaches:\n",
    "- SVC \n",
    "- Random Forest\n",
    "- NN\n",
    "\n",
    "Here we will compare and summarize all of their performances."
   ]
  },
  {
   "cell_type": "markdown",
   "metadata": {},
   "source": [
    "## 5.1 SVC Performance Review"
   ]
  },
  {
   "cell_type": "code",
   "execution_count": 313,
   "metadata": {},
   "outputs": [],
   "source": [
    "# call our svc models and train them again on the whole dataset\n",
    "\n",
    "svc_linear.fit(df_Z_std, y_train)\n",
    "svc_rbf.fit(df_Z_std, y_train)\n",
    "\n",
    "y_pred_svc_linear = svc_linear.predict(df_Z_test_std)\n",
    "y_pred_svc_rbf = svc_rbf.predict(df_Z_test_std)"
   ]
  },
  {
   "cell_type": "code",
   "execution_count": 315,
   "metadata": {},
   "outputs": [],
   "source": [
    "# get the accuracy on the test set:\n",
    "\n",
    "score_svc_linear = sk.metrics.accuracy_score(y_test, y_pred_svc_linear)\n",
    "score_svc_rbf = sk.metrics.accuracy_score(y_test, y_pred_svc_rbf)"
   ]
  },
  {
   "cell_type": "code",
   "execution_count": 317,
   "metadata": {},
   "outputs": [
    {
     "data": {
      "text/plain": [
       "array([[12, 10],\n",
       "       [ 8, 31]], dtype=int64)"
      ]
     },
     "execution_count": 317,
     "metadata": {},
     "output_type": "execute_result"
    }
   ],
   "source": [
    "sk.metrics.confusion_matrix(y_test, y_pred_svc_linear)"
   ]
  },
  {
   "cell_type": "code",
   "execution_count": 323,
   "metadata": {},
   "outputs": [
    {
     "data": {
      "text/plain": [
       "<sklearn.metrics._plot.confusion_matrix.ConfusionMatrixDisplay at 0x1a1a3947fc8>"
      ]
     },
     "execution_count": 323,
     "metadata": {},
     "output_type": "execute_result"
    },
    {
     "data": {
      "image/png": "[encoded data removed]",
      "text/plain": [
       "<Figure size 432x288 with 2 Axes>"
      ]
     },
     "metadata": {
      "needs_background": "light"
     },
     "output_type": "display_data"
    }
   ],
   "source": [
    "sk.metrics.ConfusionMatrixDisplay.from_predictions(y_test, y_pred_svc_linear)"
   ]
  },
  {
   "cell_type": "code",
   "execution_count": 324,
   "metadata": {},
   "outputs": [
    {
     "data": {
      "text/plain": [
       "<sklearn.metrics._plot.confusion_matrix.ConfusionMatrixDisplay at 0x1a1a7477ac8>"
      ]
     },
     "execution_count": 324,
     "metadata": {},
     "output_type": "execute_result"
    },
    {
     "data": {
      "image/png": "[encoded data removed]",
      "text/plain": [
       "<Figure size 432x288 with 2 Axes>"
      ]
     },
     "metadata": {
      "needs_background": "light"
     },
     "output_type": "display_data"
    }
   ],
   "source": [
    "sk.metrics.ConfusionMatrixDisplay.from_predictions(y_test, y_pred_svc_rbf)"
   ]
  },
  {
   "cell_type": "markdown",
   "metadata": {},
   "source": [
    "We can see that we are bad in predicting that the mean share price will fall. That may be since our dataset is unbalanced."
   ]
  },
  {
   "cell_type": "markdown",
   "metadata": {},
   "source": [
    "# 5.2 Random Forest Performance Review"
   ]
  },
  {
   "cell_type": "code",
   "execution_count": 327,
   "metadata": {},
   "outputs": [],
   "source": [
    "# call our svc models and train them again on the whole dataset\n",
    "rf_2 = RandomForestClassifier(\n",
    "    n_estimators=best_n_estimators,\n",
    "    max_depth=best_max_depth,\n",
    "    criterion=\"gini\",\n",
    "    min_samples_split=2,\n",
    "    min_samples_leaf=1,\n",
    "    random_state=2022\n",
    ")\n",
    "\n",
    "rf_2.fit(df_Z_std, y_train)\n",
    "\n",
    "y_pred_rf_2 = rf_2.predict(df_Z_test_std)\n",
    "\n",
    "# get the accuracy on the test set:\n",
    "\n",
    "score_rf_2 = sk.metrics.accuracy_score(y_test, y_pred_rf_2)"
   ]
  },
  {
   "cell_type": "code",
   "execution_count": 328,
   "metadata": {},
   "outputs": [
    {
     "data": {
      "text/plain": [
       "<sklearn.metrics._plot.confusion_matrix.ConfusionMatrixDisplay at 0x1a1a5faae88>"
      ]
     },
     "execution_count": 328,
     "metadata": {},
     "output_type": "execute_result"
    },
    {
     "data": {
      "image/png": "[encoded data removed]",
      "text/plain": [
       "<Figure size 432x288 with 2 Axes>"
      ]
     },
     "metadata": {
      "needs_background": "light"
     },
     "output_type": "display_data"
    }
   ],
   "source": [
    "sk.metrics.ConfusionMatrixDisplay.from_predictions(y_test, y_pred_rf_2)"
   ]
  },
  {
   "cell_type": "markdown",
   "metadata": {},
   "source": [
    "Nearly the same issue like the svc but slightly better performance. We will see the overall performance later."
   ]
  },
  {
   "cell_type": "markdown",
   "metadata": {},
   "source": [
    "## 5.3 NN Performance Review\n",
    "\n",
    "We have seen that our NN is not able to predict class 0. Anyways we will review the performance."
   ]
  },
  {
   "cell_type": "code",
   "execution_count": 329,
   "metadata": {},
   "outputs": [
    {
     "name": "stdout",
     "output_type": "stream",
     "text": [
      "2/2 [==============================] - 0s 14ms/step - loss: 0.6538 - accuracy: 0.6393\n",
      "Test Accuracy: 0.6393442749977112\n"
     ]
    }
   ],
   "source": [
    "evaluation_3 = model_3.evaluate(df_Z_test_minMax, y_test, verbose=1, return_dict=True)\n",
    "print(\"Test Accuracy:\", evaluation_3['accuracy'])"
   ]
  },
  {
   "cell_type": "code",
   "execution_count": 337,
   "metadata": {},
   "outputs": [],
   "source": [
    "y_pred_nn = model_3.predict(df_Z_test_minMax)\n",
    "\n",
    "score_nn = sk.metrics.accuracy_score(y_test, y_pred_nn)"
   ]
  },
  {
   "cell_type": "code",
   "execution_count": 338,
   "metadata": {},
   "outputs": [
    {
     "data": {
      "text/plain": [
       "<sklearn.metrics._plot.confusion_matrix.ConfusionMatrixDisplay at 0x1a1aae7af08>"
      ]
     },
     "execution_count": 338,
     "metadata": {},
     "output_type": "execute_result"
    },
    {
     "data": {
      "image/png": "[encoded data removed]",
      "text/plain": [
       "<Figure size 432x288 with 2 Axes>"
      ]
     },
     "metadata": {
      "needs_background": "light"
     },
     "output_type": "display_data"
    }
   ],
   "source": [
    "sk.metrics.ConfusionMatrixDisplay.from_predictions(y_test, y_pred_nn)"
   ]
  },
  {
   "cell_type": "markdown",
   "metadata": {},
   "source": [
    "## 5.4 Overall Comparison"
   ]
  },
  {
   "cell_type": "code",
   "execution_count": 350,
   "metadata": {},
   "outputs": [
    {
     "data": {
      "text/plain": [
       "<BarContainer object of 4 artists>"
      ]
     },
     "execution_count": 350,
     "metadata": {},
     "output_type": "execute_result"
    },
    {
     "data": {
      "image/png": "[encoded data removed]",
      "text/plain": [
       "<Figure size 432x288 with 1 Axes>"
      ]
     },
     "metadata": {
      "needs_background": "light"
     },
     "output_type": "display_data"
    }
   ],
   "source": [
    "# save results in array:\n",
    "\n",
    "results = {\n",
    "    \"score_nn\":score_nn,\n",
    "    \"score_rf_2\": score_rf_2,\n",
    "    \"score_svc_linear\": score_svc_linear,\n",
    "    \"score_svc_rbf\": score_svc_rbf}\n",
    "\n",
    "plt.bar(results.keys(), results.values(), width= 0.5)\n",
    "\n",
    "#df_results.plot.bar( grid = True,ylim = 0.8,figsize = (10,10) )"
   ]
  },
  {
   "cell_type": "markdown",
   "metadata": {},
   "source": [
    "# 6 Lessons Learnt and Conclusion"
   ]
  },
  {
   "cell_type": "markdown",
   "metadata": {},
   "source": [
    "What was our goal?\n",
    "------------------\n",
    "\n",
    "Our goal was:\n",
    "- Creating a tool that helps us investing in the right moment.\n",
    "\n",
    "Our question was: \n",
    "- Can we use data driven methods to predict whether the 45 days mean of the apple share price will be higher or lower than the last 45 days?\n",
    "\n",
    "\n",
    "What did we learn?\n",
    "------------------\n",
    "\n",
    "1. Simple is better than complex:\n",
    "- Our classic ML approaches could outperform the NN and could perform better than randomly guessing (acc = 0.5) or always guessing class 1 (acc = 0.63).\n",
    "- Our NN could not perform well on our simplified dataset. I suspect that the data set was too small, but I can't rule out the possibility that I made a mistake in the implementation.\n",
    "\n",
    "2. Complex is better than complicated:\n",
    "- Eventhough our feature engineering is very complex, it helps us understanding the predictions of our algorithms. We can plot the shapelets and the distances to these shapelets. That helps us explaining our predictions (explainable AI/ XAI). This can be helpful when you're standing in front of your boss at Goldman Sachs trying to explain why you think a $6 million short position on Apple stock is a good idea.\n",
    "\n",
    "3. The Feature Extraction Model is our weak spot\n",
    "- We have seen that eventhough hyperparameter tuning and state of the art ML models for binary classification had a limit on this dataset. In my opinion, optimizing the feature extraction algorithm could lead to better data and to higher accuracy of our models.\n",
    "\n",
    "\n",
    "What we could have done better?\n",
    "--------------------------------\n",
    "\n",
    "1. With more time we could have try out different approaches for feature extraction e.g. extracting the local slope of the time series as feature\n",
    "2. We could try on different datasets. The apple stock was nearly constantly rising the last decade what lead to a imbalanced dataset.\n",
    " \n",
    "\n",
    "Conclusion:\n",
    "-----------\n",
    "Our models are better than random guessing and better than always betting on class 1, yet I would not bet my money based on these predictions. There is potential for more!\n",
    "\n"
   ]
  },
  {
   "cell_type": "markdown",
   "metadata": {},
   "source": []
  }
 ],
 "metadata": {
  "interpreter": {
   "hash": "e6e93e0b8a586dcc56b009fc4d2f1ddcc0162677b113f049988ccd307bfce399"
  },
  "kernelspec": {
   "display_name": "venv_dde1",
   "language": "python",
   "name": "python3"
  },
  "language_info": {
   "codemirror_mode": {
    "name": "ipython",
    "version": 3
   },
   "file_extension": ".py",
   "mimetype": "text/x-python",
   "name": "python",
   "nbconvert_exporter": "python",
   "pygments_lexer": "ipython3",
   "version": "3.7.11"
  },
  "orig_nbformat": 2
 },
 "nbformat": 4,
 "nbformat_minor": 2
}
